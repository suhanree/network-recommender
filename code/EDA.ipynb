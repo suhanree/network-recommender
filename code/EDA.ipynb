{
 "cells": [
  {
   "cell_type": "markdown",
   "metadata": {},
   "source": [
    "# Exploratory Data Analysis"
   ]
  },
  {
   "cell_type": "code",
   "execution_count": 1,
   "metadata": {
    "collapsed": true
   },
   "outputs": [],
   "source": [
    "# importing necessary libraries\n",
    "import pandas as pd\n",
    "import numpy as np\n",
    "import json\n",
    "import csv\n",
    "import os\n",
    "import cPickle as pickle\n",
    "from collections import Counter\n",
    "\n",
    "from sklearn.cluster import KMeans\n",
    "\n",
    "from my_utilities import read_json_file\n",
    "import matplotlib.pyplot as plt\n",
    "%matplotlib inline"
   ]
  },
  {
   "cell_type": "markdown",
   "metadata": {},
   "source": [
    "##Reading the data (stored as dataframes in pickled files)"
   ]
  },
  {
   "cell_type": "code",
   "execution_count": 2,
   "metadata": {
    "collapsed": false
   },
   "outputs": [],
   "source": [
    "# Loading the pickled data frames from users, businesses, and reviews.\n",
    "# Assuming these data frames were obtained already using 'make_dataframes.py'\n",
    "dataframe_pickle_filename = '../data/dataframes.pkl'\n",
    "with open(dataframe_pickle_filename, 'r') as f:\n",
    "    (user_df, business_df, review_df) = pickle.load(f)"
   ]
  },
  {
   "cell_type": "markdown",
   "metadata": {},
   "source": [
    "## Find cities for businesses using k-means."
   ]
  },
  {
   "cell_type": "code",
   "execution_count": 3,
   "metadata": {
    "collapsed": true
   },
   "outputs": [],
   "source": [
    "X = business_df[['business_latitude', 'business_longitude']].values"
   ]
  },
  {
   "cell_type": "code",
   "execution_count": 4,
   "metadata": {
    "collapsed": true
   },
   "outputs": [],
   "source": [
    "km = KMeans(10, n_jobs=8)"
   ]
  },
  {
   "cell_type": "code",
   "execution_count": 5,
   "metadata": {
    "collapsed": true
   },
   "outputs": [],
   "source": [
    "y = km.fit_predict(X)"
   ]
  },
  {
   "cell_type": "code",
   "execution_count": 6,
   "metadata": {
    "collapsed": false
   },
   "outputs": [
    {
     "data": {
      "text/plain": [
       "<matplotlib.collections.PathCollection at 0x7f4489ffaf90>"
      ]
     },
     "execution_count": 6,
     "metadata": {},
     "output_type": "execute_result"
    },
    {
     "data": {
      "image/png": "[encoded data removed]",
      "text/plain": [
       "<matplotlib.figure.Figure at 0x7f448dcbde50>"
      ]
     },
     "metadata": {},
     "output_type": "display_data"
    }
   ],
   "source": [
    "plt.scatter(X[:,1], X[:,0])"
   ]
  },
  {
   "cell_type": "code",
   "execution_count": 7,
   "metadata": {
    "collapsed": false
   },
   "outputs": [],
   "source": [
    "city_locations = km.cluster_centers_"
   ]
  },
  {
   "cell_type": "code",
   "execution_count": 28,
   "metadata": {
    "collapsed": true
   },
   "outputs": [],
   "source": [
    "n_businesses_per_city = Counter(y).most_common()"
   ]
  },
  {
   "cell_type": "code",
   "execution_count": 29,
   "metadata": {
    "collapsed": false
   },
   "outputs": [],
   "source": [
    "sorted_y = [c[0] for c in n_businesses_per_city]\n",
    "sorted_y_map = {}                                                            \n",
    "for i in range(10):                                                      \n",
    "      sorted_y_map[sorted_y[i]] = i"
   ]
  },
  {
   "cell_type": "code",
   "execution_count": 30,
   "metadata": {
    "collapsed": false
   },
   "outputs": [],
   "source": [
    "business_df['business_city_int'] = map(lambda i: sorted_y_map[i], y)"
   ]
  },
  {
   "cell_type": "code",
   "execution_count": 31,
   "metadata": {
    "collapsed": false
   },
   "outputs": [],
   "source": [
    "city_names = ['Phoenix', 'Las Vegas', 'Charlotte', 'Montreal', 'Edinburgh', 'Pittsburgh',  'Madison', 'Karlsruhe',\n",
    "              'Urbana-Champaign', 'Waterloo']"
   ]
  },
  {
   "cell_type": "markdown",
   "metadata": {},
   "source": [
    "## Find reviews for businesses in each city"
   ]
  },
  {
   "cell_type": "code",
   "execution_count": 32,
   "metadata": {
    "collapsed": false
   },
   "outputs": [],
   "source": [
    "# Dataframe with the reviews (with business city).\n",
    "review_city_df = business_df[['business_id_int', 'business_city_int']].merge(review_df, on=['business_id_int'], how='inner')"
   ]
  },
  {
   "cell_type": "code",
   "execution_count": 35,
   "metadata": {
    "collapsed": false
   },
   "outputs": [],
   "source": [
    "# Reviews for three specific cities.\n",
    "review_phoenix = review_city_df[review_city_df.business_city_int == 0].drop(['business_city_int'], axis=1)   # Phoenix\n",
    "review_lasvegas = review_city_df[review_city_df.business_city_int == 1].drop(['business_city_int'], axis=1)  # Las Vegas\n",
    "review_montreal = review_city_df[review_city_df.business_city_int == 3].drop(['business_city_int'], axis=1)  # Montreal"
   ]
  },
  {
   "cell_type": "code",
   "execution_count": 36,
   "metadata": {
    "collapsed": false
   },
   "outputs": [
    {
     "data": {
      "text/plain": [
       "(13861, 128330, 181712)"
      ]
     },
     "execution_count": 36,
     "metadata": {},
     "output_type": "execute_result"
    }
   ],
   "source": [
    "len(review_montreal.user_id_int.unique()), len(review_phoenix.user_id_int.unique()), len(review_lasvegas.user_id_int.unique()), "
   ]
  },
  {
   "cell_type": "code",
   "execution_count": 37,
   "metadata": {
    "collapsed": false
   },
   "outputs": [
    {
     "data": {
      "text/plain": [
       "(3918, 25225, 16469)"
      ]
     },
     "execution_count": 37,
     "metadata": {},
     "output_type": "execute_result"
    }
   ],
   "source": [
    "len(review_montreal.business_id_int.unique()), len(review_phoenix.business_id_int.unique()), len(review_lasvegas.business_id_int.unique()), "
   ]
  },
  {
   "cell_type": "code",
   "execution_count": 38,
   "metadata": {
    "collapsed": false
   },
   "outputs": [
    {
     "name": "stdout",
     "output_type": "stream",
     "text": [
      "49484 591192 679460\n"
     ]
    }
   ],
   "source": [
    "print review_montreal.shape[0], review_phoenix.shape[0], review_lasvegas.shape[0],"
   ]
  },
  {
   "cell_type": "code",
   "execution_count": 41,
   "metadata": {
    "collapsed": false
   },
   "outputs": [
    {
     "data": {
      "text/plain": [
       "<matplotlib.collections.PathCollection at 0x7f4489cbaa10>"
      ]
     },
     "execution_count": 41,
     "metadata": {},
     "output_type": "execute_result"
    },
    {
     "data": {
      "image/png": "[encoded data removed]",
      "text/plain": [
       "<matplotlib.figure.Figure at 0x7f4489dd60d0>"
      ]
     },
     "metadata": {},
     "output_type": "display_data"
    }
   ],
   "source": [
    "# Check the clustering was done correctly.\n",
    "X = business_df[business_df.business_city_int==1][['business_latitude', 'business_longitude']].values\n",
    "plt.scatter(X[:,1], X[:,0])"
   ]
  },
  {
   "cell_type": "markdown",
   "metadata": {},
   "source": [
    "## Trying to understand the data"
   ]
  },
  {
   "cell_type": "markdown",
   "metadata": {},
   "source": [
    "### Number of reviews per user."
   ]
  },
  {
   "cell_type": "code",
   "execution_count": 42,
   "metadata": {
    "collapsed": false
   },
   "outputs": [
    {
     "data": {
      "text/plain": [
       "<matplotlib.axes._subplots.AxesSubplot at 0x7f4489cf3690>"
      ]
     },
     "execution_count": 42,
     "metadata": {},
     "output_type": "execute_result"
    },
    {
     "data": {
      "image/png": "[encoded data removed]",
      "text/plain": [
       "<matplotlib.figure.Figure at 0x7f4489ebdf10>"
      ]
     },
     "metadata": {},
     "output_type": "display_data"
    }
   ],
   "source": [
    "plt.ylim([100,100000])\n",
    "plt.gca().set_xscale(\"log\")\n",
    "plt.yscale('log')\n",
    "plt.title('Number of reviews per user')\n",
    "plt.xlabel('Number of reviews')\n",
    "plt.ylabel('Number of users')\n",
    "user_df.user_review_count.hist(bins=np.logspace(0.1, 3.5, 20))"
   ]
  },
  {
   "cell_type": "markdown",
   "metadata": {},
   "source": [
    "Users have at least 1 review."
   ]
  },
  {
   "cell_type": "markdown",
   "metadata": {},
   "source": [
    "### Number of reviews per business."
   ]
  },
  {
   "cell_type": "code",
   "execution_count": 43,
   "metadata": {
    "collapsed": false
   },
   "outputs": [
    {
     "data": {
      "text/plain": [
       "<matplotlib.axes._subplots.AxesSubplot at 0x7f4489b72090>"
      ]
     },
     "execution_count": 43,
     "metadata": {},
     "output_type": "execute_result"
    },
    {
     "data": {
      "image/png": "[encoded data removed]",
      "text/plain": [
       "<matplotlib.figure.Figure at 0x7f4489e01f50>"
      ]
     },
     "metadata": {},
     "output_type": "display_data"
    }
   ],
   "source": [
    "plt.ylim([10, 10000])\n",
    "plt.gca().set_xscale(\"log\")\n",
    "plt.yscale('log')\n",
    "plt.title('Number of reviews per business')\n",
    "plt.xlabel('Number of reviews')\n",
    "plt.ylabel('Number of businesses')\n",
    "business_df.business_review_count.hist(bins=np.logspace(0.45, 3.5, 30))"
   ]
  },
  {
   "cell_type": "code",
   "execution_count": 44,
   "metadata": {
    "collapsed": false
   },
   "outputs": [
    {
     "data": {
      "text/plain": [
       "3"
      ]
     },
     "execution_count": 44,
     "metadata": {},
     "output_type": "execute_result"
    }
   ],
   "source": [
    "business_df.business_review_count.min()"
   ]
  },
  {
   "cell_type": "markdown",
   "metadata": {},
   "source": [
    "Businesses have at least 3 reviews."
   ]
  },
  {
   "cell_type": "markdown",
   "metadata": {},
   "source": [
    "### Some counts per city"
   ]
  },
  {
   "cell_type": "code",
   "execution_count": 45,
   "metadata": {
    "collapsed": false
   },
   "outputs": [],
   "source": [
    "n_users = float(user_df.shape[0])\n",
    "n_businesses = float(business_df.shape[0])\n",
    "n_reviews = float(review_df.shape[0])\n",
    "users_by_city = np.array(review_city_df.groupby('business_city_int').user_id_int.nunique()) / n_users\n",
    "businessess_by_city = np.array(review_city_df.groupby('business_city_int').business_id_int.nunique()) / n_businesses\n",
    "reviews_by_city = np.array(review_city_df.groupby('business_city_int').user_id_int.count()) / n_reviews"
   ]
  },
  {
   "cell_type": "code",
   "execution_count": 46,
   "metadata": {
    "collapsed": false
   },
   "outputs": [
    {
     "data": {
      "image/png": "[encoded data removed]",
      "text/plain": [
       "<matplotlib.figure.Figure at 0x7f4489cd6bd0>"
      ]
     },
     "metadata": {},
     "output_type": "display_data"
    }
   ],
   "source": [
    "fig = plt.figure()\n",
    "ax = fig.add_subplot(111)\n",
    "\n",
    "ind = np.arange(10) # the x locations for the groups\n",
    "width = 0.25        # the width of the bars\n",
    "\n",
    "## the bars\n",
    "rects0 = ax.bar(ind, users_by_city, width, color='r')\n",
    "rects1 = ax.bar(ind + width, businessess_by_city, width, color='g')\n",
    "rects2 = ax.bar(ind + 2 * width, reviews_by_city, width, color='b')\n",
    "\n",
    "# axes and labels\n",
    "ax.set_xlim(-width, len(ind) + width)\n",
    "ax.set_ylim(0,0.6)\n",
    "ax.set_ylabel('ratios')\n",
    "ax.set_title('Some counts by group')\n",
    "ax.set_xticks(ind + 1.5*width)\n",
    "xtickNames = ax.set_xticklabels(city_names)\n",
    "plt.setp(xtickNames, rotation=90, fontsize=10)\n",
    "\n",
    "## add a legend\n",
    "ax.legend((rects0[0], rects1[0], rects2[0]), ('User', 'Business', 'Review'))\n",
    "plt.show()"
   ]
  },
  {
   "cell_type": "markdown",
   "metadata": {},
   "source": [
    "Phoenix and Las Vegas are two biggest cities here. A unique characteristic we can see is that in Las Vegas the number of users is much greater than the number of businesses; on the other hand, in Phoenix, the number of businesses is greater than the number of users. At first, I assumed there might be many tourists in Las Vegas, but based on counts below, there are not many users who leave reviews in multiple cities (only 5%). Then two possible explanations are: (1) there are just many more users than businesses, (2) users in Las Vegas are much more active."
   ]
  },
  {
   "cell_type": "markdown",
   "metadata": {},
   "source": [
    "### Number of cities per user"
   ]
  },
  {
   "cell_type": "markdown",
   "metadata": {},
   "source": [
    "Here trying to find how many cities each user left reviews."
   ]
  },
  {
   "cell_type": "code",
   "execution_count": 47,
   "metadata": {
    "collapsed": false
   },
   "outputs": [],
   "source": [
    "cities_by_user = np.array(review_city_df.groupby('user_id_int').business_city_int.nunique())"
   ]
  },
  {
   "cell_type": "code",
   "execution_count": 48,
   "metadata": {
    "collapsed": false
   },
   "outputs": [
    {
     "data": {
      "text/plain": [
       "0.95011112171577383"
      ]
     },
     "execution_count": 48,
     "metadata": {},
     "output_type": "execute_result"
    }
   ],
   "source": [
    "sum(cities_by_user == 1) / float(n_users)"
   ]
  },
  {
   "cell_type": "code",
   "execution_count": 49,
   "metadata": {
    "collapsed": false
   },
   "outputs": [
    {
     "data": {
      "text/plain": [
       "0.045563993837176006"
      ]
     },
     "execution_count": 49,
     "metadata": {},
     "output_type": "execute_result"
    }
   ],
   "source": [
    "sum(cities_by_user == 2) / float(n_users)"
   ]
  },
  {
   "cell_type": "code",
   "execution_count": 50,
   "metadata": {
    "collapsed": false
   },
   "outputs": [
    {
     "data": {
      "text/plain": [
       "0.0043248844470501618"
      ]
     },
     "execution_count": 50,
     "metadata": {},
     "output_type": "execute_result"
    }
   ],
   "source": [
    "sum(cities_by_user > 2) / float(n_users)"
   ]
  },
  {
   "cell_type": "markdown",
   "metadata": {},
   "source": [
    "Most of users left reviews in only one city (95 %), and 4.56 % of users left reviews in one city. There are only 0.43 % of users who left reviews in more than two cities."
   ]
  },
  {
   "cell_type": "markdown",
   "metadata": {},
   "source": [
    "### Degree distribution"
   ]
  },
  {
   "cell_type": "markdown",
   "metadata": {},
   "source": [
    "Now we can look at the network structure. The easiest stat we can look is the degree distribution."
   ]
  },
  {
   "cell_type": "code",
   "execution_count": 51,
   "metadata": {
    "collapsed": true
   },
   "outputs": [],
   "source": [
    "degrees = np.loadtxt(\"../data/degrees\")"
   ]
  },
  {
   "cell_type": "code",
   "execution_count": 53,
   "metadata": {
    "collapsed": false
   },
   "outputs": [
    {
     "data": {
      "text/plain": [
       "<matplotlib.axes._subplots.AxesSubplot at 0x7f4489c08e10>"
      ]
     },
     "execution_count": 53,
     "metadata": {},
     "output_type": "execute_result"
    },
    {
     "data": {
      "image/png": "[encoded data removed]",
      "text/plain": [
       "<matplotlib.figure.Figure at 0x7f4489745910>"
      ]
     },
     "metadata": {},
     "output_type": "display_data"
    }
   ],
   "source": [
    "plt.ylim([5, 20000])\n",
    "plt.gca().set_xscale(\"log\")\n",
    "plt.yscale('log')\n",
    "plt.title('Degree Distribution')\n",
    "plt.xlabel('Number of users')\n",
    "plt.ylabel('degree')\n",
    "business_df.business_review_count.hist(bins=np.logspace(0.1, 4, 25))"
   ]
  },
  {
   "cell_type": "code",
   "execution_count": 54,
   "metadata": {
    "collapsed": true
   },
   "outputs": [],
   "source": [
    "cities = [0, 1, 3]"
   ]
  },
  {
   "cell_type": "code",
   "execution_count": 56,
   "metadata": {
    "collapsed": false
   },
   "outputs": [],
   "source": [
    "cities_by_user = review_city_df.groupby('user_id_int', sort=True).business_city_int.unique()                                               \n",
    "user_city_int = -np.ones(n_users)"
   ]
  },
  {
   "cell_type": "code",
   "execution_count": 61,
   "metadata": {
    "collapsed": false
   },
   "outputs": [
    {
     "data": {
      "text/plain": [
       "366715.0"
      ]
     },
     "execution_count": 61,
     "metadata": {},
     "output_type": "execute_result"
    }
   ],
   "source": [
    "n_users"
   ]
  },
  {
   "cell_type": "code",
   "execution_count": 165,
   "metadata": {
    "collapsed": false
   },
   "outputs": [],
   "source": [
    "# Find unique users for 3 cities (Phoenix, Las Vegas, and Montreal), and store them in sets.\n",
    "users_by_cities = review_city_df.groupby('business_city_int').user_id_int.unique()\n",
    "users = [set(users_by_cities[0]), set(users_by_cities[1]), set(users_by_cities[3])]  \n",
    "# For Phoenix (0), Las Vegas (1), and Montreal (2)."
   ]
  },
  {
   "cell_type": "code",
   "execution_count": 168,
   "metadata": {
    "collapsed": false
   },
   "outputs": [
    {
     "data": {
      "text/plain": [
       "13861"
      ]
     },
     "execution_count": 168,
     "metadata": {},
     "output_type": "execute_result"
    }
   ],
   "source": [
    "# Save them in a pickle file.\n"
   ]
  },
  {
   "cell_type": "code",
   "execution_count": 162,
   "metadata": {
    "collapsed": false
   },
   "outputs": [
    {
     "data": {
      "text/plain": [
       "business_city_int\n",
       "0                    [8060, 199990, 3384, 155441, 261639, 218579, 3...\n",
       "1                    [46340, 177645, 295863, 316201, 210745, 209694...\n",
       "2                    [182439, 3620, 112912, 222341, 44377, 169122, ...\n",
       "3                    [299515, 42495, 214183, 97767, 145972, 123117,...\n",
       "4                    [103396, 272442, 262141, 115734, 242004, 24600...\n",
       "5                    [70702, 24852, 8235, 162674, 348037, 257917, 6...\n",
       "6                    [29060, 76466, 130173, 11376, 229876, 286471, ...\n",
       "7                    [175202, 333679, 262967, 324697, 286096, 52424...\n",
       "8                    [70990, 232678, 24772, 300859, 299430, 15954, ...\n",
       "9                    [271157, 80705, 363977, 123592, 294068, 176439...\n",
       "Name: user_id_int, dtype: object"
      ]
     },
     "execution_count": 162,
     "metadata": {},
     "output_type": "execute_result"
    }
   ],
   "source": [
    "users"
   ]
  },
  {
   "cell_type": "code",
   "execution_count": null,
   "metadata": {
    "collapsed": true
   },
   "outputs": [],
   "source": []
  }
 ],
 "metadata": {
  "kernelspec": {
   "display_name": "Python 2",
   "language": "python",
   "name": "python2"
  },
  "language_info": {
   "codemirror_mode": {
    "name": "ipython",
    "version": 2
   },
   "file_extension": ".py",
   "mimetype": "text/x-python",
   "name": "python",
   "nbconvert_exporter": "python",
   "pygments_lexer": "ipython2",
   "version": "2.7.10"
  }
 },
 "nbformat": 4,
 "nbformat_minor": 0
}
