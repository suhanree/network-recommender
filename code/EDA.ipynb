{
 "cells": [
  {
   "cell_type": "markdown",
   "metadata": {},
   "source": [
    "# Exploratory Data Analysis"
   ]
  },
  {
   "cell_type": "code",
   "execution_count": 2,
   "metadata": {
    "collapsed": true
   },
   "outputs": [],
   "source": [
    "# importing necessary libraries\n",
    "import pandas as pd\n",
    "import numpy as np\n",
    "import json\n",
    "import csv\n",
    "import os\n",
    "import cPickle as pickle\n",
    "from collections import Counter\n",
    "\n",
    "from sklearn.cluster import KMeans, SpectralClustering\n",
    "\n",
    "import networkx as nx\n",
    "\n",
    "from my_utilities import *\n",
    "\n",
    "import matplotlib.pyplot as plt\n",
    "%matplotlib inline"
   ]
  },
  {
   "cell_type": "markdown",
   "metadata": {},
   "source": [
    "##Reading the data (stored as dataframes in pickled files)"
   ]
  },
  {
   "cell_type": "code",
   "execution_count": 2,
   "metadata": {
    "collapsed": false
   },
   "outputs": [],
   "source": [
    "# Loading the pickled data frames from users, businesses, and reviews.\n",
    "# Assuming these data frames were obtained already using 'make_dataframes.py'\n",
    "dataframe_pickle_filename = '../data/dataframes.pkl'\n",
    "with open(dataframe_pickle_filename, 'r') as f:\n",
    "    (user_df, business_df, review_df) = pickle.load(f)"
   ]
  },
  {
   "cell_type": "markdown",
   "metadata": {},
   "source": [
    "## Trying to understand the data"
   ]
  },
  {
   "cell_type": "markdown",
   "metadata": {},
   "source": [
    "### Looking at some overall stats"
   ]
  },
  {
   "cell_type": "code",
   "execution_count": 3,
   "metadata": {
    "collapsed": false
   },
   "outputs": [
    {
     "name": "stdout",
     "output_type": "stream",
     "text": [
      "3.74265579278\n"
     ]
    },
    {
     "data": {
      "text/plain": [
       "<matplotlib.axes._subplots.AxesSubplot at 0x10a021790>"
      ]
     },
     "execution_count": 3,
     "metadata": {},
     "output_type": "execute_result"
    },
    {
     "data": {
      "image/png": "[encoded data removed]",
      "text/plain": [
       "<matplotlib.figure.Figure at 0x10a021250>"
      ]
     },
     "metadata": {},
     "output_type": "display_data"
    }
   ],
   "source": [
    "# average rating\n",
    "print review_df.review_stars.mean()\n",
    "review_df.review_stars.hist(bins=5)"
   ]
  },
  {
   "cell_type": "markdown",
   "metadata": {},
   "source": [
    "Ratings are skewed toward 5."
   ]
  },
  {
   "cell_type": "code",
   "execution_count": 4,
   "metadata": {
    "collapsed": false
   },
   "outputs": [
    {
     "data": {
      "text/plain": [
       "1.3114679041155461"
      ]
     },
     "execution_count": 4,
     "metadata": {},
     "output_type": "execute_result"
    }
   ],
   "source": [
    "# Standard deviation of the all reviews. (This will be the baseline RMSE for the whole star ratings.)\n",
    "review_df.review_stars.std()"
   ]
  },
  {
   "cell_type": "markdown",
   "metadata": {},
   "source": [
    "### Find cities for businesses using k-means."
   ]
  },
  {
   "cell_type": "code",
   "execution_count": 5,
   "metadata": {
    "collapsed": true
   },
   "outputs": [],
   "source": [
    "X = business_df[['business_latitude', 'business_longitude']].values"
   ]
  },
  {
   "cell_type": "code",
   "execution_count": 6,
   "metadata": {
    "collapsed": true
   },
   "outputs": [],
   "source": [
    "km = KMeans(10, n_jobs=8)"
   ]
  },
  {
   "cell_type": "code",
   "execution_count": 7,
   "metadata": {
    "collapsed": true
   },
   "outputs": [],
   "source": [
    "y = km.fit_predict(X)"
   ]
  },
  {
   "cell_type": "code",
   "execution_count": 8,
   "metadata": {
    "collapsed": false
   },
   "outputs": [
    {
     "data": {
      "text/plain": [
       "<matplotlib.collections.PathCollection at 0x10c37d210>"
      ]
     },
     "execution_count": 8,
     "metadata": {},
     "output_type": "execute_result"
    },
    {
     "data": {
      "image/png": "[encoded data removed]",
      "text/plain": [
       "<matplotlib.figure.Figure at 0x11248c150>"
      ]
     },
     "metadata": {},
     "output_type": "display_data"
    }
   ],
   "source": [
    "plt.scatter(X[:,1], X[:,0])"
   ]
  },
  {
   "cell_type": "code",
   "execution_count": 9,
   "metadata": {
    "collapsed": false
   },
   "outputs": [],
   "source": [
    "city_locations = km.cluster_centers_"
   ]
  },
  {
   "cell_type": "code",
   "execution_count": 10,
   "metadata": {
    "collapsed": true
   },
   "outputs": [],
   "source": [
    "n_businesses_per_city = Counter(y).most_common()"
   ]
  },
  {
   "cell_type": "code",
   "execution_count": 11,
   "metadata": {
    "collapsed": false
   },
   "outputs": [],
   "source": [
    "sorted_y = [c[0] for c in n_businesses_per_city]\n",
    "sorted_y_map = {}                                                            \n",
    "for i in range(10):                                                      \n",
    "      sorted_y_map[sorted_y[i]] = i"
   ]
  },
  {
   "cell_type": "code",
   "execution_count": 12,
   "metadata": {
    "collapsed": false
   },
   "outputs": [],
   "source": [
    "business_df['business_city_int'] = map(lambda i: sorted_y_map[i], y)"
   ]
  },
  {
   "cell_type": "code",
   "execution_count": 16,
   "metadata": {
    "collapsed": false
   },
   "outputs": [],
   "source": [
    "city_names = ['Phoenix', 'Las Vegas', 'Charlotte', 'Montreal', 'Edinburgh', 'Pittsburgh',  'Madison', 'Karlsruhe',\n",
    "              'Urbana-Champaign', 'Waterloo']"
   ]
  },
  {
   "cell_type": "markdown",
   "metadata": {},
   "source": [
    "### Find reviews for businesses in each city"
   ]
  },
  {
   "cell_type": "code",
   "execution_count": 14,
   "metadata": {
    "collapsed": false
   },
   "outputs": [],
   "source": [
    "# Dataframe with the reviews (with business city).\n",
    "review_city_df = business_df[['business_id_int', 'business_city_int']].merge(review_df, on=['business_id_int'], how='inner')"
   ]
  },
  {
   "cell_type": "code",
   "execution_count": 15,
   "metadata": {
    "collapsed": false
   },
   "outputs": [],
   "source": [
    "# Reviews for three specific cities.\n",
    "review_phoenix = review_city_df[review_city_df.business_city_int == 0].drop(['business_city_int'], axis=1)   # Phoenix\n",
    "review_lasvegas = review_city_df[review_city_df.business_city_int == 1].drop(['business_city_int'], axis=1)  # Las Vegas\n",
    "review_charlotte = review_city_df[review_city_df.business_city_int == 2].drop(['business_city_int'], axis=1)   # Charlotte\n",
    "review_montreal = review_city_df[review_city_df.business_city_int == 3].drop(['business_city_int'], axis=1)  # Montreal"
   ]
  },
  {
   "cell_type": "code",
   "execution_count": 16,
   "metadata": {
    "collapsed": false
   },
   "outputs": [
    {
     "data": {
      "text/plain": [
       "(128330, 181712, 24649, 13861)"
      ]
     },
     "execution_count": 16,
     "metadata": {},
     "output_type": "execute_result"
    }
   ],
   "source": [
    "len(review_phoenix.user_id_int.unique()), len(review_lasvegas.user_id_int.unique()),len(review_charlotte.user_id_int.unique()), len(review_montreal.user_id_int.unique()) "
   ]
  },
  {
   "cell_type": "code",
   "execution_count": 17,
   "metadata": {
    "collapsed": false
   },
   "outputs": [
    {
     "data": {
      "text/plain": [
       "(25225, 16469, 5149, 3918)"
      ]
     },
     "execution_count": 17,
     "metadata": {},
     "output_type": "execute_result"
    }
   ],
   "source": [
    "len(review_phoenix.business_id_int.unique()), len(review_lasvegas.business_id_int.unique()), len(review_charlotte.business_id_int.unique()), len(review_montreal.business_id_int.unique()), "
   ]
  },
  {
   "cell_type": "code",
   "execution_count": 18,
   "metadata": {
    "collapsed": false
   },
   "outputs": [
    {
     "data": {
      "text/plain": [
       "(591192, 679460, 98034, 49484)"
      ]
     },
     "execution_count": 18,
     "metadata": {},
     "output_type": "execute_result"
    }
   ],
   "source": [
    "review_phoenix.shape[0], review_lasvegas.shape[0], review_charlotte.shape[0], review_montreal.shape[0]"
   ]
  },
  {
   "cell_type": "code",
   "execution_count": 19,
   "metadata": {
    "collapsed": false
   },
   "outputs": [
    {
     "data": {
      "text/plain": [
       "<matplotlib.collections.PathCollection at 0x10e00e690>"
      ]
     },
     "execution_count": 19,
     "metadata": {},
     "output_type": "execute_result"
    },
    {
     "data": {
      "image/png": "[encoded data removed]",
      "text/plain": [
       "<matplotlib.figure.Figure at 0x10c327310>"
      ]
     },
     "metadata": {},
     "output_type": "display_data"
    }
   ],
   "source": [
    "# Check the clustering was done correctly.\n",
    "X = business_df[business_df.business_city_int==1][['business_latitude', 'business_longitude']].values\n",
    "plt.scatter(X[:,1], X[:,0])"
   ]
  },
  {
   "cell_type": "code",
   "execution_count": 66,
   "metadata": {
    "collapsed": false
   },
   "outputs": [
    {
     "data": {
      "image/png": "[encoded data removed]",
      "text/plain": [
       "<matplotlib.figure.Figure at 0x11b6c0e90>"
      ]
     },
     "metadata": {},
     "output_type": "display_data"
    }
   ],
   "source": [
    "# Looking at review distributions in each city (Phoenix, Las Vegas, Montreal).\n",
    "plt.figure(figsize = (17, 4))\n",
    "plt.subplot(1,4,1)\n",
    "plt.title(\"Phoenix\")\n",
    "plt.xlim(0.5, 5.5)\n",
    "plt.ylim(0,0.4)\n",
    "plt.hist(review_phoenix.review_stars.values, range=(0.5, 5.5), normed=True, bins=5)\n",
    "plt.subplot(1,4,2)\n",
    "plt.title(\"Las Vegas\")\n",
    "plt.xlim(0.5, 5.5)\n",
    "plt.ylim(0,0.4)\n",
    "plt.hist(review_lasvegas.review_stars.values, range=(0.5, 5.5), normed=True, bins=5)\n",
    "plt.subplot(1,4,3)\n",
    "plt.title(\"Charlotte\")\n",
    "plt.xlim(0.5, 5.5)\n",
    "plt.ylim(0,0.4)\n",
    "plt.hist(review_charlotte.review_stars.values, range=(0.5, 5.5), normed=True, bins=5)\n",
    "plt.subplot(1,4,4)\n",
    "plt.title(\"Montreal\")\n",
    "plt.xlim(0.5, 5.5)\n",
    "plt.ylim(0,0.4)\n",
    "plt.hist(review_montreal.review_stars.values, range=(0.5, 5.5), normed=True, bins=5)\n",
    "plt.savefig(\"../fig/ratings_dist.png\")"
   ]
  },
  {
   "cell_type": "markdown",
   "metadata": {},
   "source": [
    "It is quite interesting that Montreal has quite different review distribution compared to other cities."
   ]
  },
  {
   "cell_type": "code",
   "execution_count": 48,
   "metadata": {
    "collapsed": false
   },
   "outputs": [
    {
     "name": "stdout",
     "output_type": "stream",
     "text": [
      "1.34162771089 1.32606119856 1.16331249085\n"
     ]
    }
   ],
   "source": [
    "print review_phoenix.review_stars.std(), review_lasvegas.review_stars.std(), review_montreal.review_stars.std()"
   ]
  },
  {
   "cell_type": "markdown",
   "metadata": {},
   "source": [
    "### Number of reviews per user."
   ]
  },
  {
   "cell_type": "code",
   "execution_count": 49,
   "metadata": {
    "collapsed": false
   },
   "outputs": [
    {
     "data": {
      "text/plain": [
       "<matplotlib.axes._subplots.AxesSubplot at 0x110844090>"
      ]
     },
     "execution_count": 49,
     "metadata": {},
     "output_type": "execute_result"
    },
    {
     "data": {
      "image/png": "[encoded data removed]",
      "text/plain": [
       "<matplotlib.figure.Figure at 0x11f5d9110>"
      ]
     },
     "metadata": {},
     "output_type": "display_data"
    }
   ],
   "source": [
    "plt.ylim([100,100000])\n",
    "plt.gca().set_xscale(\"log\")\n",
    "plt.yscale('log')\n",
    "plt.title('Number of reviews per user')\n",
    "plt.xlabel('Number of reviews')\n",
    "plt.ylabel('Number of users')\n",
    "user_df.user_review_count.hist(bins=np.logspace(0.1, 3.5, 20))"
   ]
  },
  {
   "cell_type": "markdown",
   "metadata": {},
   "source": [
    "Users have at least 1 review."
   ]
  },
  {
   "cell_type": "markdown",
   "metadata": {},
   "source": [
    "### Number of reviews per business."
   ]
  },
  {
   "cell_type": "code",
   "execution_count": 50,
   "metadata": {
    "collapsed": false
   },
   "outputs": [
    {
     "data": {
      "text/plain": [
       "<matplotlib.axes._subplots.AxesSubplot at 0x10cfc8110>"
      ]
     },
     "execution_count": 50,
     "metadata": {},
     "output_type": "execute_result"
    },
    {
     "data": {
      "image/png": "[encoded data removed]",
      "text/plain": [
       "<matplotlib.figure.Figure at 0x11f2d3590>"
      ]
     },
     "metadata": {},
     "output_type": "display_data"
    }
   ],
   "source": [
    "plt.ylim([10, 10000])\n",
    "plt.gca().set_xscale(\"log\")\n",
    "plt.yscale('log')\n",
    "plt.title('Number of reviews per business')\n",
    "plt.xlabel('Number of reviews')\n",
    "plt.ylabel('Number of businesses')\n",
    "business_df.business_review_count.hist(bins=np.logspace(0.45, 3.5, 30))"
   ]
  },
  {
   "cell_type": "code",
   "execution_count": 51,
   "metadata": {
    "collapsed": false
   },
   "outputs": [
    {
     "data": {
      "text/plain": [
       "3"
      ]
     },
     "execution_count": 51,
     "metadata": {},
     "output_type": "execute_result"
    }
   ],
   "source": [
    "business_df.business_review_count.min()"
   ]
  },
  {
   "cell_type": "markdown",
   "metadata": {},
   "source": [
    "Businesses have at least 3 reviews."
   ]
  },
  {
   "cell_type": "markdown",
   "metadata": {},
   "source": [
    "### Some counts per city"
   ]
  },
  {
   "cell_type": "code",
   "execution_count": 52,
   "metadata": {
    "collapsed": false
   },
   "outputs": [],
   "source": [
    "n_users = float(user_df.shape[0])\n",
    "n_businesses = float(business_df.shape[0])\n",
    "n_reviews = float(review_df.shape[0])\n",
    "users_by_city = np.array(review_city_df.groupby('business_city_int').user_id_int.nunique())\n",
    "businesses_by_city = np.array(review_city_df.groupby('business_city_int').business_id_int.nunique())\n",
    "reviews_by_city = np.array(review_city_df.groupby('business_city_int').user_id_int.count())\n",
    "users_by_city_ratio = users_by_city / n_users\n",
    "businesses_by_city_ratio = businesses_by_city / n_businesses\n",
    "reviews_by_city_ratio = reviews_by_city / n_reviews"
   ]
  },
  {
   "cell_type": "code",
   "execution_count": 59,
   "metadata": {
    "collapsed": false
   },
   "outputs": [],
   "source": [
    "def plot_counts(users_by_city, businesses_by_city, reviews_by_city, title, ylabel, ylim=1):\n",
    "    fig = plt.figure()\n",
    "    ax = fig.add_subplot(111)\n",
    "\n",
    "    ind = np.arange(10) # the x locations for the groups\n",
    "    width = 0.25        # the width of the bars\n",
    "\n",
    "    ## the bars\n",
    "    rects0 = ax.bar(ind, users_by_city, width, color='r')\n",
    "    rects1 = ax.bar(ind + width, businesses_by_city, width, color='g')\n",
    "    rects2 = ax.bar(ind + 2 * width, reviews_by_city, width, color='b')\n",
    "\n",
    "    # axes and labels\n",
    "    ax.set_xlim(-width, len(ind) + width)\n",
    "    ax.set_ylim(0, ylim)\n",
    "    ax.set_ylabel(ylabel)\n",
    "    ax.set_title(title)\n",
    "    ax.set_xticks(ind + 1.5*width)\n",
    "    xtickNames = ax.set_xticklabels(city_names)\n",
    "    plt.setp(xtickNames, rotation=90, fontsize=10)\n",
    "\n",
    "    ## add a legend\n",
    "    ax.legend((rects0[0], rects1[0], rects2[0]), ('Users', 'Business', 'Review'))"
   ]
  },
  {
   "cell_type": "code",
   "execution_count": 67,
   "metadata": {
    "collapsed": false
   },
   "outputs": [
    {
     "data": {
      "text/plain": [
       "<matplotlib.figure.Figure at 0x11f414350>"
      ]
     },
     "metadata": {},
     "output_type": "display_data"
    },
    {
     "data": {
      "image/png": "[encoded data removed]",
      "text/plain": [
       "<matplotlib.figure.Figure at 0x11e9f9310>"
      ]
     },
     "metadata": {},
     "output_type": "display_data"
    }
   ],
   "source": [
    "plt.figure(num=None, figsize=(8, 5), dpi=200)\n",
    "plot_counts(users_by_city_ratio, businesses_by_city_ratio, reviews_by_city_ratio, 'Ratios by cities', \n",
    "            'ratios', ylim=0.6)\n",
    "plt.tight_layout()\n",
    "plt.savefig('../fig/ratios_by_city.png', dpi=200)"
   ]
  },
  {
   "cell_type": "code",
   "execution_count": 64,
   "metadata": {
    "collapsed": false
   },
   "outputs": [
    {
     "data": {
      "text/plain": [
       "array([  5.08741328,  11.03357824,   4.78714313,   3.53777437,\n",
       "         1.07106426,   5.85300888,   5.06845754,   0.81084656,\n",
       "         6.25199362,   3.18233618])"
      ]
     },
     "execution_count": 64,
     "metadata": {},
     "output_type": "execute_result"
    }
   ],
   "source": [
    "# Number of users per business\n",
    "users_by_city.astype(float) / businesses_by_city"
   ]
  },
  {
   "cell_type": "code",
   "execution_count": 75,
   "metadata": {
    "collapsed": false
   },
   "outputs": [
    {
     "data": {
      "text/plain": [
       "<matplotlib.figure.Figure at 0x11e9f9350>"
      ]
     },
     "metadata": {},
     "output_type": "display_data"
    },
    {
     "data": {
      "image/png": "[encoded data removed]",
      "text/plain": [
       "<matplotlib.figure.Figure at 0x11f4394d0>"
      ]
     },
     "metadata": {},
     "output_type": "display_data"
    }
   ],
   "source": [
    "plt.figure(num=None, figsize=(8, 5), dpi=200)\n",
    "plot_counts(users_by_city, businesses_by_city, reviews_by_city, 'Counts by cities', \n",
    "            'counts', ylim=700000)\n",
    "plt.tight_layout()\n",
    "plt.savefig('../fig/counts_by_city.png', dpi=160)"
   ]
  },
  {
   "cell_type": "markdown",
   "metadata": {},
   "source": [
    "Phoenix and Las Vegas are two biggest cities here. A unique characteristic we can see is that in Las Vegas the number of users is much greater than the number of businesses; on the other hand, in Phoenix, the number of businesses is greater than the number of users. At first, I assumed there might be many tourists in Las Vegas, but based on counts below, there are not many users who leave reviews in multiple cities (only 5%). Then two possible explanations are: (1) there are just many more users than businesses, (2) users in Las Vegas are much more active."
   ]
  },
  {
   "cell_type": "markdown",
   "metadata": {},
   "source": [
    "### Number of cities per user"
   ]
  },
  {
   "cell_type": "markdown",
   "metadata": {},
   "source": [
    "Here trying to find how many cities each user left reviews."
   ]
  },
  {
   "cell_type": "code",
   "execution_count": 76,
   "metadata": {
    "collapsed": false
   },
   "outputs": [],
   "source": [
    "cities_by_user = np.array(review_city_df.groupby('user_id_int').business_city_int.nunique())"
   ]
  },
  {
   "cell_type": "code",
   "execution_count": 77,
   "metadata": {
    "collapsed": false
   },
   "outputs": [
    {
     "data": {
      "text/plain": [
       "0.95011112171577383"
      ]
     },
     "execution_count": 77,
     "metadata": {},
     "output_type": "execute_result"
    }
   ],
   "source": [
    "sum(cities_by_user == 1) / float(n_users)"
   ]
  },
  {
   "cell_type": "code",
   "execution_count": 78,
   "metadata": {
    "collapsed": false
   },
   "outputs": [
    {
     "data": {
      "text/plain": [
       "0.045563993837176006"
      ]
     },
     "execution_count": 78,
     "metadata": {},
     "output_type": "execute_result"
    }
   ],
   "source": [
    "sum(cities_by_user == 2) / float(n_users)"
   ]
  },
  {
   "cell_type": "code",
   "execution_count": 79,
   "metadata": {
    "collapsed": false
   },
   "outputs": [
    {
     "data": {
      "text/plain": [
       "0.0043248844470501618"
      ]
     },
     "execution_count": 79,
     "metadata": {},
     "output_type": "execute_result"
    }
   ],
   "source": [
    "sum(cities_by_user > 2) / float(n_users)"
   ]
  },
  {
   "cell_type": "markdown",
   "metadata": {},
   "source": [
    "Most of users left reviews in only one city (95 %), and 4.56 % of users left reviews in one city. There are only 0.43 % of users who left reviews in more than two cities. Also, the earliest date and the latest date for reviews are 2004-10-12 and 2015-01-08."
   ]
  },
  {
   "cell_type": "code",
   "execution_count": 80,
   "metadata": {
    "collapsed": false
   },
   "outputs": [
    {
     "name": "stdout",
     "output_type": "stream",
     "text": [
      "2004-10-12 2015-01-08\n"
     ]
    }
   ],
   "source": [
    "print review_df.review_date.min(), review_df.review_date.max()"
   ]
  },
  {
   "cell_type": "markdown",
   "metadata": {},
   "source": [
    "### Degree distribution"
   ]
  },
  {
   "cell_type": "markdown",
   "metadata": {},
   "source": [
    "Now we can look at the network structure. The easiest stat we can look is the degree distribution."
   ]
  },
  {
   "cell_type": "code",
   "execution_count": 82,
   "metadata": {
    "collapsed": false
   },
   "outputs": [],
   "source": [
    "degrees = pd.read_csv(\"../data/degrees\", names=['user_id', 'degree'], header=None)"
   ]
  },
  {
   "cell_type": "code",
   "execution_count": 83,
   "metadata": {
    "collapsed": false
   },
   "outputs": [],
   "source": [
    "def plot_degrees(degree_col, y_min, y_max):\n",
    "    plt.ylim([y_min, y_max])\n",
    "    plt.gca().set_xscale(\"log\")\n",
    "    plt.gca().set_yscale('log')\n",
    "    plt.title('Degree Distribution')\n",
    "    plt.xlabel('degree')\n",
    "    plt.ylabel('number of users')\n",
    "    degree_col.hist(bins=np.logspace(0.1, 4, 25))\n"
   ]
  },
  {
   "cell_type": "code",
   "execution_count": 84,
   "metadata": {
    "collapsed": false
   },
   "outputs": [
    {
     "data": {
      "image/png": "[encoded data removed]",
      "text/plain": [
       "<matplotlib.figure.Figure at 0x10f521bd0>"
      ]
     },
     "metadata": {},
     "output_type": "display_data"
    }
   ],
   "source": [
    "plot_degrees(degrees.degree, 5, 50000)"
   ]
  },
  {
   "cell_type": "markdown",
   "metadata": {},
   "source": [
    "### Finding the number of users with at least one friend using degree info."
   ]
  },
  {
   "cell_type": "code",
   "execution_count": 85,
   "metadata": {
    "collapsed": true
   },
   "outputs": [],
   "source": [
    "# A set containing users with at least one friend.\n",
    "users2_set = set(degrees[degrees.degree > 0].user_id.values)"
   ]
  },
  {
   "cell_type": "markdown",
   "metadata": {},
   "source": [
    "### Create new dataframes that are reduced using only above users."
   ]
  },
  {
   "cell_type": "code",
   "execution_count": 86,
   "metadata": {
    "collapsed": false
   },
   "outputs": [],
   "source": [
    "# Create all dataframes that only have data with users with at least one friend.\n",
    "# First, find users first.\n",
    "user_df2 = user_df[user_df.apply(lambda x: x['user_id_int'] in users2_set, axis=1)]\n",
    "# Second, find reviews done by these users.\n",
    "review_df2 = review_df[review_df.apply(lambda x: x['user_id_int'] in users2_set, axis=1)]\n",
    "# Lastly, find businesses that only these reviews are done for.\n",
    "businesses2_set = set(review_df2.business_id_int.unique())\n",
    "business_df2 = business_df[business_df.apply(lambda x: x['business_id_int'] in businesses2_set, axis=1)]"
   ]
  },
  {
   "cell_type": "code",
   "execution_count": 87,
   "metadata": {
    "collapsed": false
   },
   "outputs": [],
   "source": [
    "# Dataframe with the reviews (with business city).\n",
    "review_city_df2 = business_df2[['business_id_int', 'business_city_int']]\\\n",
    "    .merge(review_df2, on=['business_id_int'], how='inner')"
   ]
  },
  {
   "cell_type": "code",
   "execution_count": 88,
   "metadata": {
    "collapsed": false
   },
   "outputs": [
    {
     "name": "stdout",
     "output_type": "stream",
     "text": [
      "174094 59106 1143736\n"
     ]
    }
   ],
   "source": [
    "print user_df2.shape[0], business_df2.shape[0], review_df2.shape[0]"
   ]
  },
  {
   "cell_type": "markdown",
   "metadata": {},
   "source": [
    "## Now doing above analyses with the reduced set."
   ]
  },
  {
   "cell_type": "code",
   "execution_count": 89,
   "metadata": {
    "collapsed": true
   },
   "outputs": [],
   "source": [
    "# Reviews for three specific cities.\n",
    "review_phoenix2 = review_city_df2[review_city_df2.business_city_int == 0].drop(['business_city_int'], axis=1)   # Phoenix\n",
    "review_lasvegas2 = review_city_df2[review_city_df2.business_city_int == 1].drop(['business_city_int'], axis=1)  # Las Vegas\n",
    "review_montreal2 = review_city_df2[review_city_df2.business_city_int == 3].drop(['business_city_int'], axis=1)  # Montreal"
   ]
  },
  {
   "cell_type": "markdown",
   "metadata": {},
   "source": [
    "### Number of reviews per user"
   ]
  },
  {
   "cell_type": "code",
   "execution_count": 90,
   "metadata": {
    "collapsed": false
   },
   "outputs": [
    {
     "data": {
      "text/plain": [
       "<matplotlib.axes._subplots.AxesSubplot at 0x11f5d23d0>"
      ]
     },
     "execution_count": 90,
     "metadata": {},
     "output_type": "execute_result"
    },
    {
     "data": {
      "image/png": "[encoded data removed]",
      "text/plain": [
       "<matplotlib.figure.Figure at 0x10c61aa10>"
      ]
     },
     "metadata": {},
     "output_type": "display_data"
    }
   ],
   "source": [
    "plt.ylim([100,100000])\n",
    "plt.gca().set_xscale(\"log\")\n",
    "plt.yscale('log')\n",
    "plt.title('Number of reviews per user')\n",
    "plt.xlabel('Number of reviews')\n",
    "plt.ylabel('Number of users')\n",
    "user_df2.user_review_count.hist(bins=np.logspace(0.1, 3.5, 20))"
   ]
  },
  {
   "cell_type": "markdown",
   "metadata": {},
   "source": [
    "Looks different when number of reviews are small. Seems like users are more active overall."
   ]
  },
  {
   "cell_type": "markdown",
   "metadata": {},
   "source": [
    "### Number of reviews per business"
   ]
  },
  {
   "cell_type": "code",
   "execution_count": 91,
   "metadata": {
    "collapsed": false
   },
   "outputs": [
    {
     "data": {
      "text/plain": [
       "<matplotlib.axes._subplots.AxesSubplot at 0x11d1833d0>"
      ]
     },
     "execution_count": 91,
     "metadata": {},
     "output_type": "execute_result"
    },
    {
     "data": {
      "image/png": "[encoded data removed]",
      "text/plain": [
       "<matplotlib.figure.Figure at 0x10f521450>"
      ]
     },
     "metadata": {},
     "output_type": "display_data"
    }
   ],
   "source": [
    "plt.ylim([10, 10000])\n",
    "plt.gca().set_xscale(\"log\")\n",
    "plt.yscale('log')\n",
    "plt.title('Number of reviews per business')\n",
    "plt.xlabel('Number of reviews')\n",
    "plt.ylabel('Number of businesses')\n",
    "business_df.business_review_count.hist(bins=np.logspace(0.45, 3.5, 30))"
   ]
  },
  {
   "cell_type": "markdown",
   "metadata": {},
   "source": [
    "Looks almost the same as before."
   ]
  },
  {
   "cell_type": "markdown",
   "metadata": {},
   "source": [
    "### Some counts per city"
   ]
  },
  {
   "cell_type": "code",
   "execution_count": 92,
   "metadata": {
    "collapsed": true
   },
   "outputs": [],
   "source": [
    "n_users2 = float(user_df2.shape[0])\n",
    "n_businesses2 = float(business_df2.shape[0])\n",
    "n_reviews2 = float(review_df2.shape[0])\n",
    "users_by_city_ratio2 = np.array(review_city_df2.groupby('business_city_int').user_id_int.nunique()) / n_users2\n",
    "businesses_by_city_ratio2 = np.array(review_city_df2.groupby('business_city_int').business_id_int.nunique()) / n_businesses2\n",
    "reviews_by_city_ratio2 = np.array(review_city_df2.groupby('business_city_int').user_id_int.count()) / n_reviews2"
   ]
  },
  {
   "cell_type": "code",
   "execution_count": 93,
   "metadata": {
    "collapsed": false
   },
   "outputs": [
    {
     "data": {
      "image/png": "[encoded data removed]",
      "text/plain": [
       "<matplotlib.figure.Figure at 0x11b60ea90>"
      ]
     },
     "metadata": {},
     "output_type": "display_data"
    }
   ],
   "source": [
    "plot_counts(users_by_city_ratio2, businesses_by_city_ratio2, reviews_by_city_ratio2, 'Ratios by cities', \n",
    "            'ratios', ylim=0.6)\n",
    "plt.tight_layout()\n",
    "#plt.savefig('../fig/ratios_by_city.png', dpi=200)"
   ]
  },
  {
   "cell_type": "markdown",
   "metadata": {},
   "source": [
    "Overall trends are the same here."
   ]
  },
  {
   "cell_type": "markdown",
   "metadata": {},
   "source": [
    "Degree distribution should be the same as before, except users with degree zero."
   ]
  },
  {
   "cell_type": "code",
   "execution_count": 94,
   "metadata": {
    "collapsed": false
   },
   "outputs": [],
   "source": [
    "cities_by_user2 = np.array(review_city_df2.groupby('user_id_int').business_city_int.nunique())"
   ]
  },
  {
   "cell_type": "code",
   "execution_count": 95,
   "metadata": {
    "collapsed": false
   },
   "outputs": [
    {
     "name": "stdout",
     "output_type": "stream",
     "text": [
      "0.920278700013 0.0714211862557 0.00830011373166\n"
     ]
    }
   ],
   "source": [
    "print sum(cities_by_user2 == 1) / float(n_users2),\\\n",
    "    sum(cities_by_user2 == 2) / float(n_users2),\\\n",
    "    sum(cities_by_user2 > 2) / float(n_users2)"
   ]
  },
  {
   "cell_type": "markdown",
   "metadata": {},
   "source": [
    "### User by city computed from 'find_users_by_city.py'.\n",
    "Here it uses the network friends to determine the city if a user has reviews in multiple cities. If threre are ties between friends, it chooses the city randomly. As shown above, 92.1% of users have reviews in only one city, and 0.8% of users are chosen randomly, which means out of users with multiple cities, about 10% of them are chosen randomly. "
   ]
  },
  {
   "cell_type": "code",
   "execution_count": 96,
   "metadata": {
    "collapsed": false
   },
   "outputs": [
    {
     "data": {
      "text/html": [
       "<div style=\"max-height:1000px;max-width:1500px;overflow:auto;\">\n",
       "<table border=\"1\" class=\"dataframe\">\n",
       "  <thead>\n",
       "    <tr style=\"text-align: right;\">\n",
       "      <th></th>\n",
       "      <th>user_id</th>\n",
       "    </tr>\n",
       "    <tr>\n",
       "      <th>city</th>\n",
       "      <th></th>\n",
       "    </tr>\n",
       "  </thead>\n",
       "  <tbody>\n",
       "    <tr>\n",
       "      <th>0</th>\n",
       "      <td> 52104</td>\n",
       "    </tr>\n",
       "    <tr>\n",
       "      <th>1</th>\n",
       "      <td> 92761</td>\n",
       "    </tr>\n",
       "    <tr>\n",
       "      <th>2</th>\n",
       "      <td>  9257</td>\n",
       "    </tr>\n",
       "    <tr>\n",
       "      <th>3</th>\n",
       "      <td>  5270</td>\n",
       "    </tr>\n",
       "    <tr>\n",
       "      <th>4</th>\n",
       "      <td>  1450</td>\n",
       "    </tr>\n",
       "    <tr>\n",
       "      <th>5</th>\n",
       "      <td>  6928</td>\n",
       "    </tr>\n",
       "    <tr>\n",
       "      <th>6</th>\n",
       "      <td>  4305</td>\n",
       "    </tr>\n",
       "    <tr>\n",
       "      <th>7</th>\n",
       "      <td>   135</td>\n",
       "    </tr>\n",
       "    <tr>\n",
       "      <th>8</th>\n",
       "      <td>  1507</td>\n",
       "    </tr>\n",
       "    <tr>\n",
       "      <th>9</th>\n",
       "      <td>   377</td>\n",
       "    </tr>\n",
       "  </tbody>\n",
       "</table>\n",
       "</div>"
      ],
      "text/plain": [
       "      user_id\n",
       "city         \n",
       "0       52104\n",
       "1       92761\n",
       "2        9257\n",
       "3        5270\n",
       "4        1450\n",
       "5        6928\n",
       "6        4305\n",
       "7         135\n",
       "8        1507\n",
       "9         377"
      ]
     },
     "execution_count": 96,
     "metadata": {},
     "output_type": "execute_result"
    }
   ],
   "source": [
    "user_by_city = pd.read_csv('../data/user_by_city', names=['user_id', 'city'], header=None)\n",
    "user_by_city.groupby('city').count()"
   ]
  },
  {
   "cell_type": "markdown",
   "metadata": {},
   "source": [
    "### Looking at subnetworks for each city."
   ]
  },
  {
   "cell_type": "code",
   "execution_count": 97,
   "metadata": {
    "collapsed": false
   },
   "outputs": [],
   "source": [
    "# Dataframes for each city.\n",
    "degrees_subnet = []\n",
    "for i in range(10):\n",
    "    degrees_subnet.append(pd.read_csv('../data/degrees%s' % i, names=['user_id', 'degree'], header=None))"
   ]
  },
  {
   "cell_type": "code",
   "execution_count": 98,
   "metadata": {
    "collapsed": false
   },
   "outputs": [
    {
     "name": "stdout",
     "output_type": "stream",
     "text": [
      "194968 8.5645632454\n",
      "758230 17.2295631426\n",
      "21541 6.04150890478\n",
      "9328 5.41567489115\n",
      "4524 9.35677352637\n",
      "13195 5.15046838407\n",
      "6950 4.64416972937\n",
      "114 2.35051546392\n",
      "1326 2.72\n",
      "261 2.26956521739\n",
      "2020876\n"
     ]
    }
   ],
   "source": [
    "# Number of edges for all subgraphs.\n",
    "nedges_subnet = []\n",
    "for i in range(10):\n",
    "    nedges_subnet.append(degrees_subnet[i].values.sum(axis=0)[1])\n",
    "    print nedges_subnet[i]/2,  nedges_subnet[i]/float(len(degrees_subnet[i]))\n",
    "print sum(nedges_subnet)"
   ]
  },
  {
   "cell_type": "code",
   "execution_count": 99,
   "metadata": {
    "collapsed": false
   },
   "outputs": [
    {
     "name": "stdout",
     "output_type": "stream",
     "text": [
      "2576179\n"
     ]
    }
   ],
   "source": [
    "# Number of edges for the total graph.\n",
    "nedges = degrees.values.sum(axis=0)[1]\n",
    "print nedges"
   ]
  },
  {
   "cell_type": "code",
   "execution_count": 100,
   "metadata": {
    "collapsed": false
   },
   "outputs": [
    {
     "data": {
      "text/plain": [
       "0.78444704347019367"
      ]
     },
     "execution_count": 100,
     "metadata": {},
     "output_type": "execute_result"
    }
   ],
   "source": [
    "# Percentage of edges that are connecting inside communities.\n",
    "sum(nedges_subnet)/float(nedges)"
   ]
  },
  {
   "cell_type": "markdown",
   "metadata": {},
   "source": [
    "### Degree distributions for subnets for three cities."
   ]
  },
  {
   "cell_type": "markdown",
   "metadata": {},
   "source": [
    "### Phoenix"
   ]
  },
  {
   "cell_type": "code",
   "execution_count": 101,
   "metadata": {
    "collapsed": false
   },
   "outputs": [
    {
     "data": {
      "image/png": "[encoded data removed]",
      "text/plain": [
       "<matplotlib.figure.Figure at 0x121f54750>"
      ]
     },
     "metadata": {},
     "output_type": "display_data"
    }
   ],
   "source": [
    "plot_degrees(degrees_subnet[0].degree, 5, 10000)\n",
    "plt.savefig('../fig/degree_phoenix.png')"
   ]
  },
  {
   "cell_type": "code",
   "execution_count": 102,
   "metadata": {
    "collapsed": false
   },
   "outputs": [
    {
     "name": "stdout",
     "output_type": "stream",
     "text": [
      "8.5645632454 3.0\n"
     ]
    }
   ],
   "source": [
    "print degrees_subnet[0].degree.mean(), degrees_subnet[0].degree.median()"
   ]
  },
  {
   "cell_type": "markdown",
   "metadata": {},
   "source": [
    "### Las Vegas"
   ]
  },
  {
   "cell_type": "code",
   "execution_count": 103,
   "metadata": {
    "collapsed": false
   },
   "outputs": [
    {
     "data": {
      "image/png": "[encoded data removed]",
      "text/plain": [
       "<matplotlib.figure.Figure at 0x13f86efd0>"
      ]
     },
     "metadata": {},
     "output_type": "display_data"
    }
   ],
   "source": [
    "plot_degrees(degrees_subnet[1].degree, 5, 20000)\n",
    "plt.savefig('../fig/degree_lasvegas.png')"
   ]
  },
  {
   "cell_type": "code",
   "execution_count": 104,
   "metadata": {
    "collapsed": false
   },
   "outputs": [
    {
     "name": "stdout",
     "output_type": "stream",
     "text": [
      "17.2295631426 4.0\n"
     ]
    }
   ],
   "source": [
    "print degrees_subnet[1].degree.mean(), degrees_subnet[1].degree.median()"
   ]
  },
  {
   "cell_type": "markdown",
   "metadata": {},
   "source": [
    "### Montreal"
   ]
  },
  {
   "cell_type": "code",
   "execution_count": 105,
   "metadata": {
    "collapsed": false
   },
   "outputs": [
    {
     "data": {
      "image/png": "[encoded data removed]",
      "text/plain": [
       "<matplotlib.figure.Figure at 0x10c69ce50>"
      ]
     },
     "metadata": {},
     "output_type": "display_data"
    }
   ],
   "source": [
    "plot_degrees(degrees_subnet[3].degree, 5, 1000)\n",
    "plt.savefig('../fig/degree_lasvegas.png')"
   ]
  },
  {
   "cell_type": "code",
   "execution_count": 106,
   "metadata": {
    "collapsed": false
   },
   "outputs": [
    {
     "name": "stdout",
     "output_type": "stream",
     "text": [
      "5.41567489115 2.0\n"
     ]
    }
   ],
   "source": [
    "print degrees_subnet[3].degree.mean(), degrees_subnet[3].degree.median()"
   ]
  },
  {
   "cell_type": "markdown",
   "metadata": {
    "collapsed": false
   },
   "source": [
    "If we look at above results, three cities have quite different social networks. The avereage degrees are quite different. It is hard to find reasons why they are so different."
   ]
  },
  {
   "cell_type": "markdown",
   "metadata": {},
   "source": [
    "## Correlation between values."
   ]
  },
  {
   "cell_type": "markdown",
   "metadata": {},
   "source": [
    "### reviews per user and degrees per user"
   ]
  },
  {
   "cell_type": "code",
   "execution_count": 107,
   "metadata": {
    "collapsed": true
   },
   "outputs": [],
   "source": [
    "rev_count = user_df.user_review_count\n",
    "deg_count = degrees.degree"
   ]
  },
  {
   "cell_type": "code",
   "execution_count": 108,
   "metadata": {
    "collapsed": true
   },
   "outputs": [],
   "source": [
    "from scipy.stats.stats import pearsonr"
   ]
  },
  {
   "cell_type": "code",
   "execution_count": 109,
   "metadata": {
    "collapsed": false
   },
   "outputs": [
    {
     "data": {
      "text/plain": [
       "0.48288144800008354"
      ]
     },
     "execution_count": 109,
     "metadata": {},
     "output_type": "execute_result"
    }
   ],
   "source": [
    "pearsonr(rev_count, deg_count)[0]"
   ]
  },
  {
   "cell_type": "markdown",
   "metadata": {},
   "source": [
    "As expected, the more active users are in terms of writing reviews, the more friends those users have. We can clearly see that when we look at those values together."
   ]
  },
  {
   "cell_type": "markdown",
   "metadata": {},
   "source": [
    "### Finding friends of friends for a network of a given city"
   ]
  },
  {
   "cell_type": "code",
   "execution_count": 112,
   "metadata": {
    "collapsed": false
   },
   "outputs": [],
   "source": [
    "city = 0\n",
    "my_graph = read_dictlist_from_file('../data/network' + str(city) + 'b.csv')"
   ]
  },
  {
   "cell_type": "code",
   "execution_count": 113,
   "metadata": {
    "collapsed": true
   },
   "outputs": [],
   "source": [
    "friends_of_friends = {}\n",
    "for node in my_graph:\n",
    "    friends_of_friends[node] = set(my_graph[node])\n",
    "    for friend1 in my_graph[node]:\n",
    "        for friend2 in my_graph[friend1]:\n",
    "            friends_of_friends[node].add(friend2)"
   ]
  },
  {
   "cell_type": "code",
   "execution_count": 114,
   "metadata": {
    "collapsed": false
   },
   "outputs": [],
   "source": [
    "nff = []\n",
    "for user in friends_of_friends:\n",
    "    nff.append(len(friends_of_friends[user]))"
   ]
  },
  {
   "cell_type": "code",
   "execution_count": 115,
   "metadata": {
    "collapsed": false,
    "scrolled": true
   },
   "outputs": [
    {
     "data": {
      "text/plain": [
       "(array([  2.71870000e+04,   4.46000000e+03,   2.30100000e+03,\n",
       "          1.48700000e+03,   1.00100000e+03,   6.47000000e+02,\n",
       "          8.66000000e+02,   6.61000000e+02,   4.45000000e+02,\n",
       "          3.43000000e+02,   2.68000000e+02,   4.71000000e+02,\n",
       "          2.68000000e+02,   3.30000000e+02,   2.40000000e+02,\n",
       "          2.26000000e+02,   2.06000000e+02,   1.60000000e+02,\n",
       "          1.50000000e+02,   1.30000000e+02,   1.20000000e+02,\n",
       "          1.07000000e+02,   7.80000000e+01,   9.30000000e+01,\n",
       "          8.20000000e+01,   6.30000000e+01,   5.20000000e+01,\n",
       "          4.00000000e+01,   5.40000000e+01,   4.40000000e+01,\n",
       "          4.10000000e+01,   3.00000000e+01,   2.60000000e+01,\n",
       "          3.70000000e+01,   2.20000000e+01,   2.10000000e+01,\n",
       "          2.10000000e+01,   2.50000000e+01,   2.10000000e+01,\n",
       "          1.50000000e+01,   1.70000000e+01,   1.10000000e+01,\n",
       "          1.40000000e+01,   9.00000000e+00,   1.10000000e+01,\n",
       "          1.30000000e+01,   1.10000000e+01,   6.00000000e+00,\n",
       "          5.00000000e+00,   4.00000000e+00,   7.00000000e+00,\n",
       "          1.00000000e+01,   4.00000000e+00,   6.00000000e+00,\n",
       "          1.00000000e+00,   2.00000000e+00,   5.00000000e+00,\n",
       "          5.00000000e+00,   5.00000000e+00,   4.00000000e+00,\n",
       "          3.00000000e+00,   2.00000000e+00,   0.00000000e+00,\n",
       "          4.00000000e+00,   2.00000000e+00,   1.00000000e+00,\n",
       "          0.00000000e+00,   1.00000000e+00,   0.00000000e+00,\n",
       "          0.00000000e+00,   1.00000000e+00,   0.00000000e+00,\n",
       "          0.00000000e+00,   1.00000000e+00,   0.00000000e+00,\n",
       "          1.00000000e+00,   1.00000000e+00,   0.00000000e+00,\n",
       "          1.00000000e+00,   1.00000000e+00,   1.00000000e+00,\n",
       "          0.00000000e+00,   0.00000000e+00,   0.00000000e+00,\n",
       "          0.00000000e+00,   0.00000000e+00,   0.00000000e+00,\n",
       "          1.00000000e+00,   0.00000000e+00,   0.00000000e+00,\n",
       "          0.00000000e+00,   0.00000000e+00,   0.00000000e+00,\n",
       "          0.00000000e+00,   0.00000000e+00,   0.00000000e+00,\n",
       "          0.00000000e+00,   1.00000000e+00,   0.00000000e+00,\n",
       "          1.00000000e+00]),\n",
       " array([  3.00000000e+00,   1.80080000e+02,   3.57160000e+02,\n",
       "          5.34240000e+02,   7.11320000e+02,   8.88400000e+02,\n",
       "          1.06548000e+03,   1.24256000e+03,   1.41964000e+03,\n",
       "          1.59672000e+03,   1.77380000e+03,   1.95088000e+03,\n",
       "          2.12796000e+03,   2.30504000e+03,   2.48212000e+03,\n",
       "          2.65920000e+03,   2.83628000e+03,   3.01336000e+03,\n",
       "          3.19044000e+03,   3.36752000e+03,   3.54460000e+03,\n",
       "          3.72168000e+03,   3.89876000e+03,   4.07584000e+03,\n",
       "          4.25292000e+03,   4.43000000e+03,   4.60708000e+03,\n",
       "          4.78416000e+03,   4.96124000e+03,   5.13832000e+03,\n",
       "          5.31540000e+03,   5.49248000e+03,   5.66956000e+03,\n",
       "          5.84664000e+03,   6.02372000e+03,   6.20080000e+03,\n",
       "          6.37788000e+03,   6.55496000e+03,   6.73204000e+03,\n",
       "          6.90912000e+03,   7.08620000e+03,   7.26328000e+03,\n",
       "          7.44036000e+03,   7.61744000e+03,   7.79452000e+03,\n",
       "          7.97160000e+03,   8.14868000e+03,   8.32576000e+03,\n",
       "          8.50284000e+03,   8.67992000e+03,   8.85700000e+03,\n",
       "          9.03408000e+03,   9.21116000e+03,   9.38824000e+03,\n",
       "          9.56532000e+03,   9.74240000e+03,   9.91948000e+03,\n",
       "          1.00965600e+04,   1.02736400e+04,   1.04507200e+04,\n",
       "          1.06278000e+04,   1.08048800e+04,   1.09819600e+04,\n",
       "          1.11590400e+04,   1.13361200e+04,   1.15132000e+04,\n",
       "          1.16902800e+04,   1.18673600e+04,   1.20444400e+04,\n",
       "          1.22215200e+04,   1.23986000e+04,   1.25756800e+04,\n",
       "          1.27527600e+04,   1.29298400e+04,   1.31069200e+04,\n",
       "          1.32840000e+04,   1.34610800e+04,   1.36381600e+04,\n",
       "          1.38152400e+04,   1.39923200e+04,   1.41694000e+04,\n",
       "          1.43464800e+04,   1.45235600e+04,   1.47006400e+04,\n",
       "          1.48777200e+04,   1.50548000e+04,   1.52318800e+04,\n",
       "          1.54089600e+04,   1.55860400e+04,   1.57631200e+04,\n",
       "          1.59402000e+04,   1.61172800e+04,   1.62943600e+04,\n",
       "          1.64714400e+04,   1.66485200e+04,   1.68256000e+04,\n",
       "          1.70026800e+04,   1.71797600e+04,   1.73568400e+04,\n",
       "          1.75339200e+04,   1.77110000e+04]),\n",
       " <a list of 100 Patch objects>)"
      ]
     },
     "execution_count": 115,
     "metadata": {},
     "output_type": "execute_result"
    },
    {
     "data": {
      "image/png": "[encoded data removed]",
      "text/plain": [
       "<matplotlib.figure.Figure at 0x11e853f90>"
      ]
     },
     "metadata": {},
     "output_type": "display_data"
    }
   ],
   "source": [
    "plt.xlim(0,6000)\n",
    "plt.hist(nff, bins=100)"
   ]
  },
  {
   "cell_type": "markdown",
   "metadata": {},
   "source": [
    "## Looking at all small networks (biggest components)."
   ]
  },
  {
   "cell_type": "code",
   "execution_count": 116,
   "metadata": {
    "collapsed": false
   },
   "outputs": [],
   "source": [
    "# Reading the biggest component of each graph for each city.\n",
    "my_nets = []  # dict of lists\n",
    "my_nets_nx = []  # networkx objects\n",
    "for i in range(10):\n",
    "    my_nets.append(reindex_graph(read_dictlist_from_file('../data/network' + str(i) + 'b.csv'))[0])\n",
    "    my_nets_nx.append(convert_to_nx(my_nets[-1]))"
   ]
  },
  {
   "cell_type": "markdown",
   "metadata": {},
   "source": [
    "### Number of average degrees (for the biggest components)."
   ]
  },
  {
   "cell_type": "code",
   "execution_count": 117,
   "metadata": {
    "collapsed": false
   },
   "outputs": [
    {
     "data": {
      "text/plain": [
       "[<matplotlib.lines.Line2D at 0x10c3df350>]"
      ]
     },
     "execution_count": 117,
     "metadata": {},
     "output_type": "execute_result"
    },
    {
     "data": {
      "image/png": "[encoded data removed]",
      "text/plain": [
       "<matplotlib.figure.Figure at 0x11ea0f710>"
      ]
     },
     "metadata": {},
     "output_type": "display_data"
    }
   ],
   "source": [
    "average_degrees = []\n",
    "for i in range(10):\n",
    "    average_degrees.append(np.mean(my_nets_nx[i].degree().values()))\n",
    "plt.plot(average_degrees)"
   ]
  },
  {
   "cell_type": "markdown",
   "metadata": {},
   "source": [
    "### Densities"
   ]
  },
  {
   "cell_type": "code",
   "execution_count": 118,
   "metadata": {
    "collapsed": false
   },
   "outputs": [
    {
     "data": {
      "text/plain": [
       "[<matplotlib.lines.Line2D at 0x11f4dc5d0>]"
      ]
     },
     "execution_count": 118,
     "metadata": {},
     "output_type": "execute_result"
    },
    {
     "data": {
      "image/png": "[encoded data removed]",
      "text/plain": [
       "<matplotlib.figure.Figure at 0x10c6f9ed0>"
      ]
     },
     "metadata": {},
     "output_type": "display_data"
    }
   ],
   "source": [
    "densities = []\n",
    "for i in range(10):\n",
    "    densities.append(nx.density(my_nets_nx[i]))\n",
    "plt.plot(densities)"
   ]
  },
  {
   "cell_type": "markdown",
   "metadata": {},
   "source": [
    "### Assortativities."
   ]
  },
  {
   "cell_type": "code",
   "execution_count": 119,
   "metadata": {
    "collapsed": false
   },
   "outputs": [
    {
     "data": {
      "text/plain": [
       "[<matplotlib.lines.Line2D at 0x12790d810>]"
      ]
     },
     "execution_count": 119,
     "metadata": {},
     "output_type": "execute_result"
    },
    {
     "data": {
      "image/png": "[encoded data removed]",
      "text/plain": [
       "<matplotlib.figure.Figure at 0x11f2d35d0>"
      ]
     },
     "metadata": {},
     "output_type": "display_data"
    }
   ],
   "source": [
    "assortativities = []\n",
    "for i in range(10):\n",
    "    assortativities.append(nx.degree_assortativity_coefficient(my_nets_nx[i]))\n",
    "plt.plot(assortativities)"
   ]
  },
  {
   "cell_type": "markdown",
   "metadata": {},
   "source": [
    "### Average clustering coefficients"
   ]
  },
  {
   "cell_type": "code",
   "execution_count": 120,
   "metadata": {
    "collapsed": false
   },
   "outputs": [
    {
     "data": {
      "text/plain": [
       "[<matplotlib.lines.Line2D at 0x1a6560a50>]"
      ]
     },
     "execution_count": 120,
     "metadata": {},
     "output_type": "execute_result"
    },
    {
     "data": {
      "image/png": "[encoded data removed]",
      "text/plain": [
       "<matplotlib.figure.Figure at 0x11f4dce10>"
      ]
     },
     "metadata": {},
     "output_type": "display_data"
    }
   ],
   "source": [
    "average_clusterings = []\n",
    "for i in range(10):\n",
    "    average_clusterings.append(nx.average_clustering(my_nets_nx[i]))\n",
    "plt.plot(average_clusterings)"
   ]
  },
  {
   "cell_type": "markdown",
   "metadata": {},
   "source": [
    "## Spectral clustering for cities."
   ]
  },
  {
   "cell_type": "code",
   "execution_count": 121,
   "metadata": {
    "collapsed": false
   },
   "outputs": [],
   "source": [
    "# Adjacency matrix for small cities (city number >= 2 only)\n",
    "adjacency = []\n",
    "for i in range(2, 10):\n",
    "    adjacency.append(adjacency_matrix(my_nets[i]))"
   ]
  },
  {
   "cell_type": "code",
   "execution_count": 122,
   "metadata": {
    "collapsed": false
   },
   "outputs": [],
   "source": [
    "spectral = []\n",
    "for i in range(8):\n",
    "    spectral.append(SpectralClustering(n_clusters=2, eigen_solver='arpack', affinity='precomputed',\n",
    "                                       assign_labels='kmeans'))"
   ]
  },
  {
   "cell_type": "code",
   "execution_count": 123,
   "metadata": {
    "collapsed": false
   },
   "outputs": [],
   "source": [
    "for i in range(8):\n",
    "    spectral[i].fit(adjacency[i])"
   ]
  },
  {
   "cell_type": "code",
   "execution_count": 125,
   "metadata": {
    "collapsed": false
   },
   "outputs": [
    {
     "name": "stdout",
     "output_type": "stream",
     "text": [
      "[6385, 5, 0, 0, 0]\n"
     ]
    }
   ],
   "source": [
    "n_communities = []\n",
    "for i in range(5):\n",
    "    n_communities.append((spectral[0].labels_ == i).sum())\n",
    "print n_communities"
   ]
  },
  {
   "cell_type": "markdown",
   "metadata": {
    "collapsed": true
   },
   "source": [
    "## Differences between real rating and predictions."
   ]
  },
  {
   "cell_type": "code",
   "execution_count": 3,
   "metadata": {
    "collapsed": false
   },
   "outputs": [],
   "source": [
    "# Read the data for one run (processed to have real rating, average rating, rating by friends, rating by friends of\n",
    "# friends, number of friends rated, number of friends of friends rated\n",
    "# NaN will be given when there is no rating by friends and friends by friends.\n",
    "rating_diff_df = pd.read_csv('../fig/fig_data/ratings_by_item2', delimiter=' ', names=['real', 'average', 'friend', 'friend2', 'nfr', 'nfr2'], header=None)"
   ]
  },
  {
   "cell_type": "code",
   "execution_count": 4,
   "metadata": {
    "collapsed": false
   },
   "outputs": [],
   "source": [
    "ratings_diff1 = rating_diff_df[['real', 'average', 'friend', 'nfr']].dropna()\n",
    "ratings_diff2 = rating_diff_df[['real', 'average', 'friend2', 'nfr2']].dropna()"
   ]
  },
  {
   "cell_type": "code",
   "execution_count": 5,
   "metadata": {
    "collapsed": false
   },
   "outputs": [],
   "source": [
    "diff_ave1 = ratings_diff1.real - ratings_diff1.average\n",
    "diff_ave2 = ratings_diff2.real - ratings_diff2.average"
   ]
  },
  {
   "cell_type": "code",
   "execution_count": 6,
   "metadata": {
    "collapsed": false
   },
   "outputs": [
    {
     "data": {
      "text/plain": [
       "<matplotlib.axes._subplots.AxesSubplot at 0x7f19e2ccec90>"
      ]
     },
     "execution_count": 6,
     "metadata": {},
     "output_type": "execute_result"
    },
    {
     "data": {
      "image/png": "[encoded data removed]",
      "text/plain": [
       "<matplotlib.figure.Figure at 0x7f1a06db6190>"
      ]
     },
     "metadata": {},
     "output_type": "display_data"
    }
   ],
   "source": [
    "diff_ave1.hist(bins=20)"
   ]
  },
  {
   "cell_type": "code",
   "execution_count": 7,
   "metadata": {
    "collapsed": false
   },
   "outputs": [
    {
     "data": {
      "text/plain": [
       "<matplotlib.axes._subplots.AxesSubplot at 0x7f19e2b41a10>"
      ]
     },
     "execution_count": 7,
     "metadata": {},
     "output_type": "execute_result"
    },
    {
     "data": {
      "image/png": "[encoded data removed]",
      "text/plain": [
       "<matplotlib.figure.Figure at 0x7f19e2b53250>"
      ]
     },
     "metadata": {},
     "output_type": "display_data"
    }
   ],
   "source": [
    "diff_ave2.hist(bins=20)"
   ]
  },
  {
   "cell_type": "code",
   "execution_count": 8,
   "metadata": {
    "collapsed": false
   },
   "outputs": [
    {
     "name": "stdout",
     "output_type": "stream",
     "text": [
      "0.910563673967 0.990802610772\n"
     ]
    }
   ],
   "source": [
    "print diff_ave1.std(), diff_ave2.std()"
   ]
  },
  {
   "cell_type": "code",
   "execution_count": 9,
   "metadata": {
    "collapsed": false
   },
   "outputs": [
    {
     "data": {
      "text/plain": [
       "<matplotlib.axes._subplots.AxesSubplot at 0x7f19e2a73910>"
      ]
     },
     "execution_count": 9,
     "metadata": {},
     "output_type": "execute_result"
    },
    {
     "data": {
      "image/png": "[encoded data removed]",
      "text/plain": [
       "<matplotlib.figure.Figure at 0x7f19e2a24c50>"
      ]
     },
     "metadata": {},
     "output_type": "display_data"
    }
   ],
   "source": [
    "diff_fr1 = ratings_diff1.real - ratings_diff1.friend\n",
    "diff_fr1.hist(bins=10)"
   ]
  },
  {
   "cell_type": "code",
   "execution_count": 10,
   "metadata": {
    "collapsed": false
   },
   "outputs": [
    {
     "data": {
      "text/plain": [
       "<matplotlib.axes._subplots.AxesSubplot at 0x7f19e28f5390>"
      ]
     },
     "execution_count": 10,
     "metadata": {},
     "output_type": "execute_result"
    },
    {
     "data": {
      "image/png": "[encoded data removed]",
      "text/plain": [
       "<matplotlib.figure.Figure at 0x7f19e28f5050>"
      ]
     },
     "metadata": {},
     "output_type": "display_data"
    }
   ],
   "source": [
    "diff_fr2 = ratings_diff2.real - ratings_diff2.friend2\n",
    "diff_fr2.hist(bins=10)"
   ]
  },
  {
   "cell_type": "code",
   "execution_count": 11,
   "metadata": {
    "collapsed": false
   },
   "outputs": [],
   "source": [
    "stds1 = []\n",
    "baseline1 = []\n",
    "for n in range(1,100):\n",
    "    diff_fr1 = ratings_diff1[ratings_diff1['nfr'] == n].real - \\\n",
    "               ratings_diff1[ratings_diff1['nfr'] == n].friend\n",
    "    stds1.append(np.sqrt(np.mean(np.square(diff_fr1))))\n",
    "    diff_av1 = ratings_diff1[ratings_diff1['nfr'] == n].real - \\\n",
    "               ratings_diff1[ratings_diff1['nfr'] == n].average\n",
    "    baseline1.append(np.sqrt(np.mean(np.square(diff_av1))))"
   ]
  },
  {
   "cell_type": "code",
   "execution_count": 12,
   "metadata": {
    "collapsed": false
   },
   "outputs": [],
   "source": [
    "stds2 = []\n",
    "baseline2 = []\n",
    "for n in range(1,100):\n",
    "    diff_fr2 = ratings_diff2[ratings_diff2['nfr2'] == n].real - \\\n",
    "               ratings_diff2[ratings_diff2['nfr2'] == n].friend2\n",
    "    stds2.append(np.sqrt(np.mean(np.square(diff_fr2))))\n",
    "    diff_av2 = ratings_diff2[ratings_diff2['nfr2'] == n].real - \\\n",
    "               ratings_diff2[ratings_diff2['nfr2'] == n].average\n",
    "    baseline2.append(np.sqrt(np.mean(np.square(diff_av2))))"
   ]
  },
  {
   "cell_type": "code",
   "execution_count": 27,
   "metadata": {
    "collapsed": false
   },
   "outputs": [
    {
     "data": {
      "image/png": "[encoded data removed]",
      "text/plain": [
       "<matplotlib.figure.Figure at 0x7f19e2462490>"
      ]
     },
     "metadata": {},
     "output_type": "display_data"
    }
   ],
   "source": [
    "plt.xlabel('number of friends who rated')\n",
    "plt.ylabel('RMSE for subsets')\n",
    "plt.xlim(0,20)\n",
    "plt.ylim(0,2)\n",
    "#plt.title('How the number of ratings from friends affect prediction')\n",
    "fig1 = plt.plot(range(1,100), stds1, marker='o', color='g', label='friends only')\n",
    "fig2 = plt.plot(range(1,100), stds2, marker='s', color= 'c', label='friends of friends only')\n",
    "#fig3 = plt.plot(range(1,100), baseline1, marker='D', color='g', label='baseline for friends')\n",
    "#fig4 = plt.plot(range(1,100), baseline2, marker='D', color='b', label='baseline for friends of friends')\n",
    "#b1 = ratings_diff1.real.std()\n",
    "#b2 = ratings_diff2.real.std()\n",
    "#fig3 = plt.plot([0, 100], [b1, b1], color='g', label='baseline for friends')\n",
    "#fig4 = plt.plot([0, 100], [b2, b2], color='b', label='baseline for friends of friends')\n",
    "b0 = 1.065 # standard deviation of ratings for the city of Montreal.\n",
    "fig5 = plt.plot([0, 100], [b0, b0], color='purple', label='all users (average)')\n",
    "plt.legend()\n",
    "plt.savefig('../fig/friends.png', dpi=200)"
   ]
  },
  {
   "cell_type": "code",
   "execution_count": 146,
   "metadata": {
    "collapsed": true
   },
   "outputs": [],
   "source": [
    "# Baseline is already obtained for the whole ratings of the dataset, which is just the standard deviation\n",
    "# of the all ratings. But this is not to be compared with results from UsingFriends, because they are using \n",
    "# subsets (one for each city) of the whole data. \n",
    "b_whole = 1.3114679041155461"
   ]
  },
  {
   "cell_type": "markdown",
   "metadata": {},
   "source": [
    "Baseline numbers for each city was obtained using Validator.get_baseline method. Here it computes the standard deviation for the given ratings of the training set."
   ]
  },
  {
   "cell_type": "code",
   "execution_count": 18,
   "metadata": {
    "collapsed": false
   },
   "outputs": [],
   "source": [
    "ba_df = np.loadtxt('../fig/fig_data/baseline_each_city')"
   ]
  },
  {
   "cell_type": "markdown",
   "metadata": {},
   "source": [
    "CF was run using (n_feasures=2, learning_rate=0.009, regularization_parameter=0.07) and K=10 with item bias considered (not user bias)."
   ]
  },
  {
   "cell_type": "code",
   "execution_count": 19,
   "metadata": {
    "collapsed": true
   },
   "outputs": [],
   "source": [
    "cf = np.loadtxt('../fig/fig_data/cf_rmse')"
   ]
  },
  {
   "cell_type": "markdown",
   "metadata": {},
   "source": [
    "Using_Friends has been used to find the RMSE for the network-based model."
   ]
  },
  {
   "cell_type": "code",
   "execution_count": 14,
   "metadata": {
    "collapsed": false
   },
   "outputs": [],
   "source": [
    "nf1 = np.loadtxt('../fig/fig_data/nf_rmse')\n",
    "nf2 = np.loadtxt('../fig/fig_data/nf_rmse2')"
   ]
  },
  {
   "cell_type": "code",
   "execution_count": 26,
   "metadata": {
    "collapsed": false
   },
   "outputs": [
    {
     "data": {
      "image/png": "[encoded data removed]",
      "text/plain": [
       "<matplotlib.figure.Figure at 0x7f19e246b2d0>"
      ]
     },
     "metadata": {},
     "output_type": "display_data"
    }
   ],
   "source": [
    "fig = plt.figure(figsize=(8,6))\n",
    "ax = fig.add_subplot(111)\n",
    "plt.title('Comparison of models for each city')\n",
    "plt.ylabel('RMSE')\n",
    "plt.xlim(-1,6.5)\n",
    "plt.ylim(0.8, 1.3)\n",
    "ax.set_xticks(range(7))\n",
    "xtickNames = ax.set_xticklabels(city_names)\n",
    "plt.setp(xtickNames, rotation=90, fontsize=10)\n",
    "ax.set_position([0.1,0.1,1.2,0.9])\n",
    "#fig1 = plt.plot([-2, 100], [b, b], color='g', label='baseline (whole)')\n",
    "fig1 = plt.plot(ba_df[:7,0], ba_df[:7,1], marker='s', color='purple', label='average', ls=':')\n",
    "fig2 = plt.plot(cf[:7,0], cf[:7,3], marker='^', color='r', label='CF + business bias', ls=':')\n",
    "fig3 = plt.plot(nf2[:7,0], nf2[:7,1], marker='D', color='b', label='NF + average', ls=':')\n",
    "fig4 = plt.plot(nf1[:7,0], nf1[:7,1], marker='o', color='g', label='NF (subsets only)*', ls=':')\n",
    "plt.legend(bbox_to_anchor=(1.05, 1), loc=2 )\n",
    "plt.tight_layout()\n",
    "plt.savefig('../fig/rmse.png', dpi=200)"
   ]
  },
  {
   "cell_type": "markdown",
   "metadata": {
    "collapsed": true
   },
   "source": [
    "### How the lower limit for the number of ratings by friends changes the RMSE and the % of predicted."
   ]
  },
  {
   "cell_type": "code",
   "execution_count": 163,
   "metadata": {
    "collapsed": true
   },
   "outputs": [],
   "source": [
    "# By running the model, results are produced already: city0_limit, city1_limit, city3_limit. \n",
    "limit0 = np.loadtxt('../fig/fig_data/city0_limit')\n",
    "limit1 = np.loadtxt('../fig/fig_data/city1_limit')\n",
    "limit3 = np.loadtxt('../fig/fig_data/city3_limit')"
   ]
  },
  {
   "cell_type": "markdown",
   "metadata": {},
   "source": [
    "Seems like their behavior is almost the same."
   ]
  },
  {
   "cell_type": "code",
   "execution_count": 167,
   "metadata": {
    "collapsed": false,
    "scrolled": true
   },
   "outputs": [
    {
     "data": {
      "image/png": "[encoded data removed]",
      "text/plain": [
       "<matplotlib.figure.Figure at 0x1d1f006d0>"
      ]
     },
     "metadata": {},
     "output_type": "display_data"
    }
   ],
   "source": [
    "\n",
    "plt.title('For the biggest component of Montreal')\n",
    "plt.ylim(0, 1.1)\n",
    "plt.xlim(0.5,10.5)\n",
    "plt.xlabel('lower limit for the number of ratings by friends')\n",
    "plt.ylabel('coverage                    RMSE (subsets)')\n",
    "#plt.plot(limit0[:,0], limit0[:,1])\n",
    "#plt.plot(limit1[:,0], limit1[:,1], marker='', color='b', label='Las Vegas')\n",
    "plt.plot(limit3[:,0], limit3[:,2], marker='o', color='g', label='NF (using friends)')\n",
    "plt.plot(limit3[:,0], limit3[:,1], marker='s', color='purple', label='coverage')\n",
    "plt.plot([0,11], [0.6,0.6], color='black')\n",
    "#plt.plot(limit0[:,0], limit0[:,2])\n",
    "#plt.plot(limit1[:,0], limit1[:,2])\n",
    "plt.legend()\n",
    "plt.savefig('../fig/limit.png', dpi=200)"
   ]
  },
  {
   "cell_type": "code",
   "execution_count": null,
   "metadata": {
    "collapsed": true
   },
   "outputs": [],
   "source": []
  }
 ],
 "metadata": {
  "kernelspec": {
   "display_name": "Python 2",
   "language": "python",
   "name": "python2"
  },
  "language_info": {
   "codemirror_mode": {
    "name": "ipython",
    "version": 2
   },
   "file_extension": ".py",
   "mimetype": "text/x-python",
   "name": "python",
   "nbconvert_exporter": "python",
   "pygments_lexer": "ipython2",
   "version": "2.7.10"
  }
 },
 "nbformat": 4,
 "nbformat_minor": 0
}
