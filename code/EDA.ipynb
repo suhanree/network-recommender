{
 "cells": [
  {
   "cell_type": "markdown",
   "metadata": {},
   "source": [
    "# Exploratory Data Analysis"
   ]
  },
  {
   "cell_type": "code",
   "execution_count": 1,
   "metadata": {
    "collapsed": true
   },
   "outputs": [],
   "source": [
    "# importing necessary libraries\n",
    "import pandas as pd\n",
    "import numpy as np\n",
    "import json\n",
    "import csv\n",
    "import os\n",
    "import cPickle as pickle\n",
    "from collections import Counter\n",
    "\n",
    "from sklearn.cluster import KMeans, SpectralClustering\n",
    "\n",
    "import networkx as nx\n",
    "\n",
    "from my_utilities import *\n",
    "\n",
    "import matplotlib.pyplot as plt\n",
    "%matplotlib inline"
   ]
  },
  {
   "cell_type": "markdown",
   "metadata": {},
   "source": [
    "##Reading the data (stored as dataframes in pickled files)"
   ]
  },
  {
   "cell_type": "code",
   "execution_count": 2,
   "metadata": {
    "collapsed": false
   },
   "outputs": [],
   "source": [
    "# Loading the pickled data frames from users, businesses, and reviews.\n",
    "# Assuming these data frames were obtained already using 'make_dataframes.py'\n",
    "dataframe_pickle_filename = '../data/dataframes.pkl'\n",
    "with open(dataframe_pickle_filename, 'r') as f:\n",
    "    (user_df, business_df, review_df) = pickle.load(f)"
   ]
  },
  {
   "cell_type": "markdown",
   "metadata": {},
   "source": [
    "## Trying to understand the data"
   ]
  },
  {
   "cell_type": "markdown",
   "metadata": {},
   "source": [
    "### Looking at some overall stats"
   ]
  },
  {
   "cell_type": "code",
   "execution_count": 3,
   "metadata": {
    "collapsed": false
   },
   "outputs": [
    {
     "name": "stdout",
     "output_type": "stream",
     "text": [
      "3.74265579278\n"
     ]
    },
    {
     "data": {
      "text/plain": [
       "<matplotlib.axes._subplots.AxesSubplot at 0x10a021750>"
      ]
     },
     "execution_count": 3,
     "metadata": {},
     "output_type": "execute_result"
    },
    {
     "data": {
      "image/png": "[encoded data removed]",
      "text/plain": [
       "<matplotlib.figure.Figure at 0x109c9f350>"
      ]
     },
     "metadata": {},
     "output_type": "display_data"
    }
   ],
   "source": [
    "# average rating\n",
    "print review_df.review_stars.mean()\n",
    "review_df.review_stars.hist(bins=5)"
   ]
  },
  {
   "cell_type": "markdown",
   "metadata": {},
   "source": [
    "Ratings are skewed toward 5."
   ]
  },
  {
   "cell_type": "code",
   "execution_count": 4,
   "metadata": {
    "collapsed": false
   },
   "outputs": [
    {
     "data": {
      "text/plain": [
       "1.3114679041155461"
      ]
     },
     "execution_count": 4,
     "metadata": {},
     "output_type": "execute_result"
    }
   ],
   "source": [
    "# Standard deviation of the all reviews. (This will be the baseline RMSE for the whole star ratings.)\n",
    "review_df.review_stars.std()"
   ]
  },
  {
   "cell_type": "markdown",
   "metadata": {},
   "source": [
    "### Find cities for businesses using k-means."
   ]
  },
  {
   "cell_type": "code",
   "execution_count": 5,
   "metadata": {
    "collapsed": true
   },
   "outputs": [],
   "source": [
    "X = business_df[['business_latitude', 'business_longitude']].values"
   ]
  },
  {
   "cell_type": "code",
   "execution_count": 6,
   "metadata": {
    "collapsed": true
   },
   "outputs": [],
   "source": [
    "km = KMeans(10, n_jobs=8)"
   ]
  },
  {
   "cell_type": "code",
   "execution_count": 7,
   "metadata": {
    "collapsed": true
   },
   "outputs": [],
   "source": [
    "y = km.fit_predict(X)"
   ]
  },
  {
   "cell_type": "code",
   "execution_count": 8,
   "metadata": {
    "collapsed": false
   },
   "outputs": [
    {
     "data": {
      "text/plain": [
       "<matplotlib.collections.PathCollection at 0x10c37c150>"
      ]
     },
     "execution_count": 8,
     "metadata": {},
     "output_type": "execute_result"
    },
    {
     "data": {
      "image/png": "[encoded data removed]",
      "text/plain": [
       "<matplotlib.figure.Figure at 0x10f3af350>"
      ]
     },
     "metadata": {},
     "output_type": "display_data"
    }
   ],
   "source": [
    "plt.scatter(X[:,1], X[:,0])"
   ]
  },
  {
   "cell_type": "code",
   "execution_count": 9,
   "metadata": {
    "collapsed": false
   },
   "outputs": [],
   "source": [
    "city_locations = km.cluster_centers_"
   ]
  },
  {
   "cell_type": "code",
   "execution_count": 10,
   "metadata": {
    "collapsed": true
   },
   "outputs": [],
   "source": [
    "n_businesses_per_city = Counter(y).most_common()"
   ]
  },
  {
   "cell_type": "code",
   "execution_count": 11,
   "metadata": {
    "collapsed": false
   },
   "outputs": [],
   "source": [
    "sorted_y = [c[0] for c in n_businesses_per_city]\n",
    "sorted_y_map = {}                                                            \n",
    "for i in range(10):                                                      \n",
    "      sorted_y_map[sorted_y[i]] = i"
   ]
  },
  {
   "cell_type": "code",
   "execution_count": 12,
   "metadata": {
    "collapsed": false
   },
   "outputs": [],
   "source": [
    "business_df['business_city_int'] = map(lambda i: sorted_y_map[i], y)"
   ]
  },
  {
   "cell_type": "code",
   "execution_count": 13,
   "metadata": {
    "collapsed": false
   },
   "outputs": [],
   "source": [
    "city_names = ['Phoenix', 'Las Vegas', 'Charlotte', 'Montreal', 'Edinburgh', 'Pittsburgh',  'Madison', 'Karlsruhe',\n",
    "              'Urbana-Champaign', 'Waterloo']"
   ]
  },
  {
   "cell_type": "markdown",
   "metadata": {},
   "source": [
    "### Find reviews for businesses in each city"
   ]
  },
  {
   "cell_type": "code",
   "execution_count": 14,
   "metadata": {
    "collapsed": false
   },
   "outputs": [],
   "source": [
    "# Dataframe with the reviews (with business city).\n",
    "review_city_df = business_df[['business_id_int', 'business_city_int']].merge(review_df, on=['business_id_int'], how='inner')"
   ]
  },
  {
   "cell_type": "code",
   "execution_count": 15,
   "metadata": {
    "collapsed": false
   },
   "outputs": [],
   "source": [
    "# Reviews for three specific cities.\n",
    "review_phoenix = review_city_df[review_city_df.business_city_int == 0].drop(['business_city_int'], axis=1)   # Phoenix\n",
    "review_lasvegas = review_city_df[review_city_df.business_city_int == 1].drop(['business_city_int'], axis=1)  # Las Vegas\n",
    "review_charlotte = review_city_df[review_city_df.business_city_int == 2].drop(['business_city_int'], axis=1)   # Charlotte\n",
    "review_montreal = review_city_df[review_city_df.business_city_int == 3].drop(['business_city_int'], axis=1)  # Montreal"
   ]
  },
  {
   "cell_type": "code",
   "execution_count": 16,
   "metadata": {
    "collapsed": false
   },
   "outputs": [
    {
     "data": {
      "text/plain": [
       "(128330, 181712, 24649, 13861)"
      ]
     },
     "execution_count": 16,
     "metadata": {},
     "output_type": "execute_result"
    }
   ],
   "source": [
    "len(review_phoenix.user_id_int.unique()), len(review_lasvegas.user_id_int.unique()),len(review_charlotte.user_id_int.unique()), len(review_montreal.user_id_int.unique()) "
   ]
  },
  {
   "cell_type": "code",
   "execution_count": 17,
   "metadata": {
    "collapsed": false
   },
   "outputs": [
    {
     "data": {
      "text/plain": [
       "(25225, 16469, 5149, 3918)"
      ]
     },
     "execution_count": 17,
     "metadata": {},
     "output_type": "execute_result"
    }
   ],
   "source": [
    "len(review_phoenix.business_id_int.unique()), len(review_lasvegas.business_id_int.unique()), len(review_charlotte.business_id_int.unique()), len(review_montreal.business_id_int.unique()), "
   ]
  },
  {
   "cell_type": "code",
   "execution_count": 18,
   "metadata": {
    "collapsed": false
   },
   "outputs": [
    {
     "data": {
      "text/plain": [
       "(591192, 679460, 98034, 49484)"
      ]
     },
     "execution_count": 18,
     "metadata": {},
     "output_type": "execute_result"
    }
   ],
   "source": [
    "review_phoenix.shape[0], review_lasvegas.shape[0], review_charlotte.shape[0], review_montreal.shape[0]"
   ]
  },
  {
   "cell_type": "code",
   "execution_count": 19,
   "metadata": {
    "collapsed": false
   },
   "outputs": [
    {
     "data": {
      "text/plain": [
       "<matplotlib.collections.PathCollection at 0x10e00f5d0>"
      ]
     },
     "execution_count": 19,
     "metadata": {},
     "output_type": "execute_result"
    },
    {
     "data": {
      "image/png": "[encoded data removed]",
      "text/plain": [
       "<matplotlib.figure.Figure at 0x10c326b10>"
      ]
     },
     "metadata": {},
     "output_type": "display_data"
    }
   ],
   "source": [
    "# Check the clustering was done correctly.\n",
    "X = business_df[business_df.business_city_int==1][['business_latitude', 'business_longitude']].values\n",
    "plt.scatter(X[:,1], X[:,0])"
   ]
  },
  {
   "cell_type": "code",
   "execution_count": 20,
   "metadata": {
    "collapsed": false
   },
   "outputs": [
    {
     "data": {
      "text/plain": [
       "<matplotlib.axes._subplots.AxesSubplot at 0x10f80fc10>"
      ]
     },
     "execution_count": 20,
     "metadata": {},
     "output_type": "execute_result"
    },
    {
     "data": {
      "image/png": "[encoded data removed]",
      "text/plain": [
       "<matplotlib.figure.Figure at 0x10c3982d0>"
      ]
     },
     "metadata": {},
     "output_type": "display_data"
    }
   ],
   "source": [
    "# Looking at review distributions in each city (Phoenix, Las Vegas, Montreal).\n",
    "plt.figure(figsize = (17, 4))\n",
    "plt.subplot(1,4,1)\n",
    "plt.title(\"Phoenix\")\n",
    "review_phoenix.review_stars.hist(bins=5)\n",
    "plt.subplot(1,4,2)\n",
    "plt.title(\"Las Vegas\")\n",
    "review_lasvegas.review_stars.hist(bins=5)\n",
    "plt.subplot(1,4,3)\n",
    "plt.title(\"Charlotte\")\n",
    "review_charlotte.review_stars.hist(bins=5)\n",
    "plt.subplot(1,4,4)\n",
    "plt.title(\"Montreal\")\n",
    "review_montreal.review_stars.hist(bins=5)\n",
    "plt.savefig(\"../fig/ratings_dist.png\")"
   ]
  },
  {
   "cell_type": "markdown",
   "metadata": {},
   "source": [
    "It is quite interesting that Montreal has quite different review distribution compared to other cities."
   ]
  },
  {
   "cell_type": "code",
   "execution_count": 21,
   "metadata": {
    "collapsed": false
   },
   "outputs": [
    {
     "name": "stdout",
     "output_type": "stream",
     "text": [
      "1.34162771089 1.32606119856 1.16331249085\n"
     ]
    }
   ],
   "source": [
    "print review_phoenix.review_stars.std(), review_lasvegas.review_stars.std(), review_montreal.review_stars.std()"
   ]
  },
  {
   "cell_type": "markdown",
   "metadata": {},
   "source": [
    "### Number of reviews per user."
   ]
  },
  {
   "cell_type": "code",
   "execution_count": 22,
   "metadata": {
    "collapsed": false
   },
   "outputs": [
    {
     "data": {
      "text/plain": [
       "<matplotlib.axes._subplots.AxesSubplot at 0x10e028690>"
      ]
     },
     "execution_count": 22,
     "metadata": {},
     "output_type": "execute_result"
    },
    {
     "data": {
      "image/png": "[encoded data removed]",
      "text/plain": [
       "<matplotlib.figure.Figure at 0x10f0919d0>"
      ]
     },
     "metadata": {},
     "output_type": "display_data"
    }
   ],
   "source": [
    "plt.ylim([100,100000])\n",
    "plt.gca().set_xscale(\"log\")\n",
    "plt.yscale('log')\n",
    "plt.title('Number of reviews per user')\n",
    "plt.xlabel('Number of reviews')\n",
    "plt.ylabel('Number of users')\n",
    "user_df.user_review_count.hist(bins=np.logspace(0.1, 3.5, 20))"
   ]
  },
  {
   "cell_type": "markdown",
   "metadata": {},
   "source": [
    "Users have at least 1 review."
   ]
  },
  {
   "cell_type": "markdown",
   "metadata": {},
   "source": [
    "### Number of reviews per business."
   ]
  },
  {
   "cell_type": "code",
   "execution_count": 23,
   "metadata": {
    "collapsed": false
   },
   "outputs": [
    {
     "data": {
      "text/plain": [
       "<matplotlib.axes._subplots.AxesSubplot at 0x10c70c690>"
      ]
     },
     "execution_count": 23,
     "metadata": {},
     "output_type": "execute_result"
    },
    {
     "data": {
      "image/png": "[encoded data removed]",
      "text/plain": [
       "<matplotlib.figure.Figure at 0x10c398890>"
      ]
     },
     "metadata": {},
     "output_type": "display_data"
    }
   ],
   "source": [
    "plt.ylim([10, 10000])\n",
    "plt.gca().set_xscale(\"log\")\n",
    "plt.yscale('log')\n",
    "plt.title('Number of reviews per business')\n",
    "plt.xlabel('Number of reviews')\n",
    "plt.ylabel('Number of businesses')\n",
    "business_df.business_review_count.hist(bins=np.logspace(0.45, 3.5, 30))"
   ]
  },
  {
   "cell_type": "code",
   "execution_count": 24,
   "metadata": {
    "collapsed": false
   },
   "outputs": [
    {
     "data": {
      "text/plain": [
       "3"
      ]
     },
     "execution_count": 24,
     "metadata": {},
     "output_type": "execute_result"
    }
   ],
   "source": [
    "business_df.business_review_count.min()"
   ]
  },
  {
   "cell_type": "markdown",
   "metadata": {},
   "source": [
    "Businesses have at least 3 reviews."
   ]
  },
  {
   "cell_type": "markdown",
   "metadata": {},
   "source": [
    "### Some counts per city"
   ]
  },
  {
   "cell_type": "code",
   "execution_count": 25,
   "metadata": {
    "collapsed": false
   },
   "outputs": [],
   "source": [
    "n_users = float(user_df.shape[0])\n",
    "n_businesses = float(business_df.shape[0])\n",
    "n_reviews = float(review_df.shape[0])\n",
    "users_by_city = np.array(review_city_df.groupby('business_city_int').user_id_int.nunique())\n",
    "businesses_by_city = np.array(review_city_df.groupby('business_city_int').business_id_int.nunique())\n",
    "reviews_by_city = np.array(review_city_df.groupby('business_city_int').user_id_int.count())\n",
    "users_by_city_ratio = users_by_city / n_users\n",
    "businesses_by_city_ratio = businesses_by_city / n_businesses\n",
    "reviews_by_city_ratio = reviews_by_city / n_reviews"
   ]
  },
  {
   "cell_type": "code",
   "execution_count": 26,
   "metadata": {
    "collapsed": false
   },
   "outputs": [],
   "source": [
    "def plot_counts(users_by_city, businesses_by_city, reviews_by_city, title, ylabel, ylim=1):\n",
    "    fig = plt.figure()\n",
    "    ax = fig.add_subplot(111)\n",
    "\n",
    "    ind = np.arange(10) # the x locations for the groups\n",
    "    width = 0.25        # the width of the bars\n",
    "\n",
    "    ## the bars\n",
    "    rects0 = ax.bar(ind, users_by_city, width, color='r')\n",
    "    rects1 = ax.bar(ind + width, businesses_by_city, width, color='g')\n",
    "    rects2 = ax.bar(ind + 2 * width, reviews_by_city, width, color='b')\n",
    "\n",
    "    # axes and labels\n",
    "    ax.set_xlim(-width, len(ind) + width)\n",
    "    ax.set_ylim(0, ylim)\n",
    "    ax.set_ylabel(ylabel)\n",
    "    ax.set_title(title)\n",
    "    ax.set_xticks(ind + 1.5*width)\n",
    "    xtickNames = ax.set_xticklabels(city_names)\n",
    "    plt.setp(xtickNames, rotation=90, fontsize=10)\n",
    "\n",
    "    ## add a legend\n",
    "    ax.legend((rects0[0], rects1[0], rects2[0]), ('Users', 'Business', 'Review'))"
   ]
  },
  {
   "cell_type": "code",
   "execution_count": 27,
   "metadata": {
    "collapsed": false
   },
   "outputs": [
    {
     "data": {
      "text/plain": [
       "<matplotlib.figure.Figure at 0x10c398310>"
      ]
     },
     "metadata": {},
     "output_type": "display_data"
    },
    {
     "data": {
      "image/png": "[encoded data removed]",
      "text/plain": [
       "<matplotlib.figure.Figure at 0x10e08ef90>"
      ]
     },
     "metadata": {},
     "output_type": "display_data"
    }
   ],
   "source": [
    "plt.figure(num=None, figsize=(8, 5), dpi=200)\n",
    "plot_counts(users_by_city_ratio, businesses_by_city_ratio, reviews_by_city_ratio, 'Ratios by cities', \n",
    "            'ratios', ylim=0.6)\n",
    "plt.tight_layout()\n",
    "plt.savefig('../fig/ratios_by_city.png', dpi=200)"
   ]
  },
  {
   "cell_type": "code",
   "execution_count": 28,
   "metadata": {
    "collapsed": false
   },
   "outputs": [
    {
     "data": {
      "text/plain": [
       "<matplotlib.figure.Figure at 0x10e0972d0>"
      ]
     },
     "metadata": {},
     "output_type": "display_data"
    },
    {
     "data": {
      "image/png": "[encoded data removed]",
      "text/plain": [
       "<matplotlib.figure.Figure at 0x10e09f290>"
      ]
     },
     "metadata": {},
     "output_type": "display_data"
    }
   ],
   "source": [
    "plt.figure(num=None, figsize=(8, 5), dpi=200)\n",
    "plot_counts(users_by_city, businesses_by_city, reviews_by_city, 'Counts by cities', \n",
    "            'counts', ylim=700000)\n",
    "plt.tight_layout()\n",
    "plt.savefig('../fig/counts_by_city.png', dpi=160)"
   ]
  },
  {
   "cell_type": "markdown",
   "metadata": {},
   "source": [
    "Phoenix and Las Vegas are two biggest cities here. A unique characteristic we can see is that in Las Vegas the number of users is much greater than the number of businesses; on the other hand, in Phoenix, the number of businesses is greater than the number of users. At first, I assumed there might be many tourists in Las Vegas, but based on counts below, there are not many users who leave reviews in multiple cities (only 5%). Then two possible explanations are: (1) there are just many more users than businesses, (2) users in Las Vegas are much more active."
   ]
  },
  {
   "cell_type": "markdown",
   "metadata": {},
   "source": [
    "### Number of cities per user"
   ]
  },
  {
   "cell_type": "markdown",
   "metadata": {},
   "source": [
    "Here trying to find how many cities each user left reviews."
   ]
  },
  {
   "cell_type": "code",
   "execution_count": 30,
   "metadata": {
    "collapsed": false
   },
   "outputs": [],
   "source": [
    "cities_by_user = np.array(review_city_df.groupby('user_id_int').business_city_int.nunique())"
   ]
  },
  {
   "cell_type": "code",
   "execution_count": 31,
   "metadata": {
    "collapsed": false
   },
   "outputs": [
    {
     "data": {
      "text/plain": [
       "0.95011112171577383"
      ]
     },
     "execution_count": 31,
     "metadata": {},
     "output_type": "execute_result"
    }
   ],
   "source": [
    "sum(cities_by_user == 1) / float(n_users)"
   ]
  },
  {
   "cell_type": "code",
   "execution_count": 32,
   "metadata": {
    "collapsed": false
   },
   "outputs": [
    {
     "data": {
      "text/plain": [
       "0.045563993837176006"
      ]
     },
     "execution_count": 32,
     "metadata": {},
     "output_type": "execute_result"
    }
   ],
   "source": [
    "sum(cities_by_user == 2) / float(n_users)"
   ]
  },
  {
   "cell_type": "code",
   "execution_count": 33,
   "metadata": {
    "collapsed": false
   },
   "outputs": [
    {
     "data": {
      "text/plain": [
       "0.0043248844470501618"
      ]
     },
     "execution_count": 33,
     "metadata": {},
     "output_type": "execute_result"
    }
   ],
   "source": [
    "sum(cities_by_user > 2) / float(n_users)"
   ]
  },
  {
   "cell_type": "markdown",
   "metadata": {},
   "source": [
    "Most of users left reviews in only one city (95 %), and 4.56 % of users left reviews in one city. There are only 0.43 % of users who left reviews in more than two cities. Also, the earliest date and the latest date for reviews are 2004-10-12 and 2015-01-08."
   ]
  },
  {
   "cell_type": "code",
   "execution_count": 34,
   "metadata": {
    "collapsed": false
   },
   "outputs": [
    {
     "name": "stdout",
     "output_type": "stream",
     "text": [
      "2004-10-12 2015-01-08\n"
     ]
    }
   ],
   "source": [
    "print review_df.review_date.min(), review_df.review_date.max()"
   ]
  },
  {
   "cell_type": "markdown",
   "metadata": {},
   "source": [
    "### Degree distribution"
   ]
  },
  {
   "cell_type": "markdown",
   "metadata": {},
   "source": [
    "Now we can look at the network structure. The easiest stat we can look is the degree distribution."
   ]
  },
  {
   "cell_type": "code",
   "execution_count": 35,
   "metadata": {
    "collapsed": true
   },
   "outputs": [],
   "source": [
    "degrees = pd.read_csv(\"../data/degrees\", names=['user_id', 'degree'], header=None)"
   ]
  },
  {
   "cell_type": "code",
   "execution_count": 36,
   "metadata": {
    "collapsed": false
   },
   "outputs": [],
   "source": [
    "def plot_degrees(degree_col, y_min, y_max):\n",
    "    plt.ylim([y_min, y_max])\n",
    "    plt.gca().set_xscale(\"log\")\n",
    "    plt.gca().set_yscale('log')\n",
    "    plt.title('Degree Distribution')\n",
    "    plt.xlabel('degree')\n",
    "    plt.ylabel('number of users')\n",
    "    degree_col.hist(bins=np.logspace(0.1, 4, 25))\n"
   ]
  },
  {
   "cell_type": "code",
   "execution_count": 37,
   "metadata": {
    "collapsed": false
   },
   "outputs": [
    {
     "data": {
      "image/png": "[encoded data removed]",
      "text/plain": [
       "<matplotlib.figure.Figure at 0x10d78d850>"
      ]
     },
     "metadata": {},
     "output_type": "display_data"
    }
   ],
   "source": [
    "plot_degrees(degrees.degree, 5, 50000)"
   ]
  },
  {
   "cell_type": "markdown",
   "metadata": {},
   "source": [
    "### Finding the number of users with at least one friend using degree info."
   ]
  },
  {
   "cell_type": "code",
   "execution_count": 38,
   "metadata": {
    "collapsed": true
   },
   "outputs": [],
   "source": [
    "# A set containing users with at least one friend.\n",
    "users2_set = set(degrees[degrees.degree > 0].user_id.values)"
   ]
  },
  {
   "cell_type": "markdown",
   "metadata": {},
   "source": [
    "### Create new dataframes that are reduced using only above users."
   ]
  },
  {
   "cell_type": "code",
   "execution_count": 39,
   "metadata": {
    "collapsed": false
   },
   "outputs": [],
   "source": [
    "# Create all dataframes that only have data with users with at least one friend.\n",
    "# First, find users first.\n",
    "user_df2 = user_df[user_df.apply(lambda x: x['user_id_int'] in users2_set, axis=1)]\n",
    "# Second, find reviews done by these users.\n",
    "review_df2 = review_df[review_df.apply(lambda x: x['user_id_int'] in users2_set, axis=1)]\n",
    "# Lastly, find businesses that only these reviews are done for.\n",
    "businesses2_set = set(review_df2.business_id_int.unique())\n",
    "business_df2 = business_df[business_df.apply(lambda x: x['business_id_int'] in businesses2_set, axis=1)]"
   ]
  },
  {
   "cell_type": "code",
   "execution_count": 40,
   "metadata": {
    "collapsed": false
   },
   "outputs": [],
   "source": [
    "# Dataframe with the reviews (with business city).\n",
    "review_city_df2 = business_df2[['business_id_int', 'business_city_int']]\\\n",
    "    .merge(review_df2, on=['business_id_int'], how='inner')"
   ]
  },
  {
   "cell_type": "code",
   "execution_count": 41,
   "metadata": {
    "collapsed": false
   },
   "outputs": [
    {
     "name": "stdout",
     "output_type": "stream",
     "text": [
      "174094 59106 1143736\n"
     ]
    }
   ],
   "source": [
    "print user_df2.shape[0], business_df2.shape[0], review_df2.shape[0]"
   ]
  },
  {
   "cell_type": "markdown",
   "metadata": {},
   "source": [
    "## Now doing above analyses with the reduced set."
   ]
  },
  {
   "cell_type": "code",
   "execution_count": 42,
   "metadata": {
    "collapsed": true
   },
   "outputs": [],
   "source": [
    "# Reviews for three specific cities.\n",
    "review_phoenix2 = review_city_df2[review_city_df2.business_city_int == 0].drop(['business_city_int'], axis=1)   # Phoenix\n",
    "review_lasvegas2 = review_city_df2[review_city_df2.business_city_int == 1].drop(['business_city_int'], axis=1)  # Las Vegas\n",
    "review_montreal2 = review_city_df2[review_city_df2.business_city_int == 3].drop(['business_city_int'], axis=1)  # Montreal"
   ]
  },
  {
   "cell_type": "markdown",
   "metadata": {},
   "source": [
    "### Number of reviews per user"
   ]
  },
  {
   "cell_type": "code",
   "execution_count": 43,
   "metadata": {
    "collapsed": false
   },
   "outputs": [
    {
     "data": {
      "text/plain": [
       "<matplotlib.axes._subplots.AxesSubplot at 0x10ca20810>"
      ]
     },
     "execution_count": 43,
     "metadata": {},
     "output_type": "execute_result"
    },
    {
     "data": {
      "image/png": "[encoded data removed]",
      "text/plain": [
       "<matplotlib.figure.Figure at 0x10d761b90>"
      ]
     },
     "metadata": {},
     "output_type": "display_data"
    }
   ],
   "source": [
    "plt.ylim([100,100000])\n",
    "plt.gca().set_xscale(\"log\")\n",
    "plt.yscale('log')\n",
    "plt.title('Number of reviews per user')\n",
    "plt.xlabel('Number of reviews')\n",
    "plt.ylabel('Number of users')\n",
    "user_df2.user_review_count.hist(bins=np.logspace(0.1, 3.5, 20))"
   ]
  },
  {
   "cell_type": "markdown",
   "metadata": {},
   "source": [
    "Looks different when number of reviews are small. Seems like users are more active overall."
   ]
  },
  {
   "cell_type": "markdown",
   "metadata": {},
   "source": [
    "### Number of reviews per business"
   ]
  },
  {
   "cell_type": "code",
   "execution_count": 44,
   "metadata": {
    "collapsed": false
   },
   "outputs": [
    {
     "data": {
      "text/plain": [
       "<matplotlib.axes._subplots.AxesSubplot at 0x10f1b7310>"
      ]
     },
     "execution_count": 44,
     "metadata": {},
     "output_type": "execute_result"
    },
    {
     "data": {
      "image/png": "[encoded data removed]",
      "text/plain": [
       "<matplotlib.figure.Figure at 0x10f11e310>"
      ]
     },
     "metadata": {},
     "output_type": "display_data"
    }
   ],
   "source": [
    "plt.ylim([10, 10000])\n",
    "plt.gca().set_xscale(\"log\")\n",
    "plt.yscale('log')\n",
    "plt.title('Number of reviews per business')\n",
    "plt.xlabel('Number of reviews')\n",
    "plt.ylabel('Number of businesses')\n",
    "business_df.business_review_count.hist(bins=np.logspace(0.45, 3.5, 30))"
   ]
  },
  {
   "cell_type": "markdown",
   "metadata": {},
   "source": [
    "Looks almost the same as before."
   ]
  },
  {
   "cell_type": "markdown",
   "metadata": {},
   "source": [
    "### Some counts per city"
   ]
  },
  {
   "cell_type": "code",
   "execution_count": 45,
   "metadata": {
    "collapsed": true
   },
   "outputs": [],
   "source": [
    "n_users2 = float(user_df2.shape[0])\n",
    "n_businesses2 = float(business_df2.shape[0])\n",
    "n_reviews2 = float(review_df2.shape[0])\n",
    "users_by_city_ratio2 = np.array(review_city_df2.groupby('business_city_int').user_id_int.nunique()) / n_users2\n",
    "businesses_by_city_ratio2 = np.array(review_city_df2.groupby('business_city_int').business_id_int.nunique()) / n_businesses2\n",
    "reviews_by_city_ratio2 = np.array(review_city_df2.groupby('business_city_int').user_id_int.count()) / n_reviews2"
   ]
  },
  {
   "cell_type": "code",
   "execution_count": 46,
   "metadata": {
    "collapsed": false
   },
   "outputs": [
    {
     "data": {
      "image/png": "[encoded data removed]",
      "text/plain": [
       "<matplotlib.figure.Figure at 0x10f142f10>"
      ]
     },
     "metadata": {},
     "output_type": "display_data"
    }
   ],
   "source": [
    "plot_counts(users_by_city_ratio2, businesses_by_city_ratio2, reviews_by_city_ratio2, 'Ratios by cities', \n",
    "            'ratios', ylim=0.6)\n",
    "plt.tight_layout()\n",
    "plt.savefig('../fig/ratios_by_city.png', dpi=200)"
   ]
  },
  {
   "cell_type": "markdown",
   "metadata": {},
   "source": [
    "Overall trends are the same here."
   ]
  },
  {
   "cell_type": "markdown",
   "metadata": {},
   "source": [
    "Degree distribution should be the same as before, except users with degree zero."
   ]
  },
  {
   "cell_type": "code",
   "execution_count": 47,
   "metadata": {
    "collapsed": false
   },
   "outputs": [],
   "source": [
    "cities_by_user2 = np.array(review_city_df2.groupby('user_id_int').business_city_int.nunique())"
   ]
  },
  {
   "cell_type": "code",
   "execution_count": 48,
   "metadata": {
    "collapsed": false
   },
   "outputs": [
    {
     "name": "stdout",
     "output_type": "stream",
     "text": [
      "0.920278700013 0.0714211862557 0.00830011373166\n"
     ]
    }
   ],
   "source": [
    "print sum(cities_by_user2 == 1) / float(n_users2),\\\n",
    "    sum(cities_by_user2 == 2) / float(n_users2),\\\n",
    "    sum(cities_by_user2 > 2) / float(n_users2)"
   ]
  },
  {
   "cell_type": "markdown",
   "metadata": {},
   "source": [
    "### User by city computed from 'find_users_by_city.py'.\n",
    "Here it uses the network friends to determine the city if a user has reviews in multiple cities. If threre are ties between friends, it chooses the city randomly. As shown above, 92.1% of users have reviews in only one city, and 0.8% of users are chosen randomly, which means out of users with multiple cities, about 10% of them are chosen randomly. "
   ]
  },
  {
   "cell_type": "code",
   "execution_count": 49,
   "metadata": {
    "collapsed": false
   },
   "outputs": [
    {
     "data": {
      "text/html": [
       "<div style=\"max-height:1000px;max-width:1500px;overflow:auto;\">\n",
       "<table border=\"1\" class=\"dataframe\">\n",
       "  <thead>\n",
       "    <tr style=\"text-align: right;\">\n",
       "      <th></th>\n",
       "      <th>user_id</th>\n",
       "    </tr>\n",
       "    <tr>\n",
       "      <th>city</th>\n",
       "      <th></th>\n",
       "    </tr>\n",
       "  </thead>\n",
       "  <tbody>\n",
       "    <tr>\n",
       "      <th>0</th>\n",
       "      <td> 52104</td>\n",
       "    </tr>\n",
       "    <tr>\n",
       "      <th>1</th>\n",
       "      <td> 92761</td>\n",
       "    </tr>\n",
       "    <tr>\n",
       "      <th>2</th>\n",
       "      <td>  9257</td>\n",
       "    </tr>\n",
       "    <tr>\n",
       "      <th>3</th>\n",
       "      <td>  5270</td>\n",
       "    </tr>\n",
       "    <tr>\n",
       "      <th>4</th>\n",
       "      <td>  1450</td>\n",
       "    </tr>\n",
       "    <tr>\n",
       "      <th>5</th>\n",
       "      <td>  6928</td>\n",
       "    </tr>\n",
       "    <tr>\n",
       "      <th>6</th>\n",
       "      <td>  4305</td>\n",
       "    </tr>\n",
       "    <tr>\n",
       "      <th>7</th>\n",
       "      <td>   135</td>\n",
       "    </tr>\n",
       "    <tr>\n",
       "      <th>8</th>\n",
       "      <td>  1507</td>\n",
       "    </tr>\n",
       "    <tr>\n",
       "      <th>9</th>\n",
       "      <td>   377</td>\n",
       "    </tr>\n",
       "  </tbody>\n",
       "</table>\n",
       "</div>"
      ],
      "text/plain": [
       "      user_id\n",
       "city         \n",
       "0       52104\n",
       "1       92761\n",
       "2        9257\n",
       "3        5270\n",
       "4        1450\n",
       "5        6928\n",
       "6        4305\n",
       "7         135\n",
       "8        1507\n",
       "9         377"
      ]
     },
     "execution_count": 49,
     "metadata": {},
     "output_type": "execute_result"
    }
   ],
   "source": [
    "user_by_city = pd.read_csv('../data/user_by_city', names=['user_id', 'city'], header=None)\n",
    "user_by_city.groupby('city').count()"
   ]
  },
  {
   "cell_type": "markdown",
   "metadata": {},
   "source": [
    "### Looking at subnetworks for each city."
   ]
  },
  {
   "cell_type": "code",
   "execution_count": 50,
   "metadata": {
    "collapsed": false
   },
   "outputs": [],
   "source": [
    "# Dataframes for each city.\n",
    "degrees_subnet = []\n",
    "for i in range(10):\n",
    "    degrees_subnet.append(pd.read_csv('../data/degrees%s' % i, names=['user_id', 'degree'], header=None))"
   ]
  },
  {
   "cell_type": "code",
   "execution_count": 51,
   "metadata": {
    "collapsed": false
   },
   "outputs": [
    {
     "name": "stdout",
     "output_type": "stream",
     "text": [
      "389936\n",
      "1516460\n",
      "43082\n",
      "18657\n",
      "9048\n",
      "26391\n",
      "13900\n",
      "228\n",
      "2652\n",
      "522\n",
      "2020876\n"
     ]
    }
   ],
   "source": [
    "# Number of edges for all subgraphs.\n",
    "nedges_subnet = []\n",
    "for i in range(10):\n",
    "    nedges_subnet.append(degrees_subnet[i].values.sum(axis=0)[1])\n",
    "    print nedges_subnet[i]\n",
    "print sum(nedges_subnet)"
   ]
  },
  {
   "cell_type": "code",
   "execution_count": 52,
   "metadata": {
    "collapsed": false
   },
   "outputs": [
    {
     "name": "stdout",
     "output_type": "stream",
     "text": [
      "2576179\n"
     ]
    }
   ],
   "source": [
    "# Number of edges for the total graph.\n",
    "nedges = degrees.values.sum(axis=0)[1]\n",
    "print nedges"
   ]
  },
  {
   "cell_type": "code",
   "execution_count": 53,
   "metadata": {
    "collapsed": false
   },
   "outputs": [
    {
     "data": {
      "text/plain": [
       "0.78444704347019367"
      ]
     },
     "execution_count": 53,
     "metadata": {},
     "output_type": "execute_result"
    }
   ],
   "source": [
    "# Percentage of edges that are connecting inside communities.\n",
    "sum(nedges_subnet)/float(nedges)"
   ]
  },
  {
   "cell_type": "markdown",
   "metadata": {},
   "source": [
    "### Degree distributions for subnets for three cities."
   ]
  },
  {
   "cell_type": "markdown",
   "metadata": {},
   "source": [
    "### Phoenix"
   ]
  },
  {
   "cell_type": "code",
   "execution_count": 54,
   "metadata": {
    "collapsed": false
   },
   "outputs": [
    {
     "data": {
      "image/png": "[encoded data removed]",
      "text/plain": [
       "<matplotlib.figure.Figure at 0x1255e0f10>"
      ]
     },
     "metadata": {},
     "output_type": "display_data"
    }
   ],
   "source": [
    "plot_degrees(degrees_subnet[0].degree, 5, 10000)\n",
    "plt.savefig('../fig/degree_phoenix.png')"
   ]
  },
  {
   "cell_type": "code",
   "execution_count": 55,
   "metadata": {
    "collapsed": false
   },
   "outputs": [
    {
     "name": "stdout",
     "output_type": "stream",
     "text": [
      "8.5645632454 3.0\n"
     ]
    }
   ],
   "source": [
    "print degrees_subnet[0].degree.mean(), degrees_subnet[0].degree.median()"
   ]
  },
  {
   "cell_type": "markdown",
   "metadata": {},
   "source": [
    "### Las Vegas"
   ]
  },
  {
   "cell_type": "code",
   "execution_count": 56,
   "metadata": {
    "collapsed": false
   },
   "outputs": [
    {
     "data": {
      "image/png": "[encoded data removed]",
      "text/plain": [
       "<matplotlib.figure.Figure at 0x125b955d0>"
      ]
     },
     "metadata": {},
     "output_type": "display_data"
    }
   ],
   "source": [
    "plot_degrees(degrees_subnet[1].degree, 5, 20000)\n",
    "plt.savefig('../fig/degree_lasvegas.png')"
   ]
  },
  {
   "cell_type": "code",
   "execution_count": 57,
   "metadata": {
    "collapsed": false
   },
   "outputs": [
    {
     "name": "stdout",
     "output_type": "stream",
     "text": [
      "17.2295631426 4.0\n"
     ]
    }
   ],
   "source": [
    "print degrees_subnet[1].degree.mean(), degrees_subnet[1].degree.median()"
   ]
  },
  {
   "cell_type": "markdown",
   "metadata": {},
   "source": [
    "### Montreal"
   ]
  },
  {
   "cell_type": "code",
   "execution_count": 58,
   "metadata": {
    "collapsed": false
   },
   "outputs": [
    {
     "data": {
      "image/png": "[encoded data removed]",
      "text/plain": [
       "<matplotlib.figure.Figure at 0x13f7bf890>"
      ]
     },
     "metadata": {},
     "output_type": "display_data"
    }
   ],
   "source": [
    "plot_degrees(degrees_subnet[3].degree, 5, 1000)\n",
    "plt.savefig('../fig/degree_lasvegas.png')"
   ]
  },
  {
   "cell_type": "code",
   "execution_count": 59,
   "metadata": {
    "collapsed": false
   },
   "outputs": [
    {
     "name": "stdout",
     "output_type": "stream",
     "text": [
      "5.41567489115 2.0\n"
     ]
    }
   ],
   "source": [
    "print degrees_subnet[3].degree.mean(), degrees_subnet[3].degree.median()"
   ]
  },
  {
   "cell_type": "markdown",
   "metadata": {
    "collapsed": false
   },
   "source": [
    "If we look at above results, three cities have quite different social networks. The avereage degrees are quite different. It is hard to find reasons why they are so different."
   ]
  },
  {
   "cell_type": "markdown",
   "metadata": {},
   "source": [
    "## Correlation between values."
   ]
  },
  {
   "cell_type": "markdown",
   "metadata": {},
   "source": [
    "### reviews per user and degrees per user"
   ]
  },
  {
   "cell_type": "code",
   "execution_count": 60,
   "metadata": {
    "collapsed": true
   },
   "outputs": [],
   "source": [
    "rev_count = user_df.user_review_count\n",
    "deg_count = degrees.degree"
   ]
  },
  {
   "cell_type": "code",
   "execution_count": 61,
   "metadata": {
    "collapsed": true
   },
   "outputs": [],
   "source": [
    "from scipy.stats.stats import pearsonr"
   ]
  },
  {
   "cell_type": "code",
   "execution_count": 62,
   "metadata": {
    "collapsed": false
   },
   "outputs": [
    {
     "data": {
      "text/plain": [
       "0.48288144800008354"
      ]
     },
     "execution_count": 62,
     "metadata": {},
     "output_type": "execute_result"
    }
   ],
   "source": [
    "pearsonr(rev_count, deg_count)[0]"
   ]
  },
  {
   "cell_type": "markdown",
   "metadata": {},
   "source": [
    "As expected, the more active users are in terms of writing reviews, the more friends those users have. We can clearly see that when we look at those values together."
   ]
  },
  {
   "cell_type": "markdown",
   "metadata": {},
   "source": [
    "### Finding friends of friends for a network of a given city"
   ]
  },
  {
   "cell_type": "code",
   "execution_count": 64,
   "metadata": {
    "collapsed": false
   },
   "outputs": [],
   "source": [
    "city = 0\n",
    "my_graph = read_dictlist_from_file('../data/network' + str(city) + '.csv')"
   ]
  },
  {
   "cell_type": "code",
   "execution_count": 65,
   "metadata": {
    "collapsed": true
   },
   "outputs": [],
   "source": [
    "friends_of_friends = {}\n",
    "for node in my_graph:\n",
    "    friends_of_friends[node] = set(my_graph[node])\n",
    "    for friend1 in my_graph[node]:\n",
    "        for friend2 in my_graph[friend1]:\n",
    "            friends_of_friends[node].add(friend2)"
   ]
  },
  {
   "cell_type": "code",
   "execution_count": 66,
   "metadata": {
    "collapsed": false
   },
   "outputs": [],
   "source": [
    "nff = []\n",
    "for user in friends_of_friends:\n",
    "    nff.append(len(friends_of_friends[user]))"
   ]
  },
  {
   "cell_type": "code",
   "execution_count": 67,
   "metadata": {
    "collapsed": false,
    "scrolled": true
   },
   "outputs": [
    {
     "data": {
      "text/plain": [
       "(array([  2.96650000e+04,   4.47800000e+03,   2.30600000e+03,\n",
       "          1.49800000e+03,   9.99000000e+02,   6.46000000e+02,\n",
       "          8.67000000e+02,   6.67000000e+02,   4.42000000e+02,\n",
       "          3.46000000e+02,   2.69000000e+02,   4.71000000e+02,\n",
       "          2.65000000e+02,   3.31000000e+02,   2.41000000e+02,\n",
       "          2.27000000e+02,   2.04000000e+02,   1.62000000e+02,\n",
       "          1.50000000e+02,   1.29000000e+02,   1.21000000e+02,\n",
       "          1.07000000e+02,   7.80000000e+01,   9.30000000e+01,\n",
       "          8.20000000e+01,   6.30000000e+01,   5.10000000e+01,\n",
       "          4.10000000e+01,   5.40000000e+01,   4.40000000e+01,\n",
       "          4.10000000e+01,   3.00000000e+01,   2.60000000e+01,\n",
       "          3.70000000e+01,   2.20000000e+01,   2.10000000e+01,\n",
       "          2.10000000e+01,   2.50000000e+01,   2.00000000e+01,\n",
       "          1.60000000e+01,   1.70000000e+01,   1.10000000e+01,\n",
       "          1.40000000e+01,   9.00000000e+00,   1.10000000e+01,\n",
       "          1.30000000e+01,   1.10000000e+01,   6.00000000e+00,\n",
       "          5.00000000e+00,   4.00000000e+00,   7.00000000e+00,\n",
       "          1.00000000e+01,   4.00000000e+00,   6.00000000e+00,\n",
       "          1.00000000e+00,   2.00000000e+00,   5.00000000e+00,\n",
       "          5.00000000e+00,   5.00000000e+00,   4.00000000e+00,\n",
       "          3.00000000e+00,   2.00000000e+00,   0.00000000e+00,\n",
       "          4.00000000e+00,   2.00000000e+00,   1.00000000e+00,\n",
       "          0.00000000e+00,   1.00000000e+00,   0.00000000e+00,\n",
       "          0.00000000e+00,   1.00000000e+00,   0.00000000e+00,\n",
       "          0.00000000e+00,   1.00000000e+00,   0.00000000e+00,\n",
       "          1.00000000e+00,   1.00000000e+00,   0.00000000e+00,\n",
       "          1.00000000e+00,   1.00000000e+00,   1.00000000e+00,\n",
       "          0.00000000e+00,   0.00000000e+00,   0.00000000e+00,\n",
       "          0.00000000e+00,   0.00000000e+00,   0.00000000e+00,\n",
       "          1.00000000e+00,   0.00000000e+00,   0.00000000e+00,\n",
       "          0.00000000e+00,   0.00000000e+00,   0.00000000e+00,\n",
       "          0.00000000e+00,   0.00000000e+00,   0.00000000e+00,\n",
       "          0.00000000e+00,   1.00000000e+00,   0.00000000e+00,\n",
       "          1.00000000e+00]),\n",
       " array([  2.00000000e+00,   1.79100000e+02,   3.56200000e+02,\n",
       "          5.33300000e+02,   7.10400000e+02,   8.87500000e+02,\n",
       "          1.06460000e+03,   1.24170000e+03,   1.41880000e+03,\n",
       "          1.59590000e+03,   1.77300000e+03,   1.95010000e+03,\n",
       "          2.12720000e+03,   2.30430000e+03,   2.48140000e+03,\n",
       "          2.65850000e+03,   2.83560000e+03,   3.01270000e+03,\n",
       "          3.18980000e+03,   3.36690000e+03,   3.54400000e+03,\n",
       "          3.72110000e+03,   3.89820000e+03,   4.07530000e+03,\n",
       "          4.25240000e+03,   4.42950000e+03,   4.60660000e+03,\n",
       "          4.78370000e+03,   4.96080000e+03,   5.13790000e+03,\n",
       "          5.31500000e+03,   5.49210000e+03,   5.66920000e+03,\n",
       "          5.84630000e+03,   6.02340000e+03,   6.20050000e+03,\n",
       "          6.37760000e+03,   6.55470000e+03,   6.73180000e+03,\n",
       "          6.90890000e+03,   7.08600000e+03,   7.26310000e+03,\n",
       "          7.44020000e+03,   7.61730000e+03,   7.79440000e+03,\n",
       "          7.97150000e+03,   8.14860000e+03,   8.32570000e+03,\n",
       "          8.50280000e+03,   8.67990000e+03,   8.85700000e+03,\n",
       "          9.03410000e+03,   9.21120000e+03,   9.38830000e+03,\n",
       "          9.56540000e+03,   9.74250000e+03,   9.91960000e+03,\n",
       "          1.00967000e+04,   1.02738000e+04,   1.04509000e+04,\n",
       "          1.06280000e+04,   1.08051000e+04,   1.09822000e+04,\n",
       "          1.11593000e+04,   1.13364000e+04,   1.15135000e+04,\n",
       "          1.16906000e+04,   1.18677000e+04,   1.20448000e+04,\n",
       "          1.22219000e+04,   1.23990000e+04,   1.25761000e+04,\n",
       "          1.27532000e+04,   1.29303000e+04,   1.31074000e+04,\n",
       "          1.32845000e+04,   1.34616000e+04,   1.36387000e+04,\n",
       "          1.38158000e+04,   1.39929000e+04,   1.41700000e+04,\n",
       "          1.43471000e+04,   1.45242000e+04,   1.47013000e+04,\n",
       "          1.48784000e+04,   1.50555000e+04,   1.52326000e+04,\n",
       "          1.54097000e+04,   1.55868000e+04,   1.57639000e+04,\n",
       "          1.59410000e+04,   1.61181000e+04,   1.62952000e+04,\n",
       "          1.64723000e+04,   1.66494000e+04,   1.68265000e+04,\n",
       "          1.70036000e+04,   1.71807000e+04,   1.73578000e+04,\n",
       "          1.75349000e+04,   1.77120000e+04]),\n",
       " <a list of 100 Patch objects>)"
      ]
     },
     "execution_count": 67,
     "metadata": {},
     "output_type": "execute_result"
    },
    {
     "data": {
      "image/png": "[encoded data removed]",
      "text/plain": [
       "<matplotlib.figure.Figure at 0x12550ac90>"
      ]
     },
     "metadata": {},
     "output_type": "display_data"
    }
   ],
   "source": [
    "plt.xlim(0,6000)\n",
    "plt.hist(nff, bins=100)"
   ]
  },
  {
   "cell_type": "markdown",
   "metadata": {},
   "source": [
    "## Looking at all small networks (biggest components)."
   ]
  },
  {
   "cell_type": "code",
   "execution_count": 68,
   "metadata": {
    "collapsed": false
   },
   "outputs": [],
   "source": [
    "# Reading the biggest component of each graph for each city.\n",
    "my_nets = []  # dict of lists\n",
    "my_nets_nx = []  # networkx objects\n",
    "for i in range(10):\n",
    "    my_nets.append(reindex_graph(read_dictlist_from_file('../data/network' + str(i) + 'b.csv'))[0])\n",
    "    my_nets_nx.append(convert_to_nx(my_nets[-1]))"
   ]
  },
  {
   "cell_type": "markdown",
   "metadata": {},
   "source": [
    "### Number of average degrees."
   ]
  },
  {
   "cell_type": "code",
   "execution_count": 69,
   "metadata": {
    "collapsed": false
   },
   "outputs": [
    {
     "data": {
      "text/plain": [
       "[<matplotlib.lines.Line2D at 0x10da93250>]"
      ]
     },
     "execution_count": 69,
     "metadata": {},
     "output_type": "execute_result"
    },
    {
     "data": {
      "image/png": "[encoded data removed]",
      "text/plain": [
       "<matplotlib.figure.Figure at 0x13465a110>"
      ]
     },
     "metadata": {},
     "output_type": "display_data"
    }
   ],
   "source": [
    "average_degrees = []\n",
    "for i in range(10):\n",
    "    average_degrees.append(np.mean(my_nets_nx[i].degree().values()))\n",
    "plt.plot(average_degrees)"
   ]
  },
  {
   "cell_type": "markdown",
   "metadata": {},
   "source": [
    "### Densities"
   ]
  },
  {
   "cell_type": "code",
   "execution_count": 70,
   "metadata": {
    "collapsed": false
   },
   "outputs": [
    {
     "data": {
      "text/plain": [
       "[<matplotlib.lines.Line2D at 0x1aa24f310>]"
      ]
     },
     "execution_count": 70,
     "metadata": {},
     "output_type": "execute_result"
    },
    {
     "data": {
      "image/png": "[encoded data removed]",
      "text/plain": [
       "<matplotlib.figure.Figure at 0x10d9b4d50>"
      ]
     },
     "metadata": {},
     "output_type": "display_data"
    }
   ],
   "source": [
    "densities = []\n",
    "for i in range(10):\n",
    "    densities.append(nx.density(my_nets_nx[i]))\n",
    "plt.plot(densities)"
   ]
  },
  {
   "cell_type": "markdown",
   "metadata": {},
   "source": [
    "### Assortativities."
   ]
  },
  {
   "cell_type": "code",
   "execution_count": null,
   "metadata": {
    "collapsed": false
   },
   "outputs": [],
   "source": [
    "assortativities = []\n",
    "for i in range(10):\n",
    "    assortativities.append(nx.degree_assortativity_coefficient(my_nets_nx[i]))\n",
    "plt.plot(assortativities)"
   ]
  },
  {
   "cell_type": "markdown",
   "metadata": {},
   "source": [
    "### Average clustering coefficients"
   ]
  },
  {
   "cell_type": "code",
   "execution_count": 71,
   "metadata": {
    "collapsed": false
   },
   "outputs": [
    {
     "data": {
      "text/plain": [
       "[<matplotlib.lines.Line2D at 0x1a9e4a2d0>]"
      ]
     },
     "execution_count": 71,
     "metadata": {},
     "output_type": "execute_result"
    },
    {
     "data": {
      "image/png": "[encoded data removed]",
      "text/plain": [
       "<matplotlib.figure.Figure at 0x10da59dd0>"
      ]
     },
     "metadata": {},
     "output_type": "display_data"
    }
   ],
   "source": [
    "average_clusterings = []\n",
    "for i in range(10):\n",
    "    average_clusterings.append(nx.average_clustering(my_nets_nx[i]))\n",
    "plt.plot(average_clusterings)"
   ]
  },
  {
   "cell_type": "markdown",
   "metadata": {},
   "source": [
    "## Spectral clustering for cities."
   ]
  },
  {
   "cell_type": "code",
   "execution_count": null,
   "metadata": {
    "collapsed": false
   },
   "outputs": [],
   "source": [
    "# Adjacency matrix for small cities (city number >= 2 only)\n",
    "adjacency = []\n",
    "for i in range(2, 10):\n",
    "    adjacency.append(adjacency_matrix(my_nets[i]))"
   ]
  },
  {
   "cell_type": "code",
   "execution_count": null,
   "metadata": {
    "collapsed": false
   },
   "outputs": [],
   "source": [
    "spectral = []\n",
    "for i in range(8):\n",
    "    spectral.append(SpectralClustering(n_clusters=2, eigen_solver='arpack', affinity='precomputed',\n",
    "                                       assign_labels='kmeans'))"
   ]
  },
  {
   "cell_type": "code",
   "execution_count": null,
   "metadata": {
    "collapsed": false
   },
   "outputs": [],
   "source": [
    "for i in range(8):\n",
    "    spectral[i].fit(adjacency[i])"
   ]
  },
  {
   "cell_type": "code",
   "execution_count": null,
   "metadata": {
    "collapsed": false
   },
   "outputs": [],
   "source": [
    "n_communities = []\n",
    "for i in range(5):\n",
    "    n_communities.append((spectral[0].labels_ == i).sum())\n",
    "plt.plot(n_communities)"
   ]
  },
  {
   "cell_type": "code",
   "execution_count": null,
   "metadata": {
    "collapsed": false
   },
   "outputs": [],
   "source": [
    "# Error distribution for matrix factorization case\n",
    "errors = pd.read_csv('tt', header=None, names=['e'])\n",
    "errors.e.hist(bins=30)"
   ]
  },
  {
   "cell_type": "markdown",
   "metadata": {
    "collapsed": true
   },
   "source": [
    "## Differences between real rating and predictions."
   ]
  },
  {
   "cell_type": "code",
   "execution_count": 72,
   "metadata": {
    "collapsed": false
   },
   "outputs": [],
   "source": [
    "# Read the data for one run (processed to have real rating, average rating, rating by friends, rating by friends of\n",
    "# friends, number of friends rated, number of friends of friends rated\n",
    "# NaN will be given when there is no rating by friends and friends by friends.\n",
    "rating_diff_df = pd.read_csv('../data/ratings_by_item2', delimiter=' ', names=['real', 'average', 'friend', 'friend2', 'nfr', 'nfr2'], header=None)"
   ]
  },
  {
   "cell_type": "code",
   "execution_count": 73,
   "metadata": {
    "collapsed": false
   },
   "outputs": [],
   "source": [
    "ratings_diff1 = rating_diff_df[['real', 'average', 'friend', 'nfr']].dropna()\n",
    "ratings_diff2 = rating_diff_df[['real', 'average', 'friend2', 'nfr2']].dropna()"
   ]
  },
  {
   "cell_type": "code",
   "execution_count": 74,
   "metadata": {
    "collapsed": false
   },
   "outputs": [],
   "source": [
    "diff_ave1 = ratings_diff1.real - ratings_diff1.average\n",
    "diff_ave2 = ratings_diff2.real - ratings_diff2.average"
   ]
  },
  {
   "cell_type": "code",
   "execution_count": 75,
   "metadata": {
    "collapsed": false
   },
   "outputs": [
    {
     "data": {
      "text/plain": [
       "<matplotlib.axes._subplots.AxesSubplot at 0x1a9e61f50>"
      ]
     },
     "execution_count": 75,
     "metadata": {},
     "output_type": "execute_result"
    },
    {
     "data": {
      "image/png": "[encoded data removed]",
      "text/plain": [
       "<matplotlib.figure.Figure at 0x12813c250>"
      ]
     },
     "metadata": {},
     "output_type": "display_data"
    }
   ],
   "source": [
    "diff_ave1.hist(bins=20)"
   ]
  },
  {
   "cell_type": "code",
   "execution_count": null,
   "metadata": {
    "collapsed": true
   },
   "outputs": [],
   "source": [
    "diff_ave2.hist(bins=20)"
   ]
  },
  {
   "cell_type": "code",
   "execution_count": 76,
   "metadata": {
    "collapsed": false
   },
   "outputs": [
    {
     "data": {
      "text/plain": [
       "0.91056367396673188"
      ]
     },
     "execution_count": 76,
     "metadata": {},
     "output_type": "execute_result"
    }
   ],
   "source": [
    "print diff_ave1.std(), diff_ave2.std()"
   ]
  },
  {
   "cell_type": "code",
   "execution_count": 79,
   "metadata": {
    "collapsed": false
   },
   "outputs": [],
   "source": [
    "diff_fr1 = rating_diff1.real - rating_diff1.friend\n",
    "diff_fr1.hist(bins=20)"
   ]
  },
  {
   "cell_type": "code",
   "execution_count": 80,
   "metadata": {
    "collapsed": false
   },
   "outputs": [
    {
     "data": {
      "text/plain": [
       "<matplotlib.axes._subplots.AxesSubplot at 0x1a9e19a90>"
      ]
     },
     "execution_count": 80,
     "metadata": {},
     "output_type": "execute_result"
    },
    {
     "data": {
      "image/png": "[encoded data removed]",
      "text/plain": [
       "<matplotlib.figure.Figure at 0x10caf4e10>"
      ]
     },
     "metadata": {},
     "output_type": "display_data"
    }
   ],
   "source": [
    "diff_fr2 = rating_diff2.real - rating_diff2.friend\n",
    "diff_fr2.hist(bins=20)"
   ]
  },
  {
   "cell_type": "code",
   "execution_count": 77,
   "metadata": {
    "collapsed": false
   },
   "outputs": [],
   "source": [
    "stds1 = []\n",
    "baseline1 = []\n",
    "for n in range(1,100):\n",
    "    diff_fr1 = ratings_diff1[ratings_diff1['nfr'] == n].real - \\\n",
    "               ratings_diff1[ratings_diff1['nfr'] == n].friend\n",
    "    stds1.append(np.sqrt(np.mean(np.square(diff_fr1))))\n",
    "    diff_av1 = ratings_diff1[ratings_diff1['nfr'] == n].real - \\\n",
    "               ratings_diff1[ratings_diff1['nfr'] == n].average\n",
    "    baseline1.append(np.sqrt(np.mean(np.square(diff_av1))))"
   ]
  },
  {
   "cell_type": "code",
   "execution_count": 81,
   "metadata": {
    "collapsed": false
   },
   "outputs": [],
   "source": [
    "stds2 = []\n",
    "baseline2 = []\n",
    "for n in range(1,100):\n",
    "    diff_fr2 = rating_diff2[rating_diff2['nfr2'] == n].real - \\\n",
    "               rating_diff2[rating_diff2['nfr2'] == n].friend2\n",
    "    stds2.append(np.sqrt(np.mean(np.square(diff_fr2))))\n",
    "    diff_av2 = ratings_diff2[ratings_diff2['nfr'] == n].real - \\\n",
    "               ratings_diff2[ratings_diff2['nfr'] == n].average\n",
    "    baseline2.append(np.sqrt(np.mean(np.square(diff_av2))))"
   ]
  },
  {
   "cell_type": "code",
   "execution_count": 150,
   "metadata": {
    "collapsed": false
   },
   "outputs": [
    {
     "data": {
      "image/png": "[encoded data removed]",
      "text/plain": [
       "<matplotlib.figure.Figure at 0x1ab3f05d0>"
      ]
     },
     "metadata": {},
     "output_type": "display_data"
    }
   ],
   "source": [
    "plt.xlabel('number of friends who rated')\n",
    "plt.ylabel('RMSE')\n",
    "plt.xlim(0,20)\n",
    "plt.ylim(0,2)\n",
    "plt.title('How the number of ratings from friends affect prediction')\n",
    "fig1 = plt.plot(range(1,100), stds1, marker='o', color='g', label='friends only')\n",
    "fig2 = plt.plot(range(1,100), stds2, marker='s', color='b', label='friends of friends')\n",
    "fig3 = plt.plot(range(1,100), baseline1, marker='o', color='g', label='baseline for friends')\n",
    "fig4 = plt.plot(range(1,100), baseline2, marker='s', color='b', label='baseline for friends of friends')\n",
    "#fig3 = plt.plot([0, 100], [b1, b1], color='g', label='baseline for friends')\n",
    "#fig4 = plt.plot([0, 100], [b2, b2], color='b', label='baseline for friends of friends')\n",
    "plt.legend()\n",
    "plt.savefig('../fig/friends.png', dpi=200)"
   ]
  },
  {
   "cell_type": "code",
   "execution_count": 129,
   "metadata": {
    "collapsed": true
   },
   "outputs": [],
   "source": [
    "# Baseline is already obtained for the whole ratings of the dataset, which is just the standard deviation\n",
    "# of the all ratings. But this is not to be compared with results from UsingFriends, because they are using \n",
    "# subsets (one for each city) of the whole data. \n",
    "b = 1.3114679041155461"
   ]
  },
  {
   "cell_type": "markdown",
   "metadata": {},
   "source": [
    "Baseline numbers for each city was obtained using Validator.get_baseline method. Here it computes the standard deviation for the given ratings of the training set."
   ]
  },
  {
   "cell_type": "code",
   "execution_count": 131,
   "metadata": {
    "collapsed": false
   },
   "outputs": [],
   "source": [
    "ba_df = np.loadtxt('../data/baseline_each_city')"
   ]
  },
  {
   "cell_type": "markdown",
   "metadata": {},
   "source": [
    "CF was run using (n_feasures=2, learning_rate=0.009, regularization_parameter=0.07) and K=10 with item bias considered (not user bias)."
   ]
  },
  {
   "cell_type": "code",
   "execution_count": 132,
   "metadata": {
    "collapsed": true
   },
   "outputs": [],
   "source": [
    "cf = np.loadtxt('../data/cf_rmse')"
   ]
  },
  {
   "cell_type": "markdown",
   "metadata": {},
   "source": [
    "Using_Friends has been used to find the RMSE for the network-based model."
   ]
  },
  {
   "cell_type": "code",
   "execution_count": 100,
   "metadata": {
    "collapsed": false
   },
   "outputs": [],
   "source": [
    "uf_df = np.loadtxt('../data/prel_results')#, delimiter=' ', names=['city', 'rmse'], header=None)"
   ]
  },
  {
   "cell_type": "code",
   "execution_count": 148,
   "metadata": {
    "collapsed": false
   },
   "outputs": [
    {
     "data": {
      "image/png": "[encoded data removed]",
      "text/plain": [
       "<matplotlib.figure.Figure at 0x1ab173450>"
      ]
     },
     "metadata": {},
     "output_type": "display_data"
    }
   ],
   "source": [
    "fig = plt.figure(figsize=(8,6))\n",
    "ax = fig.add_subplot(111)\n",
    "plt.title('Comparison of models for each city')\n",
    "plt.ylabel('RMSE')\n",
    "plt.xlim(-1,10)\n",
    "plt.ylim(0.8, 1.3)\n",
    "ax.set_xticks(range(10))\n",
    "xtickNames = ax.set_xticklabels(city_names)\n",
    "plt.setp(xtickNames, rotation=90, fontsize=10)\n",
    "ax.set_position([0.1,0.1,1.2,0.9])\n",
    "#fig1 = plt.plot([-2, 100], [b, b], color='g', label='baseline (whole)')\n",
    "fig2 = plt.plot(ba_df[:,0], ba_df[:,1], marker='s', color='purple', label='baseline (each city)')\n",
    "fig3 = plt.plot(cf, marker='D', color='r', label='CF (latent factors)')\n",
    "fig4 = plt.plot(uf_df[:,0], uf_df[:,1], marker='o', color='g', label='NF (using friends)*')\n",
    "plt.legend(bbox_to_anchor=(1.05, 1), loc=2 )\n",
    "plt.tight_layout()\n",
    "plt.savefig('../fig/rmse.png', dpi=200)"
   ]
  },
  {
   "cell_type": "code",
   "execution_count": 151,
   "metadata": {
    "collapsed": false
   },
   "outputs": [
    {
     "data": {
      "text/plain": [
       "array([ 1.1164795 ,  1.11277415,  1.06140494,  1.05461539,  0.97384244,\n",
       "        1.06415573,  1.07947529,  1.06458209,  1.12783704,  1.15775142])"
      ]
     },
     "execution_count": 151,
     "metadata": {},
     "output_type": "execute_result"
    }
   ],
   "source": [
    "cf"
   ]
  },
  {
   "cell_type": "markdown",
   "metadata": {
    "collapsed": true
   },
   "source": [
    "### How the lower limit for the number of ratings by friends changes the RMSE and the % of predicted."
   ]
  },
  {
   "cell_type": "code",
   "execution_count": 26,
   "metadata": {
    "collapsed": true
   },
   "outputs": [],
   "source": [
    "# By running the model, results are produced already: city0_limit, city1_limit, city3_limit. \n",
    "limit0 = np.loadtxt('../fig/city0_limit')\n",
    "limit1 = np.loadtxt('../fig/city1_limit')\n",
    "limit3 = np.loadtxt('../fig/city3_limit')"
   ]
  },
  {
   "cell_type": "markdown",
   "metadata": {},
   "source": [
    "Seems like their behavior is almost the same."
   ]
  },
  {
   "cell_type": "code",
   "execution_count": 33,
   "metadata": {
    "collapsed": false,
    "scrolled": true
   },
   "outputs": [
    {
     "data": {
      "image/png": "[encoded data removed]",
      "text/plain": [
       "<matplotlib.figure.Figure at 0x7f15e435a090>"
      ]
     },
     "metadata": {},
     "output_type": "display_data"
    }
   ],
   "source": [
    "\n",
    "plt.title('For the biggest component of Montreal')\n",
    "plt.ylim(0, 1.1)\n",
    "plt.xlim(0.5,10.5)\n",
    "plt.xlabel('lower limit for the number of ratings by friends')\n",
    "plt.ylabel('coverage                    RMSE')\n",
    "#plt.plot(limit0[:,0], limit0[:,1])\n",
    "#plt.plot(limit1[:,0], limit1[:,1], marker='', color='b', label='Las Vegas')\n",
    "plt.plot(limit3[:,0], limit3[:,2], marker='o', color='g', label='RMSE')\n",
    "plt.plot(limit3[:,0], limit3[:,1], marker='s', color='purple', label='coverage')\n",
    "plt.plot([0,11], [0.6,0.6], color='black')\n",
    "#plt.plot(limit0[:,0], limit0[:,2])\n",
    "#plt.plot(limit1[:,0], limit1[:,2])\n",
    "plt.legend()\n",
    "plt.savefig('../fig/limit.png', dpi=200)"
   ]
  },
  {
   "cell_type": "code",
   "execution_count": null,
   "metadata": {
    "collapsed": true
   },
   "outputs": [],
   "source": []
  }
 ],
 "metadata": {
  "kernelspec": {
   "display_name": "Python 2",
   "language": "python",
   "name": "python2"
  },
  "language_info": {
   "codemirror_mode": {
    "name": "ipython",
    "version": 2
   },
   "file_extension": ".py",
   "mimetype": "text/x-python",
   "name": "python",
   "nbconvert_exporter": "python",
   "pygments_lexer": "ipython2",
   "version": "2.7.10"
  }
 },
 "nbformat": 4,
 "nbformat_minor": 0
}
