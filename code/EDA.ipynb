{
 "cells": [
  {
   "cell_type": "markdown",
   "metadata": {},
   "source": [
    "# Exploratory Data Analysis"
   ]
  },
  {
   "cell_type": "code",
   "execution_count": 1,
   "metadata": {
    "collapsed": true
   },
   "outputs": [],
   "source": [
    "# importing necessary libraries\n",
    "import pandas as pd\n",
    "import numpy as np\n",
    "import json\n",
    "import csv\n",
    "import os\n",
    "import cPickle as pickle\n",
    "from collections import Counter\n",
    "\n",
    "from sklearn.cluster import KMeans\n",
    "\n",
    "from my_utilities import read_json_file\n",
    "import matplotlib.pyplot as plt\n",
    "%matplotlib inline"
   ]
  },
  {
   "cell_type": "markdown",
   "metadata": {},
   "source": [
    "##Reading the data (stored as dataframes in pickled files)"
   ]
  },
  {
   "cell_type": "code",
   "execution_count": 2,
   "metadata": {
    "collapsed": false
   },
   "outputs": [],
   "source": [
    "# Loading the pickled data frames from users, businesses, and reviews.\n",
    "# Assuming these data frames were obtained already using 'make_dataframes.py'\n",
    "dataframe_pickle_filename = '../data/dataframes.pkl'\n",
    "with open(dataframe_pickle_filename, 'r') as f:\n",
    "    (user_df, business_df, review_df) = pickle.load(f)"
   ]
  },
  {
   "cell_type": "markdown",
   "metadata": {},
   "source": [
    "## Find cities for businesses using k-means."
   ]
  },
  {
   "cell_type": "code",
   "execution_count": 3,
   "metadata": {
    "collapsed": true
   },
   "outputs": [],
   "source": [
    "X = business_df[['business_latitude', 'business_longitude']].values"
   ]
  },
  {
   "cell_type": "code",
   "execution_count": 4,
   "metadata": {
    "collapsed": true
   },
   "outputs": [],
   "source": [
    "km = KMeans(10, n_jobs=8)"
   ]
  },
  {
   "cell_type": "code",
   "execution_count": 5,
   "metadata": {
    "collapsed": true
   },
   "outputs": [],
   "source": [
    "y = km.fit_predict(X)"
   ]
  },
  {
   "cell_type": "code",
   "execution_count": 6,
   "metadata": {
    "collapsed": false
   },
   "outputs": [
    {
     "data": {
      "text/plain": [
       "<matplotlib.collections.PathCollection at 0x1074e9650>"
      ]
     },
     "execution_count": 6,
     "metadata": {},
     "output_type": "execute_result"
    },
    {
     "data": {
      "image/png": "[encoded data removed]",
      "text/plain": [
       "<matplotlib.figure.Figure at 0x1074e9810>"
      ]
     },
     "metadata": {},
     "output_type": "display_data"
    }
   ],
   "source": [
    "plt.scatter(X[:,1], X[:,0])"
   ]
  },
  {
   "cell_type": "code",
   "execution_count": 7,
   "metadata": {
    "collapsed": false
   },
   "outputs": [],
   "source": [
    "city_locations = km.cluster_centers_"
   ]
  },
  {
   "cell_type": "code",
   "execution_count": 8,
   "metadata": {
    "collapsed": true
   },
   "outputs": [],
   "source": [
    "n_businesses_per_city = Counter(y).most_common()"
   ]
  },
  {
   "cell_type": "code",
   "execution_count": 9,
   "metadata": {
    "collapsed": false
   },
   "outputs": [],
   "source": [
    "sorted_y = [c[0] for c in n_businesses_per_city]\n",
    "sorted_y_map = {}                                                            \n",
    "for i in range(10):                                                      \n",
    "      sorted_y_map[sorted_y[i]] = i"
   ]
  },
  {
   "cell_type": "code",
   "execution_count": 10,
   "metadata": {
    "collapsed": false
   },
   "outputs": [],
   "source": [
    "business_df['business_city_int'] = map(lambda i: sorted_y_map[i], y)"
   ]
  },
  {
   "cell_type": "code",
   "execution_count": 11,
   "metadata": {
    "collapsed": false
   },
   "outputs": [],
   "source": [
    "city_names = ['Phoenix', 'Las Vegas', 'Charlotte', 'Montreal', 'Edinburgh', 'Pittsburgh',  'Madison', 'Karlsruhe',\n",
    "              'Urbana-Champaign', 'Waterloo']"
   ]
  },
  {
   "cell_type": "markdown",
   "metadata": {},
   "source": [
    "## Find reviews for businesses in each city"
   ]
  },
  {
   "cell_type": "code",
   "execution_count": 12,
   "metadata": {
    "collapsed": false
   },
   "outputs": [],
   "source": [
    "# Dataframe with the reviews (with business city).\n",
    "review_city_df = business_df[['business_id_int', 'business_city_int']].merge(review_df, on=['business_id_int'], how='inner')"
   ]
  },
  {
   "cell_type": "code",
   "execution_count": 13,
   "metadata": {
    "collapsed": false
   },
   "outputs": [],
   "source": [
    "# Reviews for three specific cities.\n",
    "review_phoenix = review_city_df[review_city_df.business_city_int == 0].drop(['business_city_int'], axis=1)   # Phoenix\n",
    "review_lasvegas = review_city_df[review_city_df.business_city_int == 1].drop(['business_city_int'], axis=1)  # Las Vegas\n",
    "review_montreal = review_city_df[review_city_df.business_city_int == 3].drop(['business_city_int'], axis=1)  # Montreal"
   ]
  },
  {
   "cell_type": "code",
   "execution_count": 14,
   "metadata": {
    "collapsed": false
   },
   "outputs": [
    {
     "data": {
      "text/plain": [
       "(13861, 128330, 181712)"
      ]
     },
     "execution_count": 14,
     "metadata": {},
     "output_type": "execute_result"
    }
   ],
   "source": [
    "len(review_montreal.user_id_int.unique()), len(review_phoenix.user_id_int.unique()), len(review_lasvegas.user_id_int.unique()), "
   ]
  },
  {
   "cell_type": "code",
   "execution_count": 15,
   "metadata": {
    "collapsed": false
   },
   "outputs": [
    {
     "data": {
      "text/plain": [
       "(3918, 25225, 16469)"
      ]
     },
     "execution_count": 15,
     "metadata": {},
     "output_type": "execute_result"
    }
   ],
   "source": [
    "len(review_montreal.business_id_int.unique()), len(review_phoenix.business_id_int.unique()), len(review_lasvegas.business_id_int.unique()), "
   ]
  },
  {
   "cell_type": "code",
   "execution_count": 16,
   "metadata": {
    "collapsed": false
   },
   "outputs": [
    {
     "name": "stdout",
     "output_type": "stream",
     "text": [
      "49484 591192 679460\n"
     ]
    }
   ],
   "source": [
    "print review_montreal.shape[0], review_phoenix.shape[0], review_lasvegas.shape[0],"
   ]
  },
  {
   "cell_type": "code",
   "execution_count": 17,
   "metadata": {
    "collapsed": false
   },
   "outputs": [
    {
     "data": {
      "text/plain": [
       "<matplotlib.collections.PathCollection at 0x10c35c0d0>"
      ]
     },
     "execution_count": 17,
     "metadata": {},
     "output_type": "execute_result"
    },
    {
     "data": {
      "image/png": "[encoded data removed]",
      "text/plain": [
       "<matplotlib.figure.Figure at 0x10c15c750>"
      ]
     },
     "metadata": {},
     "output_type": "display_data"
    }
   ],
   "source": [
    "# Check the clustering was done correctly.\n",
    "X = business_df[business_df.business_city_int==1][['business_latitude', 'business_longitude']].values\n",
    "plt.scatter(X[:,1], X[:,0])"
   ]
  },
  {
   "cell_type": "markdown",
   "metadata": {},
   "source": [
    "## Trying to understand the data"
   ]
  },
  {
   "cell_type": "markdown",
   "metadata": {},
   "source": [
    "### Number of reviews per user."
   ]
  },
  {
   "cell_type": "code",
   "execution_count": 18,
   "metadata": {
    "collapsed": false
   },
   "outputs": [
    {
     "data": {
      "text/plain": [
       "<matplotlib.axes._subplots.AxesSubplot at 0x10c271810>"
      ]
     },
     "execution_count": 18,
     "metadata": {},
     "output_type": "execute_result"
    },
    {
     "data": {
      "image/png": "[encoded data removed]",
      "text/plain": [
       "<matplotlib.figure.Figure at 0x10c20bf90>"
      ]
     },
     "metadata": {},
     "output_type": "display_data"
    }
   ],
   "source": [
    "plt.ylim([100,100000])\n",
    "plt.gca().set_xscale(\"log\")\n",
    "plt.yscale('log')\n",
    "plt.title('Number of reviews per user')\n",
    "plt.xlabel('Number of reviews')\n",
    "plt.ylabel('Number of users')\n",
    "user_df.user_review_count.hist(bins=np.logspace(0.1, 3.5, 20))"
   ]
  },
  {
   "cell_type": "markdown",
   "metadata": {},
   "source": [
    "Users have at least 1 review."
   ]
  },
  {
   "cell_type": "markdown",
   "metadata": {},
   "source": [
    "### Number of reviews per business."
   ]
  },
  {
   "cell_type": "code",
   "execution_count": 19,
   "metadata": {
    "collapsed": false
   },
   "outputs": [
    {
     "data": {
      "text/plain": [
       "<matplotlib.axes._subplots.AxesSubplot at 0x10c366fd0>"
      ]
     },
     "execution_count": 19,
     "metadata": {},
     "output_type": "execute_result"
    },
    {
     "data": {
      "image/png": "[encoded data removed]",
      "text/plain": [
       "<matplotlib.figure.Figure at 0x10c213050>"
      ]
     },
     "metadata": {},
     "output_type": "display_data"
    }
   ],
   "source": [
    "plt.ylim([10, 10000])\n",
    "plt.gca().set_xscale(\"log\")\n",
    "plt.yscale('log')\n",
    "plt.title('Number of reviews per business')\n",
    "plt.xlabel('Number of reviews')\n",
    "plt.ylabel('Number of businesses')\n",
    "business_df.business_review_count.hist(bins=np.logspace(0.45, 3.5, 30))"
   ]
  },
  {
   "cell_type": "code",
   "execution_count": 20,
   "metadata": {
    "collapsed": false
   },
   "outputs": [
    {
     "data": {
      "text/plain": [
       "3"
      ]
     },
     "execution_count": 20,
     "metadata": {},
     "output_type": "execute_result"
    }
   ],
   "source": [
    "business_df.business_review_count.min()"
   ]
  },
  {
   "cell_type": "markdown",
   "metadata": {},
   "source": [
    "Businesses have at least 3 reviews."
   ]
  },
  {
   "cell_type": "markdown",
   "metadata": {},
   "source": [
    "### Some counts per city"
   ]
  },
  {
   "cell_type": "code",
   "execution_count": 25,
   "metadata": {
    "collapsed": false
   },
   "outputs": [],
   "source": [
    "n_users = float(user_df.shape[0])\n",
    "n_businesses = float(business_df.shape[0])\n",
    "n_reviews = float(review_df.shape[0])\n",
    "users_by_city = np.array(review_city_df.groupby('business_city_int').user_id_int.nunique()) / n_users\n",
    "businesses_by_city = np.array(review_city_df.groupby('business_city_int').business_id_int.nunique()) / n_businesses\n",
    "reviews_by_city = np.array(review_city_df.groupby('business_city_int').user_id_int.count()) / n_reviews"
   ]
  },
  {
   "cell_type": "code",
   "execution_count": 42,
   "metadata": {
    "collapsed": false
   },
   "outputs": [],
   "source": [
    "def plot_counts(users_by_city, businesses_by_city, reviews_by_city):\n",
    "    fig = plt.figure()\n",
    "    ax = fig.add_subplot(111)\n",
    "\n",
    "    ind = np.arange(10) # the x locations for the groups\n",
    "    width = 0.25        # the width of the bars\n",
    "\n",
    "    ## the bars\n",
    "    rects0 = ax.bar(ind, users_by_city, width, color='r')\n",
    "    rects1 = ax.bar(ind + width, businesses_by_city, width, color='g')\n",
    "    rects2 = ax.bar(ind + 2 * width, reviews_by_city, width, color='b')\n",
    "\n",
    "    # axes and labels\n",
    "    ax.set_xlim(-width, len(ind) + width)\n",
    "    ax.set_ylim(0,0.6)\n",
    "    ax.set_ylabel('ratios')\n",
    "    ax.set_title('Some counts by group')\n",
    "    ax.set_xticks(ind + 1.5*width)\n",
    "    xtickNames = ax.set_xticklabels(city_names)\n",
    "    plt.setp(xtickNames, rotation=90, fontsize=10)\n",
    "\n",
    "    ## add a legend\n",
    "    ax.legend((rects0[0], rects1[0], rects2[0]), ('User', 'Business', 'Review'))"
   ]
  },
  {
   "cell_type": "code",
   "execution_count": 43,
   "metadata": {
    "collapsed": false
   },
   "outputs": [
    {
     "data": {
      "image/png": "[encoded data removed]",
      "text/plain": [
       "<matplotlib.figure.Figure at 0x118202990>"
      ]
     },
     "metadata": {},
     "output_type": "display_data"
    }
   ],
   "source": [
    "plot_counts(users_by_city, businesses_by_city, reviews_by_city)"
   ]
  },
  {
   "cell_type": "markdown",
   "metadata": {},
   "source": [
    "Phoenix and Las Vegas are two biggest cities here. A unique characteristic we can see is that in Las Vegas the number of users is much greater than the number of businesses; on the other hand, in Phoenix, the number of businesses is greater than the number of users. At first, I assumed there might be many tourists in Las Vegas, but based on counts below, there are not many users who leave reviews in multiple cities (only 5%). Then two possible explanations are: (1) there are just many more users than businesses, (2) users in Las Vegas are much more active."
   ]
  },
  {
   "cell_type": "markdown",
   "metadata": {},
   "source": [
    "### Number of cities per user"
   ]
  },
  {
   "cell_type": "markdown",
   "metadata": {},
   "source": [
    "Here trying to find how many cities each user left reviews."
   ]
  },
  {
   "cell_type": "code",
   "execution_count": 28,
   "metadata": {
    "collapsed": false
   },
   "outputs": [],
   "source": [
    "cities_by_user = np.array(review_city_df.groupby('user_id_int').business_city_int.nunique())"
   ]
  },
  {
   "cell_type": "code",
   "execution_count": 29,
   "metadata": {
    "collapsed": false
   },
   "outputs": [
    {
     "data": {
      "text/plain": [
       "0.95011112171577383"
      ]
     },
     "execution_count": 29,
     "metadata": {},
     "output_type": "execute_result"
    }
   ],
   "source": [
    "sum(cities_by_user == 1) / float(n_users)"
   ]
  },
  {
   "cell_type": "code",
   "execution_count": 30,
   "metadata": {
    "collapsed": false
   },
   "outputs": [
    {
     "data": {
      "text/plain": [
       "0.045563993837176006"
      ]
     },
     "execution_count": 30,
     "metadata": {},
     "output_type": "execute_result"
    }
   ],
   "source": [
    "sum(cities_by_user == 2) / float(n_users)"
   ]
  },
  {
   "cell_type": "code",
   "execution_count": 31,
   "metadata": {
    "collapsed": false
   },
   "outputs": [
    {
     "data": {
      "text/plain": [
       "0.0043248844470501618"
      ]
     },
     "execution_count": 31,
     "metadata": {},
     "output_type": "execute_result"
    }
   ],
   "source": [
    "sum(cities_by_user > 2) / float(n_users)"
   ]
  },
  {
   "cell_type": "markdown",
   "metadata": {},
   "source": [
    "Most of users left reviews in only one city (95 %), and 4.56 % of users left reviews in one city. There are only 0.43 % of users who left reviews in more than two cities."
   ]
  },
  {
   "cell_type": "markdown",
   "metadata": {},
   "source": [
    "### Degree distribution"
   ]
  },
  {
   "cell_type": "markdown",
   "metadata": {},
   "source": [
    "Now we can look at the network structure. The easiest stat we can look is the degree distribution."
   ]
  },
  {
   "cell_type": "code",
   "execution_count": 6,
   "metadata": {
    "collapsed": true
   },
   "outputs": [],
   "source": [
    "degrees = pd.read_csv(\"../data/degrees\", names=['user_id', 'degree'], header=None)"
   ]
  },
  {
   "cell_type": "code",
   "execution_count": 143,
   "metadata": {
    "collapsed": false
   },
   "outputs": [],
   "source": [
    "def plot_degrees(degree_col, y_min, y_max):\n",
    "    plt.ylim([y_min, y_max])\n",
    "    plt.gca().set_xscale(\"log\")\n",
    "    plt.yscale('log')\n",
    "    plt.title('Degree Distribution')\n",
    "    plt.xlabel('Number of users')\n",
    "    plt.ylabel('degree')\n",
    "    degree_col.hist(bins=np.logspace(0.1, 4, 25))"
   ]
  },
  {
   "cell_type": "code",
   "execution_count": 144,
   "metadata": {
    "collapsed": false
   },
   "outputs": [
    {
     "data": {
      "image/png": "[encoded data removed]",
      "text/plain": [
       "<matplotlib.figure.Figure at 0x10ca93710>"
      ]
     },
     "metadata": {},
     "output_type": "display_data"
    }
   ],
   "source": [
    "plot_degrees(degrees.degree, 5, 50000)"
   ]
  },
  {
   "cell_type": "markdown",
   "metadata": {},
   "source": [
    "### Finding the number of users with at least one friend using degree info."
   ]
  },
  {
   "cell_type": "code",
   "execution_count": 61,
   "metadata": {
    "collapsed": true
   },
   "outputs": [],
   "source": [
    "# A set containing users with at least one friend.\n",
    "users2_set = set(degrees[degrees.degree > 0].user_id.values)"
   ]
  },
  {
   "cell_type": "markdown",
   "metadata": {},
   "source": [
    "### Create new dataframes that are reduced using only above users."
   ]
  },
  {
   "cell_type": "code",
   "execution_count": 75,
   "metadata": {
    "collapsed": false
   },
   "outputs": [],
   "source": [
    "# Create all dataframes that only have data with users with at least one friend.\n",
    "# First, find users first.\n",
    "user_df2 = user_df[user_df.apply(lambda x: x['user_id_int'] in users2_set, axis=1)]\n",
    "# Second, find reviews done by these users.\n",
    "review_df2 = review_df[review_df.apply(lambda x: x['user_id_int'] in users2_set, axis=1)]\n",
    "# Lastly, find businesses that only these reviews are done for.\n",
    "businesses2_set = set(review_df2.business_id_int.unique())\n",
    "business_df2 = business_df[business_df.apply(lambda x: x['business_id_int'] in businesses2_set, axis=1)]"
   ]
  },
  {
   "cell_type": "code",
   "execution_count": 77,
   "metadata": {
    "collapsed": false
   },
   "outputs": [],
   "source": [
    "# Dataframe with the reviews (with business city).\n",
    "review_city_df2 = business_df2[['business_id_int', 'business_city_int']]\\\n",
    "    .merge(review_df2, on=['business_id_int'], how='inner')"
   ]
  },
  {
   "cell_type": "code",
   "execution_count": 83,
   "metadata": {
    "collapsed": false
   },
   "outputs": [
    {
     "name": "stdout",
     "output_type": "stream",
     "text": [
      "174094 59106 1143736\n"
     ]
    }
   ],
   "source": [
    "print user_df2.shape[0], business_df2.shape[0], review_df2.shape[0]"
   ]
  },
  {
   "cell_type": "markdown",
   "metadata": {},
   "source": [
    "## Now doing above analyses with the reduced set."
   ]
  },
  {
   "cell_type": "code",
   "execution_count": 84,
   "metadata": {
    "collapsed": true
   },
   "outputs": [],
   "source": [
    "# Reviews for three specific cities.\n",
    "review_phoenix2 = review_city_df2[review_city_df2.business_city_int == 0].drop(['business_city_int'], axis=1)   # Phoenix\n",
    "review_lasvegas2 = review_city_df2[review_city_df2.business_city_int == 1].drop(['business_city_int'], axis=1)  # Las Vegas\n",
    "review_montreal2 = review_city_df2[review_city_df2.business_city_int == 3].drop(['business_city_int'], axis=1)  # Montreal"
   ]
  },
  {
   "cell_type": "markdown",
   "metadata": {},
   "source": [
    "### Number of reviews per user"
   ]
  },
  {
   "cell_type": "code",
   "execution_count": 85,
   "metadata": {
    "collapsed": false
   },
   "outputs": [
    {
     "data": {
      "text/plain": [
       "<matplotlib.axes._subplots.AxesSubplot at 0x11fcd9290>"
      ]
     },
     "execution_count": 85,
     "metadata": {},
     "output_type": "execute_result"
    },
    {
     "data": {
      "image/png": "[encoded data removed]",
      "text/plain": [
       "<matplotlib.figure.Figure at 0x118376390>"
      ]
     },
     "metadata": {},
     "output_type": "display_data"
    }
   ],
   "source": [
    "plt.ylim([100,100000])\n",
    "plt.gca().set_xscale(\"log\")\n",
    "plt.yscale('log')\n",
    "plt.title('Number of reviews per user')\n",
    "plt.xlabel('Number of reviews')\n",
    "plt.ylabel('Number of users')\n",
    "user_df2.user_review_count.hist(bins=np.logspace(0.1, 3.5, 20))"
   ]
  },
  {
   "cell_type": "markdown",
   "metadata": {},
   "source": [
    "Looks different when number of reviews are small. Seems like users are more active overall."
   ]
  },
  {
   "cell_type": "markdown",
   "metadata": {},
   "source": [
    "### Number of reviews per business"
   ]
  },
  {
   "cell_type": "code",
   "execution_count": 86,
   "metadata": {
    "collapsed": false
   },
   "outputs": [
    {
     "data": {
      "text/plain": [
       "<matplotlib.axes._subplots.AxesSubplot at 0x117cb7090>"
      ]
     },
     "execution_count": 86,
     "metadata": {},
     "output_type": "execute_result"
    },
    {
     "data": {
      "image/png": "[encoded data removed]",
      "text/plain": [
       "<matplotlib.figure.Figure at 0x11e796f90>"
      ]
     },
     "metadata": {},
     "output_type": "display_data"
    }
   ],
   "source": [
    "plt.ylim([10, 10000])\n",
    "plt.gca().set_xscale(\"log\")\n",
    "plt.yscale('log')\n",
    "plt.title('Number of reviews per business')\n",
    "plt.xlabel('Number of reviews')\n",
    "plt.ylabel('Number of businesses')\n",
    "business_df.business_review_count.hist(bins=np.logspace(0.45, 3.5, 30))"
   ]
  },
  {
   "cell_type": "markdown",
   "metadata": {},
   "source": [
    "Looks almost the same as before."
   ]
  },
  {
   "cell_type": "markdown",
   "metadata": {},
   "source": [
    "### Some counts per city"
   ]
  },
  {
   "cell_type": "code",
   "execution_count": 87,
   "metadata": {
    "collapsed": true
   },
   "outputs": [],
   "source": [
    "n_users2 = float(user_df2.shape[0])\n",
    "n_businesses2 = float(business_df2.shape[0])\n",
    "n_reviews2 = float(review_df2.shape[0])\n",
    "users_by_city2 = np.array(review_city_df2.groupby('business_city_int').user_id_int.nunique()) / n_users2\n",
    "businesses_by_city2 = np.array(review_city_df2.groupby('business_city_int').business_id_int.nunique()) / n_businesses2\n",
    "reviews_by_city2 = np.array(review_city_df2.groupby('business_city_int').user_id_int.count()) / n_reviews2"
   ]
  },
  {
   "cell_type": "code",
   "execution_count": 88,
   "metadata": {
    "collapsed": false
   },
   "outputs": [
    {
     "data": {
      "image/png": "[encoded data removed]",
      "text/plain": [
       "<matplotlib.figure.Figure at 0x11fcd4190>"
      ]
     },
     "metadata": {},
     "output_type": "display_data"
    }
   ],
   "source": [
    "plot_counts(users_by_city2, businesses_by_city2, reviews_by_city2)"
   ]
  },
  {
   "cell_type": "markdown",
   "metadata": {},
   "source": [
    "Overall trends are the same here."
   ]
  },
  {
   "cell_type": "markdown",
   "metadata": {},
   "source": [
    "Degree distribution should be the same as before, except users with degree zero."
   ]
  },
  {
   "cell_type": "code",
   "execution_count": 101,
   "metadata": {
    "collapsed": false
   },
   "outputs": [],
   "source": [
    "cities_by_user2 = np.array(review_city_df2.groupby('user_id_int').business_city_int.nunique())"
   ]
  },
  {
   "cell_type": "code",
   "execution_count": 103,
   "metadata": {
    "collapsed": false
   },
   "outputs": [
    {
     "name": "stdout",
     "output_type": "stream",
     "text": [
      "0.920278700013 0.0714211862557 0.00830011373166\n"
     ]
    }
   ],
   "source": [
    "print sum(cities_by_user2 == 1) / float(n_users2),\\\n",
    "    sum(cities_by_user2 == 2) / float(n_users2),\\\n",
    "    sum(cities_by_user2 > 2) / float(n_users2)"
   ]
  },
  {
   "cell_type": "markdown",
   "metadata": {},
   "source": [
    "### User by city computed from 'find_users_by_city.py'.\n",
    "Here it uses the network friends to determine the city if a user has reviews in multiple cities. If threre are ties between friends, it chooses the city randomly. As shown above, 92.1% of users have reviews in only one city, and 0.8% of users are chosen randomly, which means out of users with multiple cities, about 10% of them are chosen randomly. "
   ]
  },
  {
   "cell_type": "code",
   "execution_count": 112,
   "metadata": {
    "collapsed": false
   },
   "outputs": [
    {
     "data": {
      "text/html": [
       "<div style=\"max-height:1000px;max-width:1500px;overflow:auto;\">\n",
       "<table border=\"1\" class=\"dataframe\">\n",
       "  <thead>\n",
       "    <tr style=\"text-align: right;\">\n",
       "      <th></th>\n",
       "      <th>user_id</th>\n",
       "    </tr>\n",
       "    <tr>\n",
       "      <th>city</th>\n",
       "      <th></th>\n",
       "    </tr>\n",
       "  </thead>\n",
       "  <tbody>\n",
       "    <tr>\n",
       "      <th>0</th>\n",
       "      <td> 52104</td>\n",
       "    </tr>\n",
       "    <tr>\n",
       "      <th>1</th>\n",
       "      <td> 92761</td>\n",
       "    </tr>\n",
       "    <tr>\n",
       "      <th>2</th>\n",
       "      <td>  9257</td>\n",
       "    </tr>\n",
       "    <tr>\n",
       "      <th>3</th>\n",
       "      <td>  5270</td>\n",
       "    </tr>\n",
       "    <tr>\n",
       "      <th>4</th>\n",
       "      <td>  1450</td>\n",
       "    </tr>\n",
       "    <tr>\n",
       "      <th>5</th>\n",
       "      <td>  6928</td>\n",
       "    </tr>\n",
       "    <tr>\n",
       "      <th>6</th>\n",
       "      <td>  4305</td>\n",
       "    </tr>\n",
       "    <tr>\n",
       "      <th>7</th>\n",
       "      <td>   135</td>\n",
       "    </tr>\n",
       "    <tr>\n",
       "      <th>8</th>\n",
       "      <td>  1507</td>\n",
       "    </tr>\n",
       "    <tr>\n",
       "      <th>9</th>\n",
       "      <td>   377</td>\n",
       "    </tr>\n",
       "  </tbody>\n",
       "</table>\n",
       "</div>"
      ],
      "text/plain": [
       "      user_id\n",
       "city         \n",
       "0       52104\n",
       "1       92761\n",
       "2        9257\n",
       "3        5270\n",
       "4        1450\n",
       "5        6928\n",
       "6        4305\n",
       "7         135\n",
       "8        1507\n",
       "9         377"
      ]
     },
     "execution_count": 112,
     "metadata": {},
     "output_type": "execute_result"
    }
   ],
   "source": [
    "user_by_city = pd.read_csv('../data/user_by_city', names=['user_id', 'city'], header=None)\n",
    "user_by_city.groupby('city').count()"
   ]
  },
  {
   "cell_type": "markdown",
   "metadata": {},
   "source": [
    "### Looking at subnetworks for each city."
   ]
  },
  {
   "cell_type": "code",
   "execution_count": 125,
   "metadata": {
    "collapsed": false
   },
   "outputs": [],
   "source": [
    "# Dataframes for each city.\n",
    "degrees_subnet = []\n",
    "for i in range(10):\n",
    "    degrees_subnet.append(pd.read_csv('../data/degrees%s' % i, names=['user_id', 'degree'], header=None))"
   ]
  },
  {
   "cell_type": "code",
   "execution_count": 129,
   "metadata": {
    "collapsed": false
   },
   "outputs": [
    {
     "name": "stdout",
     "output_type": "stream",
     "text": [
      "389936\n",
      "1516460\n",
      "43082\n",
      "18657\n",
      "9048\n",
      "26391\n",
      "13900\n",
      "228\n",
      "2652\n",
      "522\n",
      "2020876\n"
     ]
    }
   ],
   "source": [
    "# Number of edges for all subgraphs.\n",
    "nedges_subnet = []\n",
    "for i in range(10):\n",
    "    nedges_subnet.append(degrees_subnet[i].values.sum(axis=0)[1])\n",
    "    print nedges_subnet[i]\n",
    "print sum(nedges_subnet)"
   ]
  },
  {
   "cell_type": "code",
   "execution_count": 122,
   "metadata": {
    "collapsed": false
   },
   "outputs": [
    {
     "name": "stdout",
     "output_type": "stream",
     "text": [
      "2576179\n"
     ]
    }
   ],
   "source": [
    "# Number of edges for the total graph.\n",
    "nedges = degrees.values.sum(axis=0)[1]\n",
    "print nedges"
   ]
  },
  {
   "cell_type": "code",
   "execution_count": 130,
   "metadata": {
    "collapsed": false
   },
   "outputs": [
    {
     "data": {
      "text/plain": [
       "0.78444704347019367"
      ]
     },
     "execution_count": 130,
     "metadata": {},
     "output_type": "execute_result"
    }
   ],
   "source": [
    "# Percentage of edges that are connecting inside communities.\n",
    "sum(nedges_subnet)/float(nedges)"
   ]
  },
  {
   "cell_type": "markdown",
   "metadata": {},
   "source": [
    "### Degree distributions for subnets for three cities."
   ]
  },
  {
   "cell_type": "markdown",
   "metadata": {},
   "source": [
    "### Phoenix"
   ]
  },
  {
   "cell_type": "code",
   "execution_count": 146,
   "metadata": {
    "collapsed": false
   },
   "outputs": [
    {
     "data": {
      "image/png": "[encoded data removed]",
      "text/plain": [
       "<matplotlib.figure.Figure at 0x117b52450>"
      ]
     },
     "metadata": {},
     "output_type": "display_data"
    }
   ],
   "source": [
    "plot_degrees(degrees_subnet[0].degree, 5, 10000)"
   ]
  },
  {
   "cell_type": "code",
   "execution_count": 151,
   "metadata": {
    "collapsed": false
   },
   "outputs": [
    {
     "name": "stdout",
     "output_type": "stream",
     "text": [
      "7.48380162751 2.0\n"
     ]
    }
   ],
   "source": [
    "print degrees_subnet[0].degree.mean(), degrees_subnet[0].degree.median()"
   ]
  },
  {
   "cell_type": "markdown",
   "metadata": {},
   "source": [
    "### Las Vegas"
   ]
  },
  {
   "cell_type": "code",
   "execution_count": 148,
   "metadata": {
    "collapsed": false
   },
   "outputs": [
    {
     "data": {
      "image/png": "[encoded data removed]",
      "text/plain": [
       "<matplotlib.figure.Figure at 0x126ff88d0>"
      ]
     },
     "metadata": {},
     "output_type": "display_data"
    }
   ],
   "source": [
    "plot_degrees(degrees_subnet[1].degree, 5, 20000)"
   ]
  },
  {
   "cell_type": "code",
   "execution_count": 152,
   "metadata": {
    "collapsed": false
   },
   "outputs": [
    {
     "name": "stdout",
     "output_type": "stream",
     "text": [
      "16.3480341954 4.0\n"
     ]
    }
   ],
   "source": [
    "print degrees_subnet[1].degree.mean(), degrees_subnet[1].degree.median()"
   ]
  },
  {
   "cell_type": "markdown",
   "metadata": {},
   "source": [
    "### Montreal"
   ]
  },
  {
   "cell_type": "code",
   "execution_count": 150,
   "metadata": {
    "collapsed": false
   },
   "outputs": [
    {
     "data": {
      "image/png": "[encoded data removed]",
      "text/plain": [
       "<matplotlib.figure.Figure at 0x117f33f10>"
      ]
     },
     "metadata": {},
     "output_type": "display_data"
    }
   ],
   "source": [
    "plot_degrees(degrees_subnet[3].degree, 5, 1000)"
   ]
  },
  {
   "cell_type": "code",
   "execution_count": 153,
   "metadata": {
    "collapsed": false
   },
   "outputs": [
    {
     "name": "stdout",
     "output_type": "stream",
     "text": [
      "3.54022770398 1.0\n"
     ]
    }
   ],
   "source": [
    "print degrees_subnet[3].degree.mean(), degrees_subnet[3].degree.median()"
   ]
  },
  {
   "cell_type": "markdown",
   "metadata": {
    "collapsed": false
   },
   "source": [
    "If we look at above results, three cities have quite different social networks. The avereage degrees are quite different. It is hard to find reasons why they are so different."
   ]
  },
  {
   "cell_type": "markdown",
   "metadata": {},
   "source": [
    "## Correlation between values."
   ]
  },
  {
   "cell_type": "markdown",
   "metadata": {},
   "source": [
    "### reviews per user and degrees per user"
   ]
  },
  {
   "cell_type": "code",
   "execution_count": 10,
   "metadata": {
    "collapsed": true
   },
   "outputs": [],
   "source": [
    "rev_count = user_df.user_review_count\n",
    "deg_count = degrees.degree"
   ]
  },
  {
   "cell_type": "code",
   "execution_count": 9,
   "metadata": {
    "collapsed": true
   },
   "outputs": [],
   "source": [
    "from scipy.stats.stats import pearsonr"
   ]
  },
  {
   "cell_type": "code",
   "execution_count": 14,
   "metadata": {
    "collapsed": false
   },
   "outputs": [
    {
     "data": {
      "text/plain": [
       "0.48288144800008354"
      ]
     },
     "execution_count": 14,
     "metadata": {},
     "output_type": "execute_result"
    }
   ],
   "source": [
    "pearsonr(rev_count, deg_count)[0]"
   ]
  },
  {
   "cell_type": "markdown",
   "metadata": {},
   "source": [
    "As expected, the more active users are in terms of writing reviews, the more friends those users have. We can clearly see that when we look at those values together."
   ]
  },
  {
   "cell_type": "code",
   "execution_count": 18,
   "metadata": {
    "collapsed": false
   },
   "outputs": [
    {
     "data": {
      "text/plain": [
       "[(108, 206),\n",
       " (1233, 1904),\n",
       " (442, 354),\n",
       " (11, 4),\n",
       " (66, 4),\n",
       " (1589, 1094),\n",
       " (170, 11),\n",
       " (54, 39),\n",
       " (59, 2),\n",
       " (96, 52),\n",
       " (20, 6),\n",
       " (979, 123),\n",
       " (42, 13),\n",
       " (192, 2),\n",
       " (129, 24),\n",
       " (350, 12),\n",
       " (6, 0),\n",
       " (10, 5),\n",
       " (7, 1),\n",
       " (19, 2),\n",
       " (68, 7),\n",
       " (33, 7),\n",
       " (6, 1),\n",
       " (19, 8),\n",
       " (9, 6),\n",
       " (9, 1),\n",
       " (4, 0),\n",
       " (10, 0),\n",
       " (11, 0),\n",
       " (2, 0),\n",
       " (12, 3),\n",
       " (36, 1),\n",
       " (3, 3),\n",
       " (4, 0),\n",
       " (21, 0),\n",
       " (31, 2),\n",
       " (90, 3),\n",
       " (18, 2),\n",
       " (14, 0),\n",
       " (7, 3),\n",
       " (33, 0),\n",
       " (58, 13),\n",
       " (12, 0),\n",
       " (23, 1),\n",
       " (2, 0),\n",
       " (13, 4),\n",
       " (2, 1),\n",
       " (1, 0),\n",
       " (56, 2),\n",
       " (2, 0),\n",
       " (2, 0),\n",
       " (16, 11),\n",
       " (1, 15),\n",
       " (59, 0),\n",
       " (5, 2),\n",
       " (1, 4),\n",
       " (2, 9),\n",
       " (14, 0),\n",
       " (8, 0),\n",
       " (4, 0),\n",
       " (3, 0),\n",
       " (2, 0),\n",
       " (9, 1),\n",
       " (1, 1),\n",
       " (12, 1),\n",
       " (2, 0),\n",
       " (4, 0),\n",
       " (47, 0),\n",
       " (13, 0),\n",
       " (14, 0),\n",
       " (6, 0),\n",
       " (3, 0),\n",
       " (1, 0),\n",
       " (7, 1),\n",
       " (1, 0),\n",
       " (41, 1),\n",
       " (4, 0),\n",
       " (7, 1),\n",
       " (2, 0),\n",
       " (7, 0),\n",
       " (2, 0),\n",
       " (10, 0),\n",
       " (25, 0),\n",
       " (3, 0),\n",
       " (1, 0),\n",
       " (3, 0),\n",
       " (1, 0),\n",
       " (1, 0),\n",
       " (1, 0),\n",
       " (1, 0),\n",
       " (23, 10),\n",
       " (16, 1),\n",
       " (50, 33),\n",
       " (155, 24),\n",
       " (430, 161),\n",
       " (35, 1),\n",
       " (6, 0),\n",
       " (97, 20),\n",
       " (13, 0),\n",
       " (48, 17)]"
      ]
     },
     "execution_count": 18,
     "metadata": {},
     "output_type": "execute_result"
    }
   ],
   "source": [
    "zip(rev_count, deg_count)[:100]"
   ]
  },
  {
   "cell_type": "markdown",
   "metadata": {},
   "source": [
    "## Looking at a small network."
   ]
  },
  {
   "cell_type": "code",
   "execution_count": 19,
   "metadata": {
    "collapsed": true
   },
   "outputs": [],
   "source": [
    "import networkx as nx"
   ]
  },
  {
   "cell_type": "code",
   "execution_count": 21,
   "metadata": {
    "collapsed": true
   },
   "outputs": [],
   "source": [
    "# Reading network info from a file\n",
    "def read_dictlist_from_file(filename, format='csv'):\n",
    "    \"\"\"\n",
    "    Read dictionary data with lists (e.g., network) from a file.\n",
    "    Input:\n",
    "        filename: name of the file.\n",
    "        format: default='csv'\n",
    "    Output:\n",
    "        my_dict: dictionary that contains info\n",
    "            (e.g., my_dict[id] for a network is a list of frineds for id)\n",
    "    \"\"\"\n",
    "    my_dict = {}\n",
    "    with open(filename, 'r') as f:\n",
    "        if format == 'csv':\n",
    "            csv_reader = csv.reader(f, delimiter=',')\n",
    "            for row in csv_reader:\n",
    "                # row is a list of strings.\n",
    "                user_id = int(row.pop(0))\n",
    "                my_dict[user_id] = map(int, row)\n",
    "    return my_dict"
   ]
  },
  {
   "cell_type": "code",
   "execution_count": 22,
   "metadata": {
    "collapsed": true
   },
   "outputs": [],
   "source": [
    "my_graph = read_dictlist_from_file('../data/network3.csv')"
   ]
  },
  {
   "cell_type": "code",
   "execution_count": 64,
   "metadata": {
    "collapsed": false
   },
   "outputs": [],
   "source": [
    "# create the networkx object.\n",
    "gra_nx = nx.Graph()\n",
    "# Adding nodes.\n",
    "gra_nx.add_nodes_from(my_graph.keys())\n",
    "# Adding edges.\n",
    "for node in my_graph:\n",
    "    for friend in my_graph[node]:\n",
    "        if node < friend:\n",
    "            gra_nx.add_edge(node, friend)"
   ]
  },
  {
   "cell_type": "code",
   "execution_count": 66,
   "metadata": {
    "collapsed": false
   },
   "outputs": [],
   "source": [
    "largest_component_set = sorted(nx.connected_components(gra_nx), key=len, reverse=True)[0]"
   ]
  },
  {
   "cell_type": "markdown",
   "metadata": {},
   "source": [
    "### Finding friends of friends for a network of a given city"
   ]
  },
  {
   "cell_type": "code",
   "execution_count": 54,
   "metadata": {
    "collapsed": false
   },
   "outputs": [],
   "source": [
    "city = 0\n",
    "my_graph = read_dictlist_from_file('../data/network' + str(city) + '.csv')"
   ]
  },
  {
   "cell_type": "code",
   "execution_count": 55,
   "metadata": {
    "collapsed": true
   },
   "outputs": [],
   "source": [
    "friends_of_friends = {}\n",
    "for node in my_graph:\n",
    "    friends_of_friends[node] = set(my_graph[node])\n",
    "    for friend1 in my_graph[node]:\n",
    "        for friend2 in my_graph[friend1]:\n",
    "            friends_of_friends[node].add(friend2)"
   ]
  },
  {
   "cell_type": "code",
   "execution_count": 56,
   "metadata": {
    "collapsed": false
   },
   "outputs": [],
   "source": [
    "nff = []\n",
    "for user in friends_of_friends:\n",
    "    nff.append(len(friends_of_friends[user]))"
   ]
  },
  {
   "cell_type": "code",
   "execution_count": 68,
   "metadata": {
    "collapsed": false
   },
   "outputs": [
    {
     "data": {
      "text/plain": [
       "(array([  3.61490000e+04,   4.53700000e+03,   2.31700000e+03,\n",
       "          1.51000000e+03,   9.93000000e+02,   6.52000000e+02,\n",
       "          8.69000000e+02,   6.69000000e+02,   4.47000000e+02,\n",
       "          3.44000000e+02,   2.65000000e+02,   4.71000000e+02,\n",
       "          2.69000000e+02,   3.29000000e+02,   2.42000000e+02,\n",
       "          2.26000000e+02,   2.07000000e+02,   1.61000000e+02,\n",
       "          1.52000000e+02,   1.29000000e+02,   1.21000000e+02,\n",
       "          1.07000000e+02,   7.70000000e+01,   9.40000000e+01,\n",
       "          8.20000000e+01,   6.30000000e+01,   5.10000000e+01,\n",
       "          4.10000000e+01,   5.40000000e+01,   4.40000000e+01,\n",
       "          4.10000000e+01,   2.90000000e+01,   2.70000000e+01,\n",
       "          3.70000000e+01,   2.20000000e+01,   2.10000000e+01,\n",
       "          2.10000000e+01,   2.50000000e+01,   2.00000000e+01,\n",
       "          1.60000000e+01,   1.70000000e+01,   1.10000000e+01,\n",
       "          1.40000000e+01,   9.00000000e+00,   1.10000000e+01,\n",
       "          1.30000000e+01,   1.10000000e+01,   6.00000000e+00,\n",
       "          5.00000000e+00,   4.00000000e+00,   7.00000000e+00,\n",
       "          1.00000000e+01,   4.00000000e+00,   6.00000000e+00,\n",
       "          1.00000000e+00,   2.00000000e+00,   5.00000000e+00,\n",
       "          5.00000000e+00,   5.00000000e+00,   4.00000000e+00,\n",
       "          3.00000000e+00,   2.00000000e+00,   0.00000000e+00,\n",
       "          4.00000000e+00,   2.00000000e+00,   1.00000000e+00,\n",
       "          0.00000000e+00,   1.00000000e+00,   0.00000000e+00,\n",
       "          0.00000000e+00,   1.00000000e+00,   0.00000000e+00,\n",
       "          0.00000000e+00,   1.00000000e+00,   0.00000000e+00,\n",
       "          1.00000000e+00,   1.00000000e+00,   0.00000000e+00,\n",
       "          1.00000000e+00,   1.00000000e+00,   1.00000000e+00,\n",
       "          0.00000000e+00,   0.00000000e+00,   0.00000000e+00,\n",
       "          0.00000000e+00,   0.00000000e+00,   0.00000000e+00,\n",
       "          1.00000000e+00,   0.00000000e+00,   0.00000000e+00,\n",
       "          0.00000000e+00,   0.00000000e+00,   0.00000000e+00,\n",
       "          0.00000000e+00,   0.00000000e+00,   0.00000000e+00,\n",
       "          0.00000000e+00,   1.00000000e+00,   0.00000000e+00,\n",
       "          1.00000000e+00]),\n",
       " array([     0.  ,    177.12,    354.24,    531.36,    708.48,    885.6 ,\n",
       "          1062.72,   1239.84,   1416.96,   1594.08,   1771.2 ,   1948.32,\n",
       "          2125.44,   2302.56,   2479.68,   2656.8 ,   2833.92,   3011.04,\n",
       "          3188.16,   3365.28,   3542.4 ,   3719.52,   3896.64,   4073.76,\n",
       "          4250.88,   4428.  ,   4605.12,   4782.24,   4959.36,   5136.48,\n",
       "          5313.6 ,   5490.72,   5667.84,   5844.96,   6022.08,   6199.2 ,\n",
       "          6376.32,   6553.44,   6730.56,   6907.68,   7084.8 ,   7261.92,\n",
       "          7439.04,   7616.16,   7793.28,   7970.4 ,   8147.52,   8324.64,\n",
       "          8501.76,   8678.88,   8856.  ,   9033.12,   9210.24,   9387.36,\n",
       "          9564.48,   9741.6 ,   9918.72,  10095.84,  10272.96,  10450.08,\n",
       "         10627.2 ,  10804.32,  10981.44,  11158.56,  11335.68,  11512.8 ,\n",
       "         11689.92,  11867.04,  12044.16,  12221.28,  12398.4 ,  12575.52,\n",
       "         12752.64,  12929.76,  13106.88,  13284.  ,  13461.12,  13638.24,\n",
       "         13815.36,  13992.48,  14169.6 ,  14346.72,  14523.84,  14700.96,\n",
       "         14878.08,  15055.2 ,  15232.32,  15409.44,  15586.56,  15763.68,\n",
       "         15940.8 ,  16117.92,  16295.04,  16472.16,  16649.28,  16826.4 ,\n",
       "         17003.52,  17180.64,  17357.76,  17534.88,  17712.  ]),\n",
       " <a list of 100 Patch objects>)"
      ]
     },
     "execution_count": 68,
     "metadata": {},
     "output_type": "execute_result"
    },
    {
     "data": {
      "image/png": "[encoded data removed]",
      "text/plain": [
       "<matplotlib.figure.Figure at 0x167ba26d0>"
      ]
     },
     "metadata": {},
     "output_type": "display_data"
    }
   ],
   "source": [
    "plt.xlim(0,6000)\n",
    "plt.hist(nff, bins=100)"
   ]
  },
  {
   "cell_type": "code",
   "execution_count": null,
   "metadata": {
    "collapsed": true
   },
   "outputs": [],
   "source": []
  }
 ],
 "metadata": {
  "kernelspec": {
   "display_name": "Python 2",
   "language": "python",
   "name": "python2"
  },
  "language_info": {
   "codemirror_mode": {
    "name": "ipython",
    "version": 2
   },
   "file_extension": ".py",
   "mimetype": "text/x-python",
   "name": "python",
   "nbconvert_exporter": "python",
   "pygments_lexer": "ipython2",
   "version": "2.7.9"
  }
 },
 "nbformat": 4,
 "nbformat_minor": 0
}
